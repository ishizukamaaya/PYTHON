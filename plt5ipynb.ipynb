{
  "nbformat": 4,
  "nbformat_minor": 0,
  "metadata": {
    "colab": {
      "name": "plt5ipynb",
      "provenance": [],
      "authorship_tag": "ABX9TyMQkQmR521V0h8RGTVDyjDn",
      "include_colab_link": true
    },
    "kernelspec": {
      "name": "python3",
      "display_name": "Python 3"
    },
    "language_info": {
      "name": "python"
    }
  },
  "cells": [
    {
      "cell_type": "markdown",
      "metadata": {
        "id": "view-in-github",
        "colab_type": "text"
      },
      "source": [
        "<a href=\"https://colab.research.google.com/github/ishizukamaaya/PYTHON/blob/main/plt5ipynb.ipynb\" target=\"_parent\"><img src=\"https://colab.research.google.com/assets/colab-badge.svg\" alt=\"Open In Colab\"/></a>"
      ]
    },
    {
      "cell_type": "code",
      "metadata": {
        "id": "LV0SiRR-dxio"
      },
      "source": [
        "import matplotlib.pyplot as plt\n",
        "import matplotlib.dates as dt\n",
        "import pandas as pd\n",
        "%matplotlib inline"
      ],
      "execution_count": 3,
      "outputs": []
    },
    {
      "cell_type": "code",
      "metadata": {
        "colab": {
          "base_uri": "https://localhost:8080/"
        },
        "id": "VZLh5x6Jdyhb",
        "outputId": "c4f31e33-6c53-474a-e4dd-8ecd9743f201"
      },
      "source": [
        "from google.colab import drive\n",
        "drive.mount('/content/drive')"
      ],
      "execution_count": 4,
      "outputs": [
        {
          "output_type": "stream",
          "name": "stdout",
          "text": [
            "Mounted at /content/drive\n"
          ]
        }
      ]
    },
    {
      "cell_type": "code",
      "metadata": {
        "id": "GvJjO8J_d2mC"
      },
      "source": [
        "df = pd.read_csv('/content/drive/My Drive/sample.csv')"
      ],
      "execution_count": 5,
      "outputs": []
    },
    {
      "cell_type": "code",
      "metadata": {
        "colab": {
          "base_uri": "https://localhost:8080/",
          "height": 204
        },
        "id": "YNK51-96gRWa",
        "outputId": "d48549e7-ea14-4c23-b3ca-5486c98ac9c9"
      },
      "source": [
        "df.head()"
      ],
      "execution_count": 6,
      "outputs": [
        {
          "output_type": "execute_result",
          "data": {
            "text/html": [
              "<div>\n",
              "<style scoped>\n",
              "    .dataframe tbody tr th:only-of-type {\n",
              "        vertical-align: middle;\n",
              "    }\n",
              "\n",
              "    .dataframe tbody tr th {\n",
              "        vertical-align: top;\n",
              "    }\n",
              "\n",
              "    .dataframe thead th {\n",
              "        text-align: right;\n",
              "    }\n",
              "</style>\n",
              "<table border=\"1\" class=\"dataframe\">\n",
              "  <thead>\n",
              "    <tr style=\"text-align: right;\">\n",
              "      <th></th>\n",
              "      <th>売上日</th>\n",
              "      <th>社員ID</th>\n",
              "      <th>商品分類</th>\n",
              "      <th>商品名</th>\n",
              "      <th>単価</th>\n",
              "      <th>数量</th>\n",
              "      <th>売上金額</th>\n",
              "    </tr>\n",
              "  </thead>\n",
              "  <tbody>\n",
              "    <tr>\n",
              "      <th>0</th>\n",
              "      <td>2020-01-04</td>\n",
              "      <td>a023</td>\n",
              "      <td>ボトムス</td>\n",
              "      <td>ロングパンツ</td>\n",
              "      <td>7000</td>\n",
              "      <td>8</td>\n",
              "      <td>56000</td>\n",
              "    </tr>\n",
              "    <tr>\n",
              "      <th>1</th>\n",
              "      <td>2020-01-05</td>\n",
              "      <td>a003</td>\n",
              "      <td>ボトムス</td>\n",
              "      <td>ジーンズ</td>\n",
              "      <td>6000</td>\n",
              "      <td>10</td>\n",
              "      <td>60000</td>\n",
              "    </tr>\n",
              "    <tr>\n",
              "      <th>2</th>\n",
              "      <td>2020-01-05</td>\n",
              "      <td>a052</td>\n",
              "      <td>アウター</td>\n",
              "      <td>ジャケット</td>\n",
              "      <td>10000</td>\n",
              "      <td>7</td>\n",
              "      <td>70000</td>\n",
              "    </tr>\n",
              "    <tr>\n",
              "      <th>3</th>\n",
              "      <td>2020-01-06</td>\n",
              "      <td>a003</td>\n",
              "      <td>ボトムス</td>\n",
              "      <td>ロングパンツ</td>\n",
              "      <td>7000</td>\n",
              "      <td>10</td>\n",
              "      <td>70000</td>\n",
              "    </tr>\n",
              "    <tr>\n",
              "      <th>4</th>\n",
              "      <td>2020-01-07</td>\n",
              "      <td>a036</td>\n",
              "      <td>ボトムス</td>\n",
              "      <td>ロングパンツ</td>\n",
              "      <td>7000</td>\n",
              "      <td>2</td>\n",
              "      <td>14000</td>\n",
              "    </tr>\n",
              "  </tbody>\n",
              "</table>\n",
              "</div>"
            ],
            "text/plain": [
              "          売上日  社員ID  商品分類     商品名     単価  数量   売上金額\n",
              "0  2020-01-04  a023  ボトムス  ロングパンツ   7000   8  56000\n",
              "1  2020-01-05  a003  ボトムス    ジーンズ   6000  10  60000\n",
              "2  2020-01-05  a052  アウター   ジャケット  10000   7  70000\n",
              "3  2020-01-06  a003  ボトムス  ロングパンツ   7000  10  70000\n",
              "4  2020-01-07  a036  ボトムス  ロングパンツ   7000   2  14000"
            ]
          },
          "metadata": {},
          "execution_count": 6
        }
      ]
    },
    {
      "cell_type": "code",
      "metadata": {
        "colab": {
          "base_uri": "https://localhost:8080/"
        },
        "id": "qMPJQcx-gaBE",
        "outputId": "f5e5336a-49fa-4a89-8f28-e66d19bc0bfc"
      },
      "source": [
        "df.info()"
      ],
      "execution_count": 7,
      "outputs": [
        {
          "output_type": "stream",
          "name": "stdout",
          "text": [
            "<class 'pandas.core.frame.DataFrame'>\n",
            "RangeIndex: 224 entries, 0 to 223\n",
            "Data columns (total 7 columns):\n",
            " #   Column  Non-Null Count  Dtype \n",
            "---  ------  --------------  ----- \n",
            " 0   売上日     224 non-null    object\n",
            " 1   社員ID    224 non-null    object\n",
            " 2   商品分類    224 non-null    object\n",
            " 3   商品名     224 non-null    object\n",
            " 4   単価      224 non-null    int64 \n",
            " 5   数量      224 non-null    int64 \n",
            " 6   売上金額    224 non-null    int64 \n",
            "dtypes: int64(3), object(4)\n",
            "memory usage: 12.4+ KB\n"
          ]
        }
      ]
    },
    {
      "cell_type": "code",
      "metadata": {
        "id": "0e658Yucgff9"
      },
      "source": [
        "df['売上日'] = pd.to_datetime(df['売上日'])"
      ],
      "execution_count": 8,
      "outputs": []
    },
    {
      "cell_type": "code",
      "metadata": {
        "colab": {
          "base_uri": "https://localhost:8080/"
        },
        "id": "i99VVkuCguAt",
        "outputId": "f3bd8dd9-5ff6-41c3-ad53-9aad3c1e3bae"
      },
      "source": [
        "df.info()"
      ],
      "execution_count": 9,
      "outputs": [
        {
          "output_type": "stream",
          "name": "stdout",
          "text": [
            "<class 'pandas.core.frame.DataFrame'>\n",
            "RangeIndex: 224 entries, 0 to 223\n",
            "Data columns (total 7 columns):\n",
            " #   Column  Non-Null Count  Dtype         \n",
            "---  ------  --------------  -----         \n",
            " 0   売上日     224 non-null    datetime64[ns]\n",
            " 1   社員ID    224 non-null    object        \n",
            " 2   商品分類    224 non-null    object        \n",
            " 3   商品名     224 non-null    object        \n",
            " 4   単価      224 non-null    int64         \n",
            " 5   数量      224 non-null    int64         \n",
            " 6   売上金額    224 non-null    int64         \n",
            "dtypes: datetime64[ns](1), int64(3), object(3)\n",
            "memory usage: 12.4+ KB\n"
          ]
        }
      ]
    },
    {
      "cell_type": "code",
      "metadata": {
        "colab": {
          "base_uri": "https://localhost:8080/",
          "height": 235
        },
        "id": "nQgc7oSPgvrV",
        "outputId": "120b4799-9e69-420b-95a2-57b02971cc2d"
      },
      "source": [
        "df2 = df.set_index('売上日')\n",
        "df2.head()"
      ],
      "execution_count": 10,
      "outputs": [
        {
          "output_type": "execute_result",
          "data": {
            "text/html": [
              "<div>\n",
              "<style scoped>\n",
              "    .dataframe tbody tr th:only-of-type {\n",
              "        vertical-align: middle;\n",
              "    }\n",
              "\n",
              "    .dataframe tbody tr th {\n",
              "        vertical-align: top;\n",
              "    }\n",
              "\n",
              "    .dataframe thead th {\n",
              "        text-align: right;\n",
              "    }\n",
              "</style>\n",
              "<table border=\"1\" class=\"dataframe\">\n",
              "  <thead>\n",
              "    <tr style=\"text-align: right;\">\n",
              "      <th></th>\n",
              "      <th>社員ID</th>\n",
              "      <th>商品分類</th>\n",
              "      <th>商品名</th>\n",
              "      <th>単価</th>\n",
              "      <th>数量</th>\n",
              "      <th>売上金額</th>\n",
              "    </tr>\n",
              "    <tr>\n",
              "      <th>売上日</th>\n",
              "      <th></th>\n",
              "      <th></th>\n",
              "      <th></th>\n",
              "      <th></th>\n",
              "      <th></th>\n",
              "      <th></th>\n",
              "    </tr>\n",
              "  </thead>\n",
              "  <tbody>\n",
              "    <tr>\n",
              "      <th>2020-01-04</th>\n",
              "      <td>a023</td>\n",
              "      <td>ボトムス</td>\n",
              "      <td>ロングパンツ</td>\n",
              "      <td>7000</td>\n",
              "      <td>8</td>\n",
              "      <td>56000</td>\n",
              "    </tr>\n",
              "    <tr>\n",
              "      <th>2020-01-05</th>\n",
              "      <td>a003</td>\n",
              "      <td>ボトムス</td>\n",
              "      <td>ジーンズ</td>\n",
              "      <td>6000</td>\n",
              "      <td>10</td>\n",
              "      <td>60000</td>\n",
              "    </tr>\n",
              "    <tr>\n",
              "      <th>2020-01-05</th>\n",
              "      <td>a052</td>\n",
              "      <td>アウター</td>\n",
              "      <td>ジャケット</td>\n",
              "      <td>10000</td>\n",
              "      <td>7</td>\n",
              "      <td>70000</td>\n",
              "    </tr>\n",
              "    <tr>\n",
              "      <th>2020-01-06</th>\n",
              "      <td>a003</td>\n",
              "      <td>ボトムス</td>\n",
              "      <td>ロングパンツ</td>\n",
              "      <td>7000</td>\n",
              "      <td>10</td>\n",
              "      <td>70000</td>\n",
              "    </tr>\n",
              "    <tr>\n",
              "      <th>2020-01-07</th>\n",
              "      <td>a036</td>\n",
              "      <td>ボトムス</td>\n",
              "      <td>ロングパンツ</td>\n",
              "      <td>7000</td>\n",
              "      <td>2</td>\n",
              "      <td>14000</td>\n",
              "    </tr>\n",
              "  </tbody>\n",
              "</table>\n",
              "</div>"
            ],
            "text/plain": [
              "            社員ID  商品分類     商品名     単価  数量   売上金額\n",
              "売上日                                             \n",
              "2020-01-04  a023  ボトムス  ロングパンツ   7000   8  56000\n",
              "2020-01-05  a003  ボトムス    ジーンズ   6000  10  60000\n",
              "2020-01-05  a052  アウター   ジャケット  10000   7  70000\n",
              "2020-01-06  a003  ボトムス  ロングパンツ   7000  10  70000\n",
              "2020-01-07  a036  ボトムス  ロングパンツ   7000   2  14000"
            ]
          },
          "metadata": {},
          "execution_count": 10
        }
      ]
    },
    {
      "cell_type": "code",
      "metadata": {
        "colab": {
          "base_uri": "https://localhost:8080/",
          "height": 452
        },
        "id": "wFjGnNo8hBFn",
        "outputId": "c63e8010-5940-42b2-e596-5e151337da12"
      },
      "source": [
        "sum_df = df2[['売上金額']].resample('M').sum()\n",
        "sum_df"
      ],
      "execution_count": 12,
      "outputs": [
        {
          "output_type": "execute_result",
          "data": {
            "text/html": [
              "<div>\n",
              "<style scoped>\n",
              "    .dataframe tbody tr th:only-of-type {\n",
              "        vertical-align: middle;\n",
              "    }\n",
              "\n",
              "    .dataframe tbody tr th {\n",
              "        vertical-align: top;\n",
              "    }\n",
              "\n",
              "    .dataframe thead th {\n",
              "        text-align: right;\n",
              "    }\n",
              "</style>\n",
              "<table border=\"1\" class=\"dataframe\">\n",
              "  <thead>\n",
              "    <tr style=\"text-align: right;\">\n",
              "      <th></th>\n",
              "      <th>売上金額</th>\n",
              "    </tr>\n",
              "    <tr>\n",
              "      <th>売上日</th>\n",
              "      <th></th>\n",
              "    </tr>\n",
              "  </thead>\n",
              "  <tbody>\n",
              "    <tr>\n",
              "      <th>2020-01-31</th>\n",
              "      <td>742000</td>\n",
              "    </tr>\n",
              "    <tr>\n",
              "      <th>2020-02-29</th>\n",
              "      <td>517000</td>\n",
              "    </tr>\n",
              "    <tr>\n",
              "      <th>2020-03-31</th>\n",
              "      <td>625000</td>\n",
              "    </tr>\n",
              "    <tr>\n",
              "      <th>2020-04-30</th>\n",
              "      <td>511000</td>\n",
              "    </tr>\n",
              "    <tr>\n",
              "      <th>2020-05-31</th>\n",
              "      <td>555000</td>\n",
              "    </tr>\n",
              "    <tr>\n",
              "      <th>2020-06-30</th>\n",
              "      <td>958000</td>\n",
              "    </tr>\n",
              "    <tr>\n",
              "      <th>2020-07-31</th>\n",
              "      <td>883000</td>\n",
              "    </tr>\n",
              "    <tr>\n",
              "      <th>2020-08-31</th>\n",
              "      <td>1395000</td>\n",
              "    </tr>\n",
              "    <tr>\n",
              "      <th>2020-09-30</th>\n",
              "      <td>800000</td>\n",
              "    </tr>\n",
              "    <tr>\n",
              "      <th>2020-10-31</th>\n",
              "      <td>589000</td>\n",
              "    </tr>\n",
              "    <tr>\n",
              "      <th>2020-11-30</th>\n",
              "      <td>1252000</td>\n",
              "    </tr>\n",
              "    <tr>\n",
              "      <th>2020-12-31</th>\n",
              "      <td>852000</td>\n",
              "    </tr>\n",
              "  </tbody>\n",
              "</table>\n",
              "</div>"
            ],
            "text/plain": [
              "               売上金額\n",
              "売上日                \n",
              "2020-01-31   742000\n",
              "2020-02-29   517000\n",
              "2020-03-31   625000\n",
              "2020-04-30   511000\n",
              "2020-05-31   555000\n",
              "2020-06-30   958000\n",
              "2020-07-31   883000\n",
              "2020-08-31  1395000\n",
              "2020-09-30   800000\n",
              "2020-10-31   589000\n",
              "2020-11-30  1252000\n",
              "2020-12-31   852000"
            ]
          },
          "metadata": {},
          "execution_count": 12
        }
      ]
    },
    {
      "cell_type": "code",
      "metadata": {
        "id": "uraetF1_hZJz"
      },
      "source": [
        "volume =sum_df['売上金額']\n",
        "date = sum_df.index"
      ],
      "execution_count": 13,
      "outputs": []
    },
    {
      "cell_type": "code",
      "metadata": {
        "colab": {
          "base_uri": "https://localhost:8080/",
          "height": 385
        },
        "id": "aFjcqxIPhqcD",
        "outputId": "6d7bf699-7608-4a52-eefe-f2128dda7d22"
      },
      "source": [
        "plt.figure(figsize=(9,6))\n",
        "plt.bar(date,volume,width=20)\n",
        "plt.show()"
      ],
      "execution_count": 15,
      "outputs": [
        {
          "output_type": "display_data",
          "data": {
            "image/png": "[encoded data removed]",
            "text/plain": [
              "<Figure size 648x432 with 1 Axes>"
            ]
          },
          "metadata": {
            "needs_background": "light"
          }
        }
      ]
    },
    {
      "cell_type": "code",
      "metadata": {
        "colab": {
          "base_uri": "https://localhost:8080/",
          "height": 385
        },
        "id": "jpWKY8xAiNEj",
        "outputId": "c407948e-8eee-472a-9ca6-4bad16168b71"
      },
      "source": [
        "plt.figure(figsize=(9,6))\n",
        "ax = plt.subplot()\n",
        "\n",
        "ax.bar(date,volume,width=20)\n",
        "ax.set_xticks(date)\n",
        "ax.xaxis.set_major_formatter(dt.DateFormatter(\"%b\"))\n",
        "plt.show()"
      ],
      "execution_count": 18,
      "outputs": [
        {
          "output_type": "display_data",
          "data": {
            "image/png": "[encoded data removed]",
            "text/plain": [
              "<Figure size 648x432 with 1 Axes>"
            ]
          },
          "metadata": {
            "needs_background": "light"
          }
        }
      ]
    },
    {
      "cell_type": "code",
      "metadata": {
        "colab": {
          "base_uri": "https://localhost:8080/"
        },
        "id": "q9K_wfXujL3i",
        "outputId": "85df7b14-e63d-4582-f1ba-03faf2ac2133"
      },
      "source": [
        "!pip install japanize_matplotlib"
      ],
      "execution_count": 19,
      "outputs": [
        {
          "output_type": "stream",
          "name": "stdout",
          "text": [
            "Collecting japanize_matplotlib\n",
            "  Downloading japanize-matplotlib-1.1.3.tar.gz (4.1 MB)\n",
            "\u001b[K     |████████████████████████████████| 4.1 MB 15.2 MB/s \n",
            "\u001b[?25hRequirement already satisfied: matplotlib in /usr/local/lib/python3.7/dist-packages (from japanize_matplotlib) (3.2.2)\n",
            "Requirement already satisfied: cycler>=0.10 in /usr/local/lib/python3.7/dist-packages (from matplotlib->japanize_matplotlib) (0.11.0)\n",
            "Requirement already satisfied: python-dateutil>=2.1 in /usr/local/lib/python3.7/dist-packages (from matplotlib->japanize_matplotlib) (2.8.2)\n",
            "Requirement already satisfied: kiwisolver>=1.0.1 in /usr/local/lib/python3.7/dist-packages (from matplotlib->japanize_matplotlib) (1.3.2)\n",
            "Requirement already satisfied: numpy>=1.11 in /usr/local/lib/python3.7/dist-packages (from matplotlib->japanize_matplotlib) (1.19.5)\n",
            "Requirement already satisfied: pyparsing!=2.0.4,!=2.1.2,!=2.1.6,>=2.0.1 in /usr/local/lib/python3.7/dist-packages (from matplotlib->japanize_matplotlib) (2.4.7)\n",
            "Requirement already satisfied: six>=1.5 in /usr/local/lib/python3.7/dist-packages (from python-dateutil>=2.1->matplotlib->japanize_matplotlib) (1.15.0)\n",
            "Building wheels for collected packages: japanize-matplotlib\n",
            "  Building wheel for japanize-matplotlib (setup.py) ... \u001b[?25l\u001b[?25hdone\n",
            "  Created wheel for japanize-matplotlib: filename=japanize_matplotlib-1.1.3-py3-none-any.whl size=4120274 sha256=a06829047e575e3f9525aa4dce9080290f3159eac570518e71599b15be41576c\n",
            "  Stored in directory: /root/.cache/pip/wheels/83/97/6b/e9e0cde099cc40f972b8dd23367308f7705ae06cd6d4714658\n",
            "Successfully built japanize-matplotlib\n",
            "Installing collected packages: japanize-matplotlib\n",
            "Successfully installed japanize-matplotlib-1.1.3\n"
          ]
        }
      ]
    },
    {
      "cell_type": "code",
      "metadata": {
        "id": "BtGZf4U5jhin"
      },
      "source": [
        "import japanize_matplotlib"
      ],
      "execution_count": 21,
      "outputs": []
    },
    {
      "cell_type": "code",
      "metadata": {
        "colab": {
          "base_uri": "https://localhost:8080/",
          "height": 411
        },
        "id": "TDKnJz_ajpVU",
        "outputId": "a2db2e81-bf4d-4061-e2fc-0f0a23757cfd"
      },
      "source": [
        "plt.figure(figsize=(9,6))\n",
        "ax = plt.subplot()\n",
        "\n",
        "ax.bar(date,volume,width=20, color='darkcyan')\n",
        "ax.set_xticks(date)\n",
        "ax.xaxis.set_major_formatter(dt.DateFormatter(\"%b\"))\n",
        "ax.set_title('月別売上金額', fontsize=18)\n",
        "ax.set_xlabel('月',fontsize=15)\n",
        "ax.set_ylabel('売上金額(円)',fontsize=15)\n",
        "plt.show()"
      ],
      "execution_count": 22,
      "outputs": [
        {
          "output_type": "display_data",
          "data": {
            "image/png": "[encoded data removed]",
            "text/plain": [
              "<Figure size 648x432 with 1 Axes>"
            ]
          },
          "metadata": {
            "needs_background": "light"
          }
        }
      ]
    },
    {
      "cell_type": "code",
      "metadata": {
        "colab": {
          "base_uri": "https://localhost:8080/",
          "height": 297
        },
        "id": "Np_WPGSPk_Pg",
        "outputId": "8618a360-ee8e-4846-8e80-0a93b6db6f95"
      },
      "source": [
        "df_name = df[['社員ID','売上金額']].groupby('社員ID').sum()\n",
        "df_name"
      ],
      "execution_count": 26,
      "outputs": [
        {
          "output_type": "execute_result",
          "data": {
            "text/html": [
              "<div>\n",
              "<style scoped>\n",
              "    .dataframe tbody tr th:only-of-type {\n",
              "        vertical-align: middle;\n",
              "    }\n",
              "\n",
              "    .dataframe tbody tr th {\n",
              "        vertical-align: top;\n",
              "    }\n",
              "\n",
              "    .dataframe thead th {\n",
              "        text-align: right;\n",
              "    }\n",
              "</style>\n",
              "<table border=\"1\" class=\"dataframe\">\n",
              "  <thead>\n",
              "    <tr style=\"text-align: right;\">\n",
              "      <th></th>\n",
              "      <th>売上金額</th>\n",
              "    </tr>\n",
              "    <tr>\n",
              "      <th>社員ID</th>\n",
              "      <th></th>\n",
              "    </tr>\n",
              "  </thead>\n",
              "  <tbody>\n",
              "    <tr>\n",
              "      <th>a003</th>\n",
              "      <td>2469000</td>\n",
              "    </tr>\n",
              "    <tr>\n",
              "      <th>a013</th>\n",
              "      <td>1687000</td>\n",
              "    </tr>\n",
              "    <tr>\n",
              "      <th>a023</th>\n",
              "      <td>1800000</td>\n",
              "    </tr>\n",
              "    <tr>\n",
              "      <th>a036</th>\n",
              "      <td>1439000</td>\n",
              "    </tr>\n",
              "    <tr>\n",
              "      <th>a047</th>\n",
              "      <td>1348000</td>\n",
              "    </tr>\n",
              "    <tr>\n",
              "      <th>a051</th>\n",
              "      <td>547000</td>\n",
              "    </tr>\n",
              "    <tr>\n",
              "      <th>a052</th>\n",
              "      <td>389000</td>\n",
              "    </tr>\n",
              "  </tbody>\n",
              "</table>\n",
              "</div>"
            ],
            "text/plain": [
              "         売上金額\n",
              "社員ID         \n",
              "a003  2469000\n",
              "a013  1687000\n",
              "a023  1800000\n",
              "a036  1439000\n",
              "a047  1348000\n",
              "a051   547000\n",
              "a052   389000"
            ]
          },
          "metadata": {},
          "execution_count": 26
        }
      ]
    },
    {
      "cell_type": "markdown",
      "metadata": {
        "id": "B9YbYH8KlKRh"
      },
      "source": [
        ""
      ]
    },
    {
      "cell_type": "code",
      "metadata": {
        "colab": {
          "base_uri": "https://localhost:8080/",
          "height": 274
        },
        "id": "ga_WzLC0mbJt",
        "outputId": "29ab5d83-f2e1-4bb4-b016-abd237632f15"
      },
      "source": [
        "volume = df_name['売上金額']\n",
        "labels = df_name.index\n",
        "plt.bar(labels,volume)\n",
        "plt.show()"
      ],
      "execution_count": 28,
      "outputs": [
        {
          "output_type": "display_data",
          "data": {
            "image/png": "[encoded data removed]",
            "text/plain": [
              "<Figure size 432x288 with 1 Axes>"
            ]
          },
          "metadata": {
            "needs_background": "light"
          }
        }
      ]
    },
    {
      "cell_type": "code",
      "metadata": {
        "colab": {
          "base_uri": "https://localhost:8080/",
          "height": 274
        },
        "id": "MNwoozc8m5LY",
        "outputId": "26fe3e7f-b18e-42e3-a883-995b7cdf511d"
      },
      "source": [
        "plt.bar(labels,volume,width=0.5)\n",
        "plt.show()"
      ],
      "execution_count": 30,
      "outputs": [
        {
          "output_type": "display_data",
          "data": {
            "image/png": "[encoded data removed]",
            "text/plain": [
              "<Figure size 432x288 with 1 Axes>"
            ]
          },
          "metadata": {
            "needs_background": "light"
          }
        }
      ]
    },
    {
      "cell_type": "code",
      "metadata": {
        "colab": {
          "base_uri": "https://localhost:8080/",
          "height": 298
        },
        "id": "uzfaf9cgnLVQ",
        "outputId": "f8dbdc00-cd8a-4fd9-d3a1-4ccfc371717b"
      },
      "source": [
        "plt.bar(labels,volume,width=0.5)\n",
        "plt.xlabel('氏名',fontsize=12)\n",
        "plt.ylabel('合計',fontsize=12)\n",
        "plt.title('氏名別売上金額',fontsize=16)\n",
        "plt.show()"
      ],
      "execution_count": 31,
      "outputs": [
        {
          "output_type": "display_data",
          "data": {
            "image/png": "[encoded data removed]",
            "text/plain": [
              "<Figure size 432x288 with 1 Axes>"
            ]
          },
          "metadata": {
            "needs_background": "light"
          }
        }
      ]
    },
    {
      "cell_type": "code",
      "metadata": {
        "colab": {
          "base_uri": "https://localhost:8080/",
          "height": 298
        },
        "id": "k9GKM3fgnlXr",
        "outputId": "52c7715e-226d-437e-ce18-13cff8fc05d6"
      },
      "source": [
        "plt.bar(labels,volume,width=0.5, color='r')\n",
        "plt.xlabel('name',fontsize=12)\n",
        "plt.ylabel('total',fontsize=12)\n",
        "plt.title('氏名別売上金額',fontsize=16)\n",
        "plt.show()"
      ],
      "execution_count": 33,
      "outputs": [
        {
          "output_type": "display_data",
          "data": {
            "image/png": "[encoded data removed]",
            "text/plain": [
              "<Figure size 432x288 with 1 Axes>"
            ]
          },
          "metadata": {
            "needs_background": "light"
          }
        }
      ]
    },
    {
      "cell_type": "code",
      "metadata": {
        "colab": {
          "base_uri": "https://localhost:8080/",
          "height": 407
        },
        "id": "U6B2V4INntze",
        "outputId": "0b20e7b1-3266-42c0-b28d-d60ebccdce6a"
      },
      "source": [
        "plt.figure(figsize=(9,6))\n",
        "plt.bar(labels,volume,width=0.5, color='r')\n",
        "plt.xlabel('name',fontsize=12)\n",
        "plt.ylabel('total',fontsize=12)\n",
        "plt.title('氏名別売上金額',fontsize=16)\n",
        "plt.show()"
      ],
      "execution_count": 35,
      "outputs": [
        {
          "output_type": "display_data",
          "data": {
            "image/png": "[encoded data removed]",
            "text/plain": [
              "<Figure size 648x432 with 1 Axes>"
            ]
          },
          "metadata": {
            "needs_background": "light"
          }
        }
      ]
    },
    {
      "cell_type": "code",
      "metadata": {
        "colab": {
          "base_uri": "https://localhost:8080/",
          "height": 407
        },
        "id": "gKX1h5y1oADM",
        "outputId": "ccdadc42-5f6b-424d-b40f-bbbcafdd16db"
      },
      "source": [
        "plt.figure(figsize=(9,6))\n",
        "plt.barh(labels,volume,height=0.5, color='r')\n",
        "plt.xlabel('name',fontsize=12)\n",
        "plt.ylabel('total',fontsize=12)\n",
        "plt.title('氏名別売上金額',fontsize=16)\n",
        "plt.show()"
      ],
      "execution_count": 36,
      "outputs": [
        {
          "output_type": "display_data",
          "data": {
            "image/png": "[encoded data removed]",
            "text/plain": [
              "<Figure size 648x432 with 1 Axes>"
            ]
          },
          "metadata": {
            "needs_background": "light"
          }
        }
      ]
    },
    {
      "cell_type": "code",
      "metadata": {
        "colab": {
          "base_uri": "https://localhost:8080/",
          "height": 731
        },
        "id": "ee11Zsg_oOyW",
        "outputId": "aa0e2c86-f835-4ab3-8bef-2b80fe35959b"
      },
      "source": [
        "df_name2 = df[['社員ID','商品分類','売上金額']].groupby(['社員ID','商品分類']).sum()\n",
        "df_name2"
      ],
      "execution_count": 37,
      "outputs": [
        {
          "output_type": "execute_result",
          "data": {
            "text/html": [
              "<div>\n",
              "<style scoped>\n",
              "    .dataframe tbody tr th:only-of-type {\n",
              "        vertical-align: middle;\n",
              "    }\n",
              "\n",
              "    .dataframe tbody tr th {\n",
              "        vertical-align: top;\n",
              "    }\n",
              "\n",
              "    .dataframe thead th {\n",
              "        text-align: right;\n",
              "    }\n",
              "</style>\n",
              "<table border=\"1\" class=\"dataframe\">\n",
              "  <thead>\n",
              "    <tr style=\"text-align: right;\">\n",
              "      <th></th>\n",
              "      <th></th>\n",
              "      <th>売上金額</th>\n",
              "    </tr>\n",
              "    <tr>\n",
              "      <th>社員ID</th>\n",
              "      <th>商品分類</th>\n",
              "      <th></th>\n",
              "    </tr>\n",
              "  </thead>\n",
              "  <tbody>\n",
              "    <tr>\n",
              "      <th rowspan=\"3\" valign=\"top\">a003</th>\n",
              "      <th>アウター</th>\n",
              "      <td>1022000</td>\n",
              "    </tr>\n",
              "    <tr>\n",
              "      <th>トップス</th>\n",
              "      <td>564000</td>\n",
              "    </tr>\n",
              "    <tr>\n",
              "      <th>ボトムス</th>\n",
              "      <td>883000</td>\n",
              "    </tr>\n",
              "    <tr>\n",
              "      <th rowspan=\"3\" valign=\"top\">a013</th>\n",
              "      <th>アウター</th>\n",
              "      <td>464000</td>\n",
              "    </tr>\n",
              "    <tr>\n",
              "      <th>トップス</th>\n",
              "      <td>340000</td>\n",
              "    </tr>\n",
              "    <tr>\n",
              "      <th>ボトムス</th>\n",
              "      <td>883000</td>\n",
              "    </tr>\n",
              "    <tr>\n",
              "      <th rowspan=\"3\" valign=\"top\">a023</th>\n",
              "      <th>アウター</th>\n",
              "      <td>918000</td>\n",
              "    </tr>\n",
              "    <tr>\n",
              "      <th>トップス</th>\n",
              "      <td>424000</td>\n",
              "    </tr>\n",
              "    <tr>\n",
              "      <th>ボトムス</th>\n",
              "      <td>458000</td>\n",
              "    </tr>\n",
              "    <tr>\n",
              "      <th rowspan=\"3\" valign=\"top\">a036</th>\n",
              "      <th>アウター</th>\n",
              "      <td>786000</td>\n",
              "    </tr>\n",
              "    <tr>\n",
              "      <th>トップス</th>\n",
              "      <td>292000</td>\n",
              "    </tr>\n",
              "    <tr>\n",
              "      <th>ボトムス</th>\n",
              "      <td>361000</td>\n",
              "    </tr>\n",
              "    <tr>\n",
              "      <th rowspan=\"3\" valign=\"top\">a047</th>\n",
              "      <th>アウター</th>\n",
              "      <td>636000</td>\n",
              "    </tr>\n",
              "    <tr>\n",
              "      <th>トップス</th>\n",
              "      <td>296000</td>\n",
              "    </tr>\n",
              "    <tr>\n",
              "      <th>ボトムス</th>\n",
              "      <td>416000</td>\n",
              "    </tr>\n",
              "    <tr>\n",
              "      <th rowspan=\"3\" valign=\"top\">a051</th>\n",
              "      <th>アウター</th>\n",
              "      <td>358000</td>\n",
              "    </tr>\n",
              "    <tr>\n",
              "      <th>トップス</th>\n",
              "      <td>48000</td>\n",
              "    </tr>\n",
              "    <tr>\n",
              "      <th>ボトムス</th>\n",
              "      <td>141000</td>\n",
              "    </tr>\n",
              "    <tr>\n",
              "      <th rowspan=\"3\" valign=\"top\">a052</th>\n",
              "      <th>アウター</th>\n",
              "      <td>202000</td>\n",
              "    </tr>\n",
              "    <tr>\n",
              "      <th>トップス</th>\n",
              "      <td>152000</td>\n",
              "    </tr>\n",
              "    <tr>\n",
              "      <th>ボトムス</th>\n",
              "      <td>35000</td>\n",
              "    </tr>\n",
              "  </tbody>\n",
              "</table>\n",
              "</div>"
            ],
            "text/plain": [
              "              売上金額\n",
              "社員ID 商品分類         \n",
              "a003 アウター  1022000\n",
              "     トップス   564000\n",
              "     ボトムス   883000\n",
              "a013 アウター   464000\n",
              "     トップス   340000\n",
              "     ボトムス   883000\n",
              "a023 アウター   918000\n",
              "     トップス   424000\n",
              "     ボトムス   458000\n",
              "a036 アウター   786000\n",
              "     トップス   292000\n",
              "     ボトムス   361000\n",
              "a047 アウター   636000\n",
              "     トップス   296000\n",
              "     ボトムス   416000\n",
              "a051 アウター   358000\n",
              "     トップス    48000\n",
              "     ボトムス   141000\n",
              "a052 アウター   202000\n",
              "     トップス   152000\n",
              "     ボトムス    35000"
            ]
          },
          "metadata": {},
          "execution_count": 37
        }
      ]
    },
    {
      "cell_type": "code",
      "metadata": {
        "colab": {
          "base_uri": "https://localhost:8080/",
          "height": 328
        },
        "id": "MJnQm3M3qrH4",
        "outputId": "a56ea8d7-8b24-4134-8d48-450855b0d08f"
      },
      "source": [
        "df_name2 = df_name2.unstack()\n",
        "df_name2 "
      ],
      "execution_count": 38,
      "outputs": [
        {
          "output_type": "execute_result",
          "data": {
            "text/html": [
              "<div>\n",
              "<style scoped>\n",
              "    .dataframe tbody tr th:only-of-type {\n",
              "        vertical-align: middle;\n",
              "    }\n",
              "\n",
              "    .dataframe tbody tr th {\n",
              "        vertical-align: top;\n",
              "    }\n",
              "\n",
              "    .dataframe thead tr th {\n",
              "        text-align: left;\n",
              "    }\n",
              "\n",
              "    .dataframe thead tr:last-of-type th {\n",
              "        text-align: right;\n",
              "    }\n",
              "</style>\n",
              "<table border=\"1\" class=\"dataframe\">\n",
              "  <thead>\n",
              "    <tr>\n",
              "      <th></th>\n",
              "      <th colspan=\"3\" halign=\"left\">売上金額</th>\n",
              "    </tr>\n",
              "    <tr>\n",
              "      <th>商品分類</th>\n",
              "      <th>アウター</th>\n",
              "      <th>トップス</th>\n",
              "      <th>ボトムス</th>\n",
              "    </tr>\n",
              "    <tr>\n",
              "      <th>社員ID</th>\n",
              "      <th></th>\n",
              "      <th></th>\n",
              "      <th></th>\n",
              "    </tr>\n",
              "  </thead>\n",
              "  <tbody>\n",
              "    <tr>\n",
              "      <th>a003</th>\n",
              "      <td>1022000</td>\n",
              "      <td>564000</td>\n",
              "      <td>883000</td>\n",
              "    </tr>\n",
              "    <tr>\n",
              "      <th>a013</th>\n",
              "      <td>464000</td>\n",
              "      <td>340000</td>\n",
              "      <td>883000</td>\n",
              "    </tr>\n",
              "    <tr>\n",
              "      <th>a023</th>\n",
              "      <td>918000</td>\n",
              "      <td>424000</td>\n",
              "      <td>458000</td>\n",
              "    </tr>\n",
              "    <tr>\n",
              "      <th>a036</th>\n",
              "      <td>786000</td>\n",
              "      <td>292000</td>\n",
              "      <td>361000</td>\n",
              "    </tr>\n",
              "    <tr>\n",
              "      <th>a047</th>\n",
              "      <td>636000</td>\n",
              "      <td>296000</td>\n",
              "      <td>416000</td>\n",
              "    </tr>\n",
              "    <tr>\n",
              "      <th>a051</th>\n",
              "      <td>358000</td>\n",
              "      <td>48000</td>\n",
              "      <td>141000</td>\n",
              "    </tr>\n",
              "    <tr>\n",
              "      <th>a052</th>\n",
              "      <td>202000</td>\n",
              "      <td>152000</td>\n",
              "      <td>35000</td>\n",
              "    </tr>\n",
              "  </tbody>\n",
              "</table>\n",
              "</div>"
            ],
            "text/plain": [
              "         売上金額                \n",
              "商品分類     アウター    トップス    ボトムス\n",
              "社員ID                         \n",
              "a003  1022000  564000  883000\n",
              "a013   464000  340000  883000\n",
              "a023   918000  424000  458000\n",
              "a036   786000  292000  361000\n",
              "a047   636000  296000  416000\n",
              "a051   358000   48000  141000\n",
              "a052   202000  152000   35000"
            ]
          },
          "metadata": {},
          "execution_count": 38
        }
      ]
    },
    {
      "cell_type": "code",
      "metadata": {
        "colab": {
          "base_uri": "https://localhost:8080/",
          "height": 308
        },
        "id": "gtrKiiFCq27K",
        "outputId": "ca5190e5-2f14-4752-ffae-cd230c0aa2b7"
      },
      "source": [
        "df_name2.plot(kind='bar')\n",
        "plt.legend(['アウター','トップス','ボトムス'])\n",
        "plt.xlabel('社員ID')\n",
        "plt.ylabel('売上金額（円）')\n",
        "plt.title('社員ID/商品別売上')\n",
        "plt.show()"
      ],
      "execution_count": 39,
      "outputs": [
        {
          "output_type": "display_data",
          "data": {
            "image/png": "[encoded data removed]",
            "text/plain": [
              "<Figure size 432x288 with 1 Axes>"
            ]
          },
          "metadata": {
            "needs_background": "light"
          }
        }
      ]
    },
    {
      "cell_type": "code",
      "metadata": {
        "colab": {
          "base_uri": "https://localhost:8080/",
          "height": 293
        },
        "id": "lBooej0srihy",
        "outputId": "43b3ca59-54a5-4bce-c068-c14c5b500e69"
      },
      "source": [
        "df_name2.plot(kind='bar', rot=0)\n",
        "plt.legend(['アウター','トップス','ボトムス'])\n",
        "plt.xlabel('社員ID')\n",
        "plt.ylabel('売上金額（円）')\n",
        "plt.title('社員ID/商品別売上')\n",
        "plt.show()"
      ],
      "execution_count": 40,
      "outputs": [
        {
          "output_type": "display_data",
          "data": {
            "image/png": "[encoded data removed]",
            "text/plain": [
              "<Figure size 432x288 with 1 Axes>"
            ]
          },
          "metadata": {
            "needs_background": "light"
          }
        }
      ]
    },
    {
      "cell_type": "code",
      "metadata": {
        "colab": {
          "base_uri": "https://localhost:8080/",
          "height": 402
        },
        "id": "21cMBisorvv3",
        "outputId": "abce2712-0533-4870-d25f-069048ef0f4e"
      },
      "source": [
        "df_name2.plot(kind='bar', rot=0,figsize=(9,6))\n",
        "plt.legend(['アウター','トップス','ボトムス'])\n",
        "plt.xlabel('社員ID')\n",
        "plt.ylabel('売上金額（円）')\n",
        "plt.title('社員ID/商品別売上')\n",
        "plt.show()"
      ],
      "execution_count": 41,
      "outputs": [
        {
          "output_type": "display_data",
          "data": {
            "image/png": "[encoded data removed]",
            "text/plain": [
              "<Figure size 648x432 with 1 Axes>"
            ]
          },
          "metadata": {
            "needs_background": "light"
          }
        }
      ]
    },
    {
      "cell_type": "code",
      "metadata": {
        "colab": {
          "base_uri": "https://localhost:8080/",
          "height": 402
        },
        "id": "pMhbtadmr5xC",
        "outputId": "eaa7de18-e50c-4a36-c79b-2e6c7b2e5943"
      },
      "source": [
        "df_name2.plot(kind='bar', rot=0,figsize=(9,6),color=['coral','limegreen','gold'])\n",
        "plt.legend(['アウター','トップス','ボトムス'])\n",
        "plt.xlabel('社員ID')\n",
        "plt.ylabel('売上金額（円）')\n",
        "plt.title('社員ID/商品別売上')\n",
        "plt.show()"
      ],
      "execution_count": 42,
      "outputs": [
        {
          "output_type": "display_data",
          "data": {
            "image/png": "[encoded data removed]",
            "text/plain": [
              "<Figure size 648x432 with 1 Axes>"
            ]
          },
          "metadata": {
            "needs_background": "light"
          }
        }
      ]
    },
    {
      "cell_type": "code",
      "metadata": {
        "colab": {
          "base_uri": "https://localhost:8080/",
          "height": 402
        },
        "id": "7f1MQNnYsHiL",
        "outputId": "804ddbd3-85b6-4fdb-a5c3-1e05ee755d9e"
      },
      "source": [
        "df_name2.plot(kind='bar', rot=0,figsize=(9,6),stacked=True)\n",
        "plt.legend(['アウター','トップス','ボトムス'])\n",
        "plt.xlabel('社員ID')\n",
        "plt.ylabel('売上金額（円）')\n",
        "plt.title('社員ID/商品別売上')\n",
        "plt.show()"
      ],
      "execution_count": 44,
      "outputs": [
        {
          "output_type": "display_data",
          "data": {
            "image/png": "[encoded data removed]",
            "text/plain": [
              "<Figure size 648x432 with 1 Axes>"
            ]
          },
          "metadata": {
            "needs_background": "light"
          }
        }
      ]
    },
    {
      "cell_type": "code",
      "metadata": {
        "colab": {
          "base_uri": "https://localhost:8080/",
          "height": 402
        },
        "id": "5XPys9krsTnc",
        "outputId": "aaff67f2-29d1-48a8-d4ca-fc24dff67c10"
      },
      "source": [
        "df_name2.plot(kind='barh', rot=0,figsize=(9,6),stacked=True)\n",
        "plt.legend(['アウター','トップス','ボトムス'])\n",
        "plt.xlabel('社員ID')\n",
        "plt.ylabel('売上金額（円）')\n",
        "plt.title('社員ID/商品別売上')\n",
        "plt.show()"
      ],
      "execution_count": 45,
      "outputs": [
        {
          "output_type": "display_data",
          "data": {
            "image/png": "[encoded data removed]",
            "text/plain": [
              "<Figure size 648x432 with 1 Axes>"
            ]
          },
          "metadata": {
            "needs_background": "light"
          }
        }
      ]
    },
    {
      "cell_type": "code",
      "metadata": {
        "id": "AOdbZxzHtAtG"
      },
      "source": [
        ""
      ],
      "execution_count": null,
      "outputs": []
    }
  ]
}