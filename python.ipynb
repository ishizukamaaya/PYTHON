{
  "nbformat": 4,
  "nbformat_minor": 0,
  "metadata": {
    "colab": {
      "name": "python.ipynb",
      "provenance": [],
      "authorship_tag": "ABX9TyMH9w3wYtWarVJslWFcA6y5",
      "include_colab_link": true
    },
    "kernelspec": {
      "name": "python3",
      "display_name": "Python 3"
    },
    "language_info": {
      "name": "python"
    }
  },
  "cells": [
    {
      "cell_type": "markdown",
      "metadata": {
        "id": "view-in-github",
        "colab_type": "text"
      },
      "source": [
        "<a href=\"https://colab.research.google.com/github/ishizukamaaya/PYTHON/blob/main/python.ipynb\" target=\"_parent\"><img src=\"https://colab.research.google.com/assets/colab-badge.svg\" alt=\"Open In Colab\"/></a>"
      ]
    },
    {
      "cell_type": "code",
      "metadata": {
        "colab": {
          "base_uri": "https://localhost:8080/"
        },
        "id": "5aJCXyr-efOS",
        "outputId": "0ace5d0d-e19b-4527-9220-7d7a74f27c75"
      },
      "source": [
        "import numpy as np\n",
        "x = [2,5,8]\n",
        "y = [10,12,14]\n",
        "w1,w0 = np.polyfit(x,y,1)\n",
        "print(w1,w0)"
      ],
      "execution_count": 1,
      "outputs": [
        {
          "output_type": "stream",
          "name": "stdout",
          "text": [
            "0.6666666666666673 8.666666666666666\n"
          ]
        }
      ]
    },
    {
      "cell_type": "code",
      "metadata": {
        "colab": {
          "base_uri": "https://localhost:8080/",
          "height": 504
        },
        "id": "1MViAnX4e6Bc",
        "outputId": "29a43451-cf86-4add-c56c-ed9932a7f861"
      },
      "source": [
        "from matplotlib import pyplot as plt\n",
        "plt.figure(figsize=(12,8))\n",
        "\n",
        "xdata = list(range(10))\n",
        "ydata = [i*w1 + w0 for i in xdata]\n",
        "\n",
        "plt.scatter(2,10)\n",
        "plt.scatter(5,12)\n",
        "plt.scatter(8,14)\n",
        "plt.xlim(0,10)\n",
        "plt.ylim(0,25)\n",
        "\n",
        "plt.plot(xdata,ydata, 'r')"
      ],
      "execution_count": 4,
      "outputs": [
        {
          "output_type": "execute_result",
          "data": {
            "text/plain": [
              "[<matplotlib.lines.Line2D at 0x7ffb23f5c8d0>]"
            ]
          },
          "metadata": {},
          "execution_count": 4
        },
        {
          "output_type": "display_data",
          "data": {
            "image/png": "[encoded data removed]",
            "text/plain": [
              "<Figure size 864x576 with 1 Axes>"
            ]
          },
          "metadata": {
            "needs_background": "light"
          }
        }
      ]
    },
    {
      "cell_type": "code",
      "metadata": {
        "id": "_uHxtPB7fq9N"
      },
      "source": [
        ""
      ],
      "execution_count": null,
      "outputs": []
    }
  ]
}