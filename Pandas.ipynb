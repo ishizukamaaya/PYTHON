{
  "nbformat": 4,
  "nbformat_minor": 0,
  "metadata": {
    "colab": {
      "name": "Pandas.ipynb",
      "provenance": [],
      "authorship_tag": "ABX9TyOkYQpM4/UsJPBifTWnKup+",
      "include_colab_link": true
    },
    "kernelspec": {
      "name": "python3",
      "display_name": "Python 3"
    },
    "language_info": {
      "name": "python"
    }
  },
  "cells": [
    {
      "cell_type": "markdown",
      "metadata": {
        "id": "view-in-github",
        "colab_type": "text"
      },
      "source": [
        "<a href=\"https://colab.research.google.com/github/ishizukamaaya/PYTHON/blob/main/Pandas.ipynb\" target=\"_parent\"><img src=\"https://colab.research.google.com/assets/colab-badge.svg\" alt=\"Open In Colab\"/></a>"
      ]
    },
    {
      "cell_type": "code",
      "metadata": {
        "id": "BJRA4RoRSKoC"
      },
      "source": [
        "import pandas as pd"
      ],
      "execution_count": 1,
      "outputs": []
    },
    {
      "cell_type": "code",
      "metadata": {
        "colab": {
          "base_uri": "https://localhost:8080/"
        },
        "id": "49CTeJfUTAVF",
        "outputId": "56e3ece3-a6a6-4d47-e6da-06dd29b49add"
      },
      "source": [
        "s1 = pd.Series([90,78,65,87,72])\n",
        "s1"
      ],
      "execution_count": 2,
      "outputs": [
        {
          "output_type": "execute_result",
          "data": {
            "text/plain": [
              "0    90\n",
              "1    78\n",
              "2    65\n",
              "3    87\n",
              "4    72\n",
              "dtype: int64"
            ]
          },
          "metadata": {},
          "execution_count": 2
        }
      ]
    },
    {
      "cell_type": "code",
      "metadata": {
        "id": "xP4wwrOSTa_0"
      },
      "source": [
        "data = [90,78,65,87,72]"
      ],
      "execution_count": 3,
      "outputs": []
    },
    {
      "cell_type": "code",
      "metadata": {
        "colab": {
          "base_uri": "https://localhost:8080/"
        },
        "id": "8dsVtuk3TfNk",
        "outputId": "782d220d-b777-4cc5-ef6b-e27abcd8972a"
      },
      "source": [
        "s1 = pd.Series(data)\n",
        "s1"
      ],
      "execution_count": 5,
      "outputs": [
        {
          "output_type": "execute_result",
          "data": {
            "text/plain": [
              "0    90\n",
              "1    78\n",
              "2    65\n",
              "3    87\n",
              "4    72\n",
              "dtype: int64"
            ]
          },
          "metadata": {},
          "execution_count": 5
        }
      ]
    },
    {
      "cell_type": "code",
      "metadata": {
        "id": "Vs7uQ-WPTuCz"
      },
      "source": [
        "import numpy as np"
      ],
      "execution_count": 6,
      "outputs": []
    },
    {
      "cell_type": "code",
      "metadata": {
        "colab": {
          "base_uri": "https://localhost:8080/"
        },
        "id": "kxRRFoBbTx0L",
        "outputId": "3ec2cf29-4ab5-4db9-a7f7-f8db40148ac0"
      },
      "source": [
        "np.arange(1, 10, 2)"
      ],
      "execution_count": 7,
      "outputs": [
        {
          "output_type": "execute_result",
          "data": {
            "text/plain": [
              "array([1, 3, 5, 7, 9])"
            ]
          },
          "metadata": {},
          "execution_count": 7
        }
      ]
    },
    {
      "cell_type": "code",
      "metadata": {
        "colab": {
          "base_uri": "https://localhost:8080/"
        },
        "id": "cyHDe3VmT9N0",
        "outputId": "efee601d-ee7e-4c92-cf85-a84513ea32f8"
      },
      "source": [
        "s2 = pd.Series(np.arange(1,10,2))\n",
        "s2"
      ],
      "execution_count": 8,
      "outputs": [
        {
          "output_type": "execute_result",
          "data": {
            "text/plain": [
              "0    1\n",
              "1    3\n",
              "2    5\n",
              "3    7\n",
              "4    9\n",
              "dtype: int64"
            ]
          },
          "metadata": {},
          "execution_count": 8
        }
      ]
    },
    {
      "cell_type": "code",
      "metadata": {
        "id": "t_dtDNoVUJ_J"
      },
      "source": [
        "data = np.arange(1,10,2)"
      ],
      "execution_count": 9,
      "outputs": []
    },
    {
      "cell_type": "code",
      "metadata": {
        "colab": {
          "base_uri": "https://localhost:8080/"
        },
        "id": "uGMd5c4JUN8R",
        "outputId": "b501ab5b-d7f2-4b33-dbe7-e02eca7fd4a6"
      },
      "source": [
        "s2 = pd.Series(data)\n",
        "s2"
      ],
      "execution_count": 10,
      "outputs": [
        {
          "output_type": "execute_result",
          "data": {
            "text/plain": [
              "0    1\n",
              "1    3\n",
              "2    5\n",
              "3    7\n",
              "4    9\n",
              "dtype: int64"
            ]
          },
          "metadata": {},
          "execution_count": 10
        }
      ]
    },
    {
      "cell_type": "code",
      "metadata": {
        "colab": {
          "base_uri": "https://localhost:8080/"
        },
        "id": "oTTsN6m6UclO",
        "outputId": "d373efed-5b5b-41e4-c826-8f1d261670f7"
      },
      "source": [
        "s1"
      ],
      "execution_count": 11,
      "outputs": [
        {
          "output_type": "execute_result",
          "data": {
            "text/plain": [
              "0    90\n",
              "1    78\n",
              "2    65\n",
              "3    87\n",
              "4    72\n",
              "dtype: int64"
            ]
          },
          "metadata": {},
          "execution_count": 11
        }
      ]
    },
    {
      "cell_type": "code",
      "metadata": {
        "colab": {
          "base_uri": "https://localhost:8080/"
        },
        "id": "Q_hHm31XUf_Y",
        "outputId": "3795fc46-f9c7-43e1-d857-04ad3b4e9a13"
      },
      "source": [
        "s1.dtypes"
      ],
      "execution_count": 13,
      "outputs": [
        {
          "output_type": "execute_result",
          "data": {
            "text/plain": [
              "dtype('int64')"
            ]
          },
          "metadata": {},
          "execution_count": 13
        }
      ]
    },
    {
      "cell_type": "code",
      "metadata": {
        "colab": {
          "base_uri": "https://localhost:8080/"
        },
        "id": "nUOMnTGHUn46",
        "outputId": "739f3640-71c2-4229-d8f0-74efd71e3630"
      },
      "source": [
        "s1.index"
      ],
      "execution_count": 14,
      "outputs": [
        {
          "output_type": "execute_result",
          "data": {
            "text/plain": [
              "RangeIndex(start=0, stop=5, step=1)"
            ]
          },
          "metadata": {},
          "execution_count": 14
        }
      ]
    },
    {
      "cell_type": "code",
      "metadata": {
        "colab": {
          "base_uri": "https://localhost:8080/"
        },
        "id": "9jcYDb1NUwmP",
        "outputId": "fd94bf91-66eb-46b6-9115-b6745c9d1af9"
      },
      "source": [
        "s1.index = ['sata', 'suzuki', 'takahashi', 'tanaka', 'ito']\n",
        "s1"
      ],
      "execution_count": 15,
      "outputs": [
        {
          "output_type": "execute_result",
          "data": {
            "text/plain": [
              "sata         90\n",
              "suzuki       78\n",
              "takahashi    65\n",
              "tanaka       87\n",
              "ito          72\n",
              "dtype: int64"
            ]
          },
          "metadata": {},
          "execution_count": 15
        }
      ]
    },
    {
      "cell_type": "code",
      "metadata": {
        "colab": {
          "base_uri": "https://localhost:8080/"
        },
        "id": "zMQ46ZptU-2X",
        "outputId": "fe37e07b-3ec2-41d4-ad7d-5e692c2ec282"
      },
      "source": [
        "s1.index"
      ],
      "execution_count": 16,
      "outputs": [
        {
          "output_type": "execute_result",
          "data": {
            "text/plain": [
              "Index(['sata', 'suzuki', 'takahashi', 'tanaka', 'ito'], dtype='object')"
            ]
          },
          "metadata": {},
          "execution_count": 16
        }
      ]
    },
    {
      "cell_type": "code",
      "metadata": {
        "id": "USkNQJrTVVfW"
      },
      "source": [
        "dict01 = {'sato':90, 'suzuki':78, 'takahashi':65, 'tanaka':87, 'ito':72}"
      ],
      "execution_count": 17,
      "outputs": []
    },
    {
      "cell_type": "code",
      "metadata": {
        "colab": {
          "base_uri": "https://localhost:8080/"
        },
        "id": "h51NZL5RV_AW",
        "outputId": "a295daef-f298-4417-a450-665c4a80da4b"
      },
      "source": [
        "s3 = pd.Series(dict01)\n",
        "s3"
      ],
      "execution_count": 18,
      "outputs": [
        {
          "output_type": "execute_result",
          "data": {
            "text/plain": [
              "sato         90\n",
              "suzuki       78\n",
              "takahashi    65\n",
              "tanaka       87\n",
              "ito          72\n",
              "dtype: int64"
            ]
          },
          "metadata": {},
          "execution_count": 18
        }
      ]
    },
    {
      "cell_type": "code",
      "metadata": {
        "colab": {
          "base_uri": "https://localhost:8080/"
        },
        "id": "u2boCAocWRpd",
        "outputId": "97fb5d8b-f8c9-4c19-9c8a-346e7e6e9ea2"
      },
      "source": [
        "s1.values"
      ],
      "execution_count": 19,
      "outputs": [
        {
          "output_type": "execute_result",
          "data": {
            "text/plain": [
              "array([90, 78, 65, 87, 72])"
            ]
          },
          "metadata": {},
          "execution_count": 19
        }
      ]
    },
    {
      "cell_type": "code",
      "metadata": {
        "colab": {
          "base_uri": "https://localhost:8080/"
        },
        "id": "JwbS7z2qWi2J",
        "outputId": "6847e13a-3c11-4cd5-9e73-30a048fa9133"
      },
      "source": [
        "s1['suzuki']"
      ],
      "execution_count": 20,
      "outputs": [
        {
          "output_type": "execute_result",
          "data": {
            "text/plain": [
              "78"
            ]
          },
          "metadata": {},
          "execution_count": 20
        }
      ]
    },
    {
      "cell_type": "code",
      "metadata": {
        "colab": {
          "base_uri": "https://localhost:8080/"
        },
        "id": "XYxj1_ZpWwOG",
        "outputId": "67f8c11d-996f-4e88-90d3-9a9d6568597d"
      },
      "source": [
        "s1[1]"
      ],
      "execution_count": 21,
      "outputs": [
        {
          "output_type": "execute_result",
          "data": {
            "text/plain": [
              "78"
            ]
          },
          "metadata": {},
          "execution_count": 21
        }
      ]
    },
    {
      "cell_type": "code",
      "metadata": {
        "colab": {
          "base_uri": "https://localhost:8080/"
        },
        "id": "mNZry2KYW33k",
        "outputId": "51c2d541-b1c7-40a7-dd55-e4e4a6db7722"
      },
      "source": [
        "s1[['suzuki','tanaka']]"
      ],
      "execution_count": 22,
      "outputs": [
        {
          "output_type": "execute_result",
          "data": {
            "text/plain": [
              "suzuki    78\n",
              "tanaka    87\n",
              "dtype: int64"
            ]
          },
          "metadata": {},
          "execution_count": 22
        }
      ]
    },
    {
      "cell_type": "code",
      "metadata": {
        "colab": {
          "base_uri": "https://localhost:8080/"
        },
        "id": "YSTG82bcW-0J",
        "outputId": "a2908c50-0d77-41f0-e62f-0ba22439dc45"
      },
      "source": [
        "s1[[1,3]]"
      ],
      "execution_count": 23,
      "outputs": [
        {
          "output_type": "execute_result",
          "data": {
            "text/plain": [
              "suzuki    78\n",
              "tanaka    87\n",
              "dtype: int64"
            ]
          },
          "metadata": {},
          "execution_count": 23
        }
      ]
    },
    {
      "cell_type": "code",
      "metadata": {
        "colab": {
          "base_uri": "https://localhost:8080/"
        },
        "id": "Ml4lK1C0XLMx",
        "outputId": "e1d0e428-32e0-4796-8463-6ff2dc254300"
      },
      "source": [
        "s1 > 80"
      ],
      "execution_count": 24,
      "outputs": [
        {
          "output_type": "execute_result",
          "data": {
            "text/plain": [
              "sata          True\n",
              "suzuki       False\n",
              "takahashi    False\n",
              "tanaka        True\n",
              "ito          False\n",
              "dtype: bool"
            ]
          },
          "metadata": {},
          "execution_count": 24
        }
      ]
    },
    {
      "cell_type": "code",
      "metadata": {
        "colab": {
          "base_uri": "https://localhost:8080/"
        },
        "id": "QLsVFHDRXRnK",
        "outputId": "60ffc867-6a39-4482-cb88-1c6ae6127bd5"
      },
      "source": [
        "s1[s1 > 80]"
      ],
      "execution_count": 25,
      "outputs": [
        {
          "output_type": "execute_result",
          "data": {
            "text/plain": [
              "sata      90\n",
              "tanaka    87\n",
              "dtype: int64"
            ]
          },
          "metadata": {},
          "execution_count": 25
        }
      ]
    },
    {
      "cell_type": "code",
      "metadata": {
        "colab": {
          "base_uri": "https://localhost:8080/"
        },
        "id": "5G3qDRJ-XaFg",
        "outputId": "ce27d49b-1231-40fc-f4ed-a8b671689358"
      },
      "source": [
        "s1[s1 <= 80]"
      ],
      "execution_count": 26,
      "outputs": [
        {
          "output_type": "execute_result",
          "data": {
            "text/plain": [
              "suzuki       78\n",
              "takahashi    65\n",
              "ito          72\n",
              "dtype: int64"
            ]
          },
          "metadata": {},
          "execution_count": 26
        }
      ]
    },
    {
      "cell_type": "code",
      "metadata": {
        "colab": {
          "base_uri": "https://localhost:8080/"
        },
        "id": "exROvXgQXhnm",
        "outputId": "9df84fc7-8b2a-40f7-8af9-765d4809b4c4"
      },
      "source": [
        "s1.size"
      ],
      "execution_count": 27,
      "outputs": [
        {
          "output_type": "execute_result",
          "data": {
            "text/plain": [
              "5"
            ]
          },
          "metadata": {},
          "execution_count": 27
        }
      ]
    },
    {
      "cell_type": "code",
      "metadata": {
        "colab": {
          "base_uri": "https://localhost:8080/"
        },
        "id": "39sAiZJNXmFA",
        "outputId": "2178e4b2-8df1-42e3-8b19-8395b97a384d"
      },
      "source": [
        "len(s1)"
      ],
      "execution_count": 28,
      "outputs": [
        {
          "output_type": "execute_result",
          "data": {
            "text/plain": [
              "5"
            ]
          },
          "metadata": {},
          "execution_count": 28
        }
      ]
    },
    {
      "cell_type": "code",
      "metadata": {
        "colab": {
          "base_uri": "https://localhost:8080/"
        },
        "id": "nO9S-xpjXzGx",
        "outputId": "cc9f9f2a-1fb6-4e39-fa39-3faffe5168bb"
      },
      "source": [
        "s1.index.name = 'member'\n",
        "s1.name = 'score'\n",
        "s1"
      ],
      "execution_count": 29,
      "outputs": [
        {
          "output_type": "execute_result",
          "data": {
            "text/plain": [
              "member\n",
              "sata         90\n",
              "suzuki       78\n",
              "takahashi    65\n",
              "tanaka       87\n",
              "ito          72\n",
              "Name: score, dtype: int64"
            ]
          },
          "metadata": {},
          "execution_count": 29
        }
      ]
    },
    {
      "cell_type": "code",
      "metadata": {
        "colab": {
          "base_uri": "https://localhost:8080/"
        },
        "id": "m9Nh_HUOYA1V",
        "outputId": "403f2e82-2a80-435f-cc15-34c11783affd"
      },
      "source": [
        "s1 + 2"
      ],
      "execution_count": 30,
      "outputs": [
        {
          "output_type": "execute_result",
          "data": {
            "text/plain": [
              "member\n",
              "sata         92\n",
              "suzuki       80\n",
              "takahashi    67\n",
              "tanaka       89\n",
              "ito          74\n",
              "Name: score, dtype: int64"
            ]
          },
          "metadata": {},
          "execution_count": 30
        }
      ]
    },
    {
      "cell_type": "code",
      "metadata": {
        "colab": {
          "base_uri": "https://localhost:8080/"
        },
        "id": "GZSBAPUoYD_S",
        "outputId": "69890312-9e36-4cf9-92dc-82a68e4d638c"
      },
      "source": [
        "s1 -2"
      ],
      "execution_count": 31,
      "outputs": [
        {
          "output_type": "execute_result",
          "data": {
            "text/plain": [
              "member\n",
              "sata         88\n",
              "suzuki       76\n",
              "takahashi    63\n",
              "tanaka       85\n",
              "ito          70\n",
              "Name: score, dtype: int64"
            ]
          },
          "metadata": {},
          "execution_count": 31
        }
      ]
    },
    {
      "cell_type": "code",
      "metadata": {
        "colab": {
          "base_uri": "https://localhost:8080/"
        },
        "id": "WEJC5dvVYJQ-",
        "outputId": "ec618133-31dc-4da8-8634-9bff2c135f2a"
      },
      "source": [
        "s1 * 2"
      ],
      "execution_count": 32,
      "outputs": [
        {
          "output_type": "execute_result",
          "data": {
            "text/plain": [
              "member\n",
              "sata         180\n",
              "suzuki       156\n",
              "takahashi    130\n",
              "tanaka       174\n",
              "ito          144\n",
              "Name: score, dtype: int64"
            ]
          },
          "metadata": {},
          "execution_count": 32
        }
      ]
    },
    {
      "cell_type": "code",
      "metadata": {
        "colab": {
          "base_uri": "https://localhost:8080/"
        },
        "id": "fIQo5bbrYLRZ",
        "outputId": "7fee37f6-cf79-4773-e067-691cdf4cc7e7"
      },
      "source": [
        "s1 / 2"
      ],
      "execution_count": 33,
      "outputs": [
        {
          "output_type": "execute_result",
          "data": {
            "text/plain": [
              "member\n",
              "sata         45.0\n",
              "suzuki       39.0\n",
              "takahashi    32.5\n",
              "tanaka       43.5\n",
              "ito          36.0\n",
              "Name: score, dtype: float64"
            ]
          },
          "metadata": {},
          "execution_count": 33
        }
      ]
    },
    {
      "cell_type": "code",
      "metadata": {
        "colab": {
          "base_uri": "https://localhost:8080/"
        },
        "id": "Qse_dSJxYe8R",
        "outputId": "0b05d251-3507-4bb7-9747-9941a1655b8f"
      },
      "source": [
        "s2"
      ],
      "execution_count": 34,
      "outputs": [
        {
          "output_type": "execute_result",
          "data": {
            "text/plain": [
              "0    1\n",
              "1    3\n",
              "2    5\n",
              "3    7\n",
              "4    9\n",
              "dtype: int64"
            ]
          },
          "metadata": {},
          "execution_count": 34
        }
      ]
    },
    {
      "cell_type": "code",
      "metadata": {
        "colab": {
          "base_uri": "https://localhost:8080/"
        },
        "id": "y3qD-RbQYjOU",
        "outputId": "67b7f0a6-f24f-425e-d96e-7b59fbd02c57"
      },
      "source": [
        "s2.index = ['suzuki','takahashi','tanaka','ito','watanabe']\n",
        "s2"
      ],
      "execution_count": 35,
      "outputs": [
        {
          "output_type": "execute_result",
          "data": {
            "text/plain": [
              "suzuki       1\n",
              "takahashi    3\n",
              "tanaka       5\n",
              "ito          7\n",
              "watanabe     9\n",
              "dtype: int64"
            ]
          },
          "metadata": {},
          "execution_count": 35
        }
      ]
    },
    {
      "cell_type": "code",
      "metadata": {
        "colab": {
          "base_uri": "https://localhost:8080/"
        },
        "id": "Dd8HKi-eYv7I",
        "outputId": "9c6358a5-9f92-4faa-89aa-9ee5a10024f6"
      },
      "source": [
        "s1"
      ],
      "execution_count": 36,
      "outputs": [
        {
          "output_type": "execute_result",
          "data": {
            "text/plain": [
              "member\n",
              "sata         90\n",
              "suzuki       78\n",
              "takahashi    65\n",
              "tanaka       87\n",
              "ito          72\n",
              "Name: score, dtype: int64"
            ]
          },
          "metadata": {},
          "execution_count": 36
        }
      ]
    },
    {
      "cell_type": "code",
      "metadata": {
        "colab": {
          "base_uri": "https://localhost:8080/"
        },
        "id": "2zWQFKdTYzG5",
        "outputId": "0721a257-a88d-42e8-ec0a-7c8dd30c7e61"
      },
      "source": [
        "s1 + s2"
      ],
      "execution_count": 37,
      "outputs": [
        {
          "output_type": "execute_result",
          "data": {
            "text/plain": [
              "ito          79.0\n",
              "sata          NaN\n",
              "suzuki       79.0\n",
              "takahashi    68.0\n",
              "tanaka       92.0\n",
              "watanabe      NaN\n",
              "dtype: float64"
            ]
          },
          "metadata": {},
          "execution_count": 37
        }
      ]
    },
    {
      "cell_type": "code",
      "metadata": {
        "colab": {
          "base_uri": "https://localhost:8080/"
        },
        "id": "yelRyAmgZAyi",
        "outputId": "1a677fb1-f359-4c5a-c750-14940ede0e77"
      },
      "source": [
        "s1"
      ],
      "execution_count": 38,
      "outputs": [
        {
          "output_type": "execute_result",
          "data": {
            "text/plain": [
              "member\n",
              "sata         90\n",
              "suzuki       78\n",
              "takahashi    65\n",
              "tanaka       87\n",
              "ito          72\n",
              "Name: score, dtype: int64"
            ]
          },
          "metadata": {},
          "execution_count": 38
        }
      ]
    },
    {
      "cell_type": "code",
      "metadata": {
        "colab": {
          "base_uri": "https://localhost:8080/"
        },
        "id": "ysUphS9FZDG5",
        "outputId": "f53119cc-d17f-48ae-8a3d-76b1e584a166"
      },
      "source": [
        "s1.hasnans"
      ],
      "execution_count": 39,
      "outputs": [
        {
          "output_type": "execute_result",
          "data": {
            "text/plain": [
              "False"
            ]
          },
          "metadata": {},
          "execution_count": 39
        }
      ]
    },
    {
      "cell_type": "code",
      "metadata": {
        "colab": {
          "base_uri": "https://localhost:8080/"
        },
        "id": "aIMqBjBqZKSK",
        "outputId": "4b1ed8c8-8fba-4c51-9b3f-b0d81ccaf94d"
      },
      "source": [
        "s4 = pd.Series([90,78,65,None,72])\n",
        "s4"
      ],
      "execution_count": 40,
      "outputs": [
        {
          "output_type": "execute_result",
          "data": {
            "text/plain": [
              "0    90.0\n",
              "1    78.0\n",
              "2    65.0\n",
              "3     NaN\n",
              "4    72.0\n",
              "dtype: float64"
            ]
          },
          "metadata": {},
          "execution_count": 40
        }
      ]
    },
    {
      "cell_type": "code",
      "metadata": {
        "colab": {
          "base_uri": "https://localhost:8080/"
        },
        "id": "tZaYxFbqZT_-",
        "outputId": "4041466e-5c8c-422f-ce96-4d85ad5458a7"
      },
      "source": [
        "s4.hasnans"
      ],
      "execution_count": 41,
      "outputs": [
        {
          "output_type": "execute_result",
          "data": {
            "text/plain": [
              "True"
            ]
          },
          "metadata": {},
          "execution_count": 41
        }
      ]
    },
    {
      "cell_type": "code",
      "metadata": {
        "colab": {
          "base_uri": "https://localhost:8080/"
        },
        "id": "LKumRWUXZYAg",
        "outputId": "366511ca-3626-4f0e-ac46-102b22641d68"
      },
      "source": [
        "pd.isnull(s4)"
      ],
      "execution_count": 42,
      "outputs": [
        {
          "output_type": "execute_result",
          "data": {
            "text/plain": [
              "0    False\n",
              "1    False\n",
              "2    False\n",
              "3     True\n",
              "4    False\n",
              "dtype: bool"
            ]
          },
          "metadata": {},
          "execution_count": 42
        }
      ]
    },
    {
      "cell_type": "code",
      "metadata": {
        "colab": {
          "base_uri": "https://localhost:8080/",
          "height": 142
        },
        "id": "socQqvXrZkh4",
        "outputId": "016b5d27-3c26-4fc8-9129-0f2a2d3c62a1"
      },
      "source": [
        "df = pd.DataFrame([[1,2,3],[4,5,6],[7,8,9]],\n",
        "                      columns = ['col01','col02','col03'],\n",
        "                      index = ['idx01','idx02','idx03'])\n",
        "df"
      ],
      "execution_count": 43,
      "outputs": [
        {
          "output_type": "execute_result",
          "data": {
            "text/html": [
              "<div>\n",
              "<style scoped>\n",
              "    .dataframe tbody tr th:only-of-type {\n",
              "        vertical-align: middle;\n",
              "    }\n",
              "\n",
              "    .dataframe tbody tr th {\n",
              "        vertical-align: top;\n",
              "    }\n",
              "\n",
              "    .dataframe thead th {\n",
              "        text-align: right;\n",
              "    }\n",
              "</style>\n",
              "<table border=\"1\" class=\"dataframe\">\n",
              "  <thead>\n",
              "    <tr style=\"text-align: right;\">\n",
              "      <th></th>\n",
              "      <th>col01</th>\n",
              "      <th>col02</th>\n",
              "      <th>col03</th>\n",
              "    </tr>\n",
              "  </thead>\n",
              "  <tbody>\n",
              "    <tr>\n",
              "      <th>idx01</th>\n",
              "      <td>1</td>\n",
              "      <td>2</td>\n",
              "      <td>3</td>\n",
              "    </tr>\n",
              "    <tr>\n",
              "      <th>idx02</th>\n",
              "      <td>4</td>\n",
              "      <td>5</td>\n",
              "      <td>6</td>\n",
              "    </tr>\n",
              "    <tr>\n",
              "      <th>idx03</th>\n",
              "      <td>7</td>\n",
              "      <td>8</td>\n",
              "      <td>9</td>\n",
              "    </tr>\n",
              "  </tbody>\n",
              "</table>\n",
              "</div>"
            ],
            "text/plain": [
              "       col01  col02  col03\n",
              "idx01      1      2      3\n",
              "idx02      4      5      6\n",
              "idx03      7      8      9"
            ]
          },
          "metadata": {},
          "execution_count": 43
        }
      ]
    },
    {
      "cell_type": "code",
      "metadata": {
        "colab": {
          "base_uri": "https://localhost:8080/"
        },
        "id": "q2ErmGgPaJcp",
        "outputId": "d1373946-f73d-48a3-cf0d-73f1d5a63f18"
      },
      "source": [
        "df['col01']"
      ],
      "execution_count": 44,
      "outputs": [
        {
          "output_type": "execute_result",
          "data": {
            "text/plain": [
              "idx01    1\n",
              "idx02    4\n",
              "idx03    7\n",
              "Name: col01, dtype: int64"
            ]
          },
          "metadata": {},
          "execution_count": 44
        }
      ]
    },
    {
      "cell_type": "code",
      "metadata": {
        "colab": {
          "base_uri": "https://localhost:8080/"
        },
        "id": "2iAWrFPeaSN8",
        "outputId": "0ec9a092-f456-471f-ff42-ff5bf7caf8a5"
      },
      "source": [
        "type(df['col01'])"
      ],
      "execution_count": 45,
      "outputs": [
        {
          "output_type": "execute_result",
          "data": {
            "text/plain": [
              "pandas.core.series.Series"
            ]
          },
          "metadata": {},
          "execution_count": 45
        }
      ]
    },
    {
      "cell_type": "code",
      "metadata": {
        "colab": {
          "base_uri": "https://localhost:8080/"
        },
        "id": "3T9gdbksalqz",
        "outputId": "5921da0a-6b41-4734-873c-c73a41939cdc"
      },
      "source": [
        "s5 = pd.Series({'idx01':10, 'idx02':11, 'idx03':12})\n",
        "s5"
      ],
      "execution_count": 46,
      "outputs": [
        {
          "output_type": "execute_result",
          "data": {
            "text/plain": [
              "idx01    10\n",
              "idx02    11\n",
              "idx03    12\n",
              "dtype: int64"
            ]
          },
          "metadata": {},
          "execution_count": 46
        }
      ]
    },
    {
      "cell_type": "code",
      "metadata": {
        "colab": {
          "base_uri": "https://localhost:8080/",
          "height": 142
        },
        "id": "TXK07BIUa3BS",
        "outputId": "e6b0a6d1-b030-4560-a593-92297168af34"
      },
      "source": [
        "df['col04'] = s5\n",
        "df"
      ],
      "execution_count": 47,
      "outputs": [
        {
          "output_type": "execute_result",
          "data": {
            "text/html": [
              "<div>\n",
              "<style scoped>\n",
              "    .dataframe tbody tr th:only-of-type {\n",
              "        vertical-align: middle;\n",
              "    }\n",
              "\n",
              "    .dataframe tbody tr th {\n",
              "        vertical-align: top;\n",
              "    }\n",
              "\n",
              "    .dataframe thead th {\n",
              "        text-align: right;\n",
              "    }\n",
              "</style>\n",
              "<table border=\"1\" class=\"dataframe\">\n",
              "  <thead>\n",
              "    <tr style=\"text-align: right;\">\n",
              "      <th></th>\n",
              "      <th>col01</th>\n",
              "      <th>col02</th>\n",
              "      <th>col03</th>\n",
              "      <th>col04</th>\n",
              "    </tr>\n",
              "  </thead>\n",
              "  <tbody>\n",
              "    <tr>\n",
              "      <th>idx01</th>\n",
              "      <td>1</td>\n",
              "      <td>2</td>\n",
              "      <td>3</td>\n",
              "      <td>10</td>\n",
              "    </tr>\n",
              "    <tr>\n",
              "      <th>idx02</th>\n",
              "      <td>4</td>\n",
              "      <td>5</td>\n",
              "      <td>6</td>\n",
              "      <td>11</td>\n",
              "    </tr>\n",
              "    <tr>\n",
              "      <th>idx03</th>\n",
              "      <td>7</td>\n",
              "      <td>8</td>\n",
              "      <td>9</td>\n",
              "      <td>12</td>\n",
              "    </tr>\n",
              "  </tbody>\n",
              "</table>\n",
              "</div>"
            ],
            "text/plain": [
              "       col01  col02  col03  col04\n",
              "idx01      1      2      3     10\n",
              "idx02      4      5      6     11\n",
              "idx03      7      8      9     12"
            ]
          },
          "metadata": {},
          "execution_count": 47
        }
      ]
    },
    {
      "cell_type": "code",
      "metadata": {
        "colab": {
          "base_uri": "https://localhost:8080/"
        },
        "id": "_8fK2IhebChm",
        "outputId": "c564fb97-31cf-4ffe-ee82-37caab092f08"
      },
      "source": [
        "s6 = pd.Series({'idx03':13, 'idx04':14, 'idx05':15})\n",
        "s6"
      ],
      "execution_count": 48,
      "outputs": [
        {
          "output_type": "execute_result",
          "data": {
            "text/plain": [
              "idx03    13\n",
              "idx04    14\n",
              "idx05    15\n",
              "dtype: int64"
            ]
          },
          "metadata": {},
          "execution_count": 48
        }
      ]
    },
    {
      "cell_type": "code",
      "metadata": {
        "colab": {
          "base_uri": "https://localhost:8080/",
          "height": 142
        },
        "id": "PBNyKjgqbSgd",
        "outputId": "37b3fc0e-23b2-4f87-e62d-5cf1102ce5ef"
      },
      "source": [
        "df['col05'] = s6\n",
        "df"
      ],
      "execution_count": 49,
      "outputs": [
        {
          "output_type": "execute_result",
          "data": {
            "text/html": [
              "<div>\n",
              "<style scoped>\n",
              "    .dataframe tbody tr th:only-of-type {\n",
              "        vertical-align: middle;\n",
              "    }\n",
              "\n",
              "    .dataframe tbody tr th {\n",
              "        vertical-align: top;\n",
              "    }\n",
              "\n",
              "    .dataframe thead th {\n",
              "        text-align: right;\n",
              "    }\n",
              "</style>\n",
              "<table border=\"1\" class=\"dataframe\">\n",
              "  <thead>\n",
              "    <tr style=\"text-align: right;\">\n",
              "      <th></th>\n",
              "      <th>col01</th>\n",
              "      <th>col02</th>\n",
              "      <th>col03</th>\n",
              "      <th>col04</th>\n",
              "      <th>col05</th>\n",
              "    </tr>\n",
              "  </thead>\n",
              "  <tbody>\n",
              "    <tr>\n",
              "      <th>idx01</th>\n",
              "      <td>1</td>\n",
              "      <td>2</td>\n",
              "      <td>3</td>\n",
              "      <td>10</td>\n",
              "      <td>NaN</td>\n",
              "    </tr>\n",
              "    <tr>\n",
              "      <th>idx02</th>\n",
              "      <td>4</td>\n",
              "      <td>5</td>\n",
              "      <td>6</td>\n",
              "      <td>11</td>\n",
              "      <td>NaN</td>\n",
              "    </tr>\n",
              "    <tr>\n",
              "      <th>idx03</th>\n",
              "      <td>7</td>\n",
              "      <td>8</td>\n",
              "      <td>9</td>\n",
              "      <td>12</td>\n",
              "      <td>13.0</td>\n",
              "    </tr>\n",
              "  </tbody>\n",
              "</table>\n",
              "</div>"
            ],
            "text/plain": [
              "       col01  col02  col03  col04  col05\n",
              "idx01      1      2      3     10    NaN\n",
              "idx02      4      5      6     11    NaN\n",
              "idx03      7      8      9     12   13.0"
            ]
          },
          "metadata": {},
          "execution_count": 49
        }
      ]
    },
    {
      "cell_type": "code",
      "metadata": {
        "colab": {
          "base_uri": "https://localhost:8080/"
        },
        "id": "8qS7GCtgb0CT",
        "outputId": "c3c274d8-17b8-4599-bd39-5c7cef897bf2"
      },
      "source": [
        "dates = pd.date_range('2000/01/01', periods = 5, freq = 'D')\n",
        "dates"
      ],
      "execution_count": 50,
      "outputs": [
        {
          "output_type": "execute_result",
          "data": {
            "text/plain": [
              "DatetimeIndex(['2000-01-01', '2000-01-02', '2000-01-03', '2000-01-04',\n",
              "               '2000-01-05'],\n",
              "              dtype='datetime64[ns]', freq='D')"
            ]
          },
          "metadata": {},
          "execution_count": 50
        }
      ]
    },
    {
      "cell_type": "code",
      "metadata": {
        "colab": {
          "base_uri": "https://localhost:8080/"
        },
        "id": "Myim5JZrcVqw",
        "outputId": "8f3cb708-bd49-4d84-ba6f-e69f4edc9bba"
      },
      "source": [
        "type(dates)"
      ],
      "execution_count": 51,
      "outputs": [
        {
          "output_type": "execute_result",
          "data": {
            "text/plain": [
              "pandas.core.indexes.datetimes.DatetimeIndex"
            ]
          },
          "metadata": {},
          "execution_count": 51
        }
      ]
    },
    {
      "cell_type": "code",
      "metadata": {
        "colab": {
          "base_uri": "https://localhost:8080/"
        },
        "id": "_oIiicx4cYlE",
        "outputId": "10c853d8-d48f-41f4-87f9-a98232cfbe40"
      },
      "source": [
        "s1"
      ],
      "execution_count": 52,
      "outputs": [
        {
          "output_type": "execute_result",
          "data": {
            "text/plain": [
              "member\n",
              "sata         90\n",
              "suzuki       78\n",
              "takahashi    65\n",
              "tanaka       87\n",
              "ito          72\n",
              "Name: score, dtype: int64"
            ]
          },
          "metadata": {},
          "execution_count": 52
        }
      ]
    },
    {
      "cell_type": "code",
      "metadata": {
        "colab": {
          "base_uri": "https://localhost:8080/"
        },
        "id": "gEUD9WPJcco1",
        "outputId": "876dec31-36ae-4322-be50-0d4dc431a0c7"
      },
      "source": [
        "s1.index = dates\n",
        "s1"
      ],
      "execution_count": 53,
      "outputs": [
        {
          "output_type": "execute_result",
          "data": {
            "text/plain": [
              "2000-01-01    90\n",
              "2000-01-02    78\n",
              "2000-01-03    65\n",
              "2000-01-04    87\n",
              "2000-01-05    72\n",
              "Freq: D, Name: score, dtype: int64"
            ]
          },
          "metadata": {},
          "execution_count": 53
        }
      ]
    }
  ]
}