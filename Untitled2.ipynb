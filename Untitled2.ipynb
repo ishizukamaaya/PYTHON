{
  "nbformat": 4,
  "nbformat_minor": 0,
  "metadata": {
    "colab": {
      "name": "Untitled2.ipynb",
      "provenance": [],
      "authorship_tag": "ABX9TyNpcc9xD7z35PSsHqqvuUx4",
      "include_colab_link": true
    },
    "kernelspec": {
      "name": "python3",
      "display_name": "Python 3"
    },
    "language_info": {
      "name": "python"
    }
  },
  "cells": [
    {
      "cell_type": "markdown",
      "metadata": {
        "id": "view-in-github",
        "colab_type": "text"
      },
      "source": [
        "<a href=\"https://colab.research.google.com/github/ishizukamaaya/PYTHON/blob/main/Untitled2.ipynb\" target=\"_parent\"><img src=\"https://colab.research.google.com/assets/colab-badge.svg\" alt=\"Open In Colab\"/></a>"
      ]
    },
    {
      "cell_type": "code",
      "metadata": {
        "id": "fTEd9kuc7Orb"
      },
      "source": [
        "import pandas as pd\n",
        "import numpy as np"
      ],
      "execution_count": 1,
      "outputs": []
    },
    {
      "cell_type": "code",
      "metadata": {
        "colab": {
          "base_uri": "https://localhost:8080/"
        },
        "id": "5NpOuKbh7VPM",
        "outputId": "4c19c892-038d-4ad0-cf71-8618df8c12d0"
      },
      "source": [
        "s1 = pd.Series([7000,5000,23000,2500,12000])\n",
        "s1"
      ],
      "execution_count": 2,
      "outputs": [
        {
          "output_type": "execute_result",
          "data": {
            "text/plain": [
              "0     7000\n",
              "1     5000\n",
              "2    23000\n",
              "3     2500\n",
              "4    12000\n",
              "dtype: int64"
            ]
          },
          "metadata": {},
          "execution_count": 2
        }
      ]
    },
    {
      "cell_type": "code",
      "metadata": {
        "colab": {
          "base_uri": "https://localhost:8080/"
        },
        "id": "o5eYKOsA7ih0",
        "outputId": "4e07a463-bb6e-468f-d058-bb6fc25e135b"
      },
      "source": [
        "s1*2"
      ],
      "execution_count": 3,
      "outputs": [
        {
          "output_type": "execute_result",
          "data": {
            "text/plain": [
              "0    14000\n",
              "1    10000\n",
              "2    46000\n",
              "3     5000\n",
              "4    24000\n",
              "dtype: int64"
            ]
          },
          "metadata": {},
          "execution_count": 3
        }
      ]
    },
    {
      "cell_type": "code",
      "metadata": {
        "id": "pslBFAQU7j8B"
      },
      "source": [
        "def double(x):\n",
        "  return x * 2"
      ],
      "execution_count": 4,
      "outputs": []
    },
    {
      "cell_type": "code",
      "metadata": {
        "colab": {
          "base_uri": "https://localhost:8080/"
        },
        "id": "fo6VCzlg77k0",
        "outputId": "9ee32152-2b65-4bc7-9c0b-7ee5507a4e78"
      },
      "source": [
        "s1.map(double)"
      ],
      "execution_count": 5,
      "outputs": [
        {
          "output_type": "execute_result",
          "data": {
            "text/plain": [
              "0    14000\n",
              "1    10000\n",
              "2    46000\n",
              "3     5000\n",
              "4    24000\n",
              "dtype: int64"
            ]
          },
          "metadata": {},
          "execution_count": 5
        }
      ]
    },
    {
      "cell_type": "code",
      "metadata": {
        "colab": {
          "base_uri": "https://localhost:8080/"
        },
        "id": "x9nuv7kh799Y",
        "outputId": "715e0dd1-26b0-4778-cdf4-16ceb1394695"
      },
      "source": [
        "s1.map(lambda x: x * 2)"
      ],
      "execution_count": 12,
      "outputs": [
        {
          "output_type": "execute_result",
          "data": {
            "text/plain": [
              "0    14000\n",
              "1    10000\n",
              "2    46000\n",
              "3     5000\n",
              "4    24000\n",
              "dtype: int64"
            ]
          },
          "metadata": {},
          "execution_count": 12
        }
      ]
    },
    {
      "cell_type": "code",
      "metadata": {
        "colab": {
          "base_uri": "https://localhost:8080/"
        },
        "id": "MGdEmF3oT2C2",
        "outputId": "009c8c18-39a6-4ce0-bb71-149cf056350f"
      },
      "source": [
        "s1.map(lambda x: '1万円以上' if x >= 10000 else '1万円未満')"
      ],
      "execution_count": 13,
      "outputs": [
        {
          "output_type": "execute_result",
          "data": {
            "text/plain": [
              "0    1万円未満\n",
              "1    1万円未満\n",
              "2    1万円以上\n",
              "3    1万円未満\n",
              "4    1万円以上\n",
              "dtype: object"
            ]
          },
          "metadata": {},
          "execution_count": 13
        }
      ]
    },
    {
      "cell_type": "code",
      "metadata": {
        "id": "m2fzOQrpUabK"
      },
      "source": [
        "def f_rank(x):\n",
        "  if x >= 20000:\n",
        "    return 'S'\n",
        "  elif x >= 10000:\n",
        "    return 'A'\n",
        "  elif x >= 5000:\n",
        "    return 'B'\n",
        "  else:\n",
        "    return 'C'"
      ],
      "execution_count": 14,
      "outputs": []
    },
    {
      "cell_type": "code",
      "metadata": {
        "colab": {
          "base_uri": "https://localhost:8080/"
        },
        "id": "_F8lnyVsWAE_",
        "outputId": "f34024b8-d840-4c54-8022-9dd2da74b171"
      },
      "source": [
        "s1.map(f_rank)"
      ],
      "execution_count": 15,
      "outputs": [
        {
          "output_type": "execute_result",
          "data": {
            "text/plain": [
              "0    B\n",
              "1    B\n",
              "2    S\n",
              "3    C\n",
              "4    A\n",
              "dtype: object"
            ]
          },
          "metadata": {},
          "execution_count": 15
        }
      ]
    },
    {
      "cell_type": "code",
      "metadata": {
        "colab": {
          "base_uri": "https://localhost:8080/"
        },
        "id": "9p36tAoMWEbD",
        "outputId": "6b6ff2d3-9e51-4f58-b49e-23d7a7ee1718"
      },
      "source": [
        "s1.map(np.square)"
      ],
      "execution_count": 16,
      "outputs": [
        {
          "output_type": "execute_result",
          "data": {
            "text/plain": [
              "0     49000000\n",
              "1     25000000\n",
              "2    529000000\n",
              "3      6250000\n",
              "4    144000000\n",
              "dtype: int64"
            ]
          },
          "metadata": {},
          "execution_count": 16
        }
      ]
    },
    {
      "cell_type": "code",
      "metadata": {
        "colab": {
          "base_uri": "https://localhost:8080/"
        },
        "id": "KOPuQmHdXYQd",
        "outputId": "437c0778-6f8e-4574-8d3b-56d00a236028"
      },
      "source": [
        "s1.map(np.sum)"
      ],
      "execution_count": 17,
      "outputs": [
        {
          "output_type": "execute_result",
          "data": {
            "text/plain": [
              "0     7000\n",
              "1     5000\n",
              "2    23000\n",
              "3     2500\n",
              "4    12000\n",
              "dtype: int64"
            ]
          },
          "metadata": {},
          "execution_count": 17
        }
      ]
    },
    {
      "cell_type": "code",
      "metadata": {
        "colab": {
          "base_uri": "https://localhost:8080/"
        },
        "id": "F5R8uOIJXgc8",
        "outputId": "f4aaae49-795b-4443-f5d1-77e1a9d7d021"
      },
      "source": [
        "s1.sum()"
      ],
      "execution_count": 18,
      "outputs": [
        {
          "output_type": "execute_result",
          "data": {
            "text/plain": [
              "49500"
            ]
          },
          "metadata": {},
          "execution_count": 18
        }
      ]
    },
    {
      "cell_type": "code",
      "metadata": {
        "colab": {
          "base_uri": "https://localhost:8080/"
        },
        "id": "rX56tgRIXqOa",
        "outputId": "b030aa3c-4687-4a43-bb9d-a48d8682534b"
      },
      "source": [
        "s2 = pd.Series(['スカートskirt','ニットknit','ジャケットjacket','シャツshirt','ロングパンツslacks'])\n",
        "s2"
      ],
      "execution_count": 20,
      "outputs": [
        {
          "output_type": "execute_result",
          "data": {
            "text/plain": [
              "0       スカートskirt\n",
              "1         ニットknit\n",
              "2     ジャケットjacket\n",
              "3        シャツshirt\n",
              "4    ロングパンツslacks\n",
              "dtype: object"
            ]
          },
          "metadata": {},
          "execution_count": 20
        }
      ]
    },
    {
      "cell_type": "code",
      "metadata": {
        "colab": {
          "base_uri": "https://localhost:8080/"
        },
        "id": "dZCwVVLuYcRf",
        "outputId": "dcf5749f-01cf-401b-f9eb-548dba350004"
      },
      "source": [
        "s2.map(lambda x: x[0])"
      ],
      "execution_count": 21,
      "outputs": [
        {
          "output_type": "execute_result",
          "data": {
            "text/plain": [
              "0    ス\n",
              "1    ニ\n",
              "2    ジ\n",
              "3    シ\n",
              "4    ロ\n",
              "dtype: object"
            ]
          },
          "metadata": {},
          "execution_count": 21
        }
      ]
    },
    {
      "cell_type": "code",
      "metadata": {
        "colab": {
          "base_uri": "https://localhost:8080/"
        },
        "id": "dMGijtQLY08G",
        "outputId": "d763d5d0-3f69-483f-89aa-9b5167af67dd"
      },
      "source": [
        "import re\n",
        "s2.map(lambda x: re.findall('[A-z]+',x))"
      ],
      "execution_count": 24,
      "outputs": [
        {
          "output_type": "execute_result",
          "data": {
            "text/plain": [
              "0     [skirt]\n",
              "1      [knit]\n",
              "2    [jacket]\n",
              "3     [shirt]\n",
              "4    [slacks]\n",
              "dtype: object"
            ]
          },
          "metadata": {},
          "execution_count": 24
        }
      ]
    },
    {
      "cell_type": "code",
      "metadata": {
        "colab": {
          "base_uri": "https://localhost:8080/"
        },
        "id": "N_wOZzICZROE",
        "outputId": "8a95e6f2-a690-4342-f6bf-c96b53bb9206"
      },
      "source": [
        "s3 = pd.Series(['スカートskirt','ニットknit','ジャケットjacket','シャツshirt','Bottomsロングパンツslacks'])\n",
        "s3"
      ],
      "execution_count": 26,
      "outputs": [
        {
          "output_type": "execute_result",
          "data": {
            "text/plain": [
              "0              スカートskirt\n",
              "1                ニットknit\n",
              "2            ジャケットjacket\n",
              "3               シャツshirt\n",
              "4    Bottomsロングパンツslacks\n",
              "dtype: object"
            ]
          },
          "metadata": {},
          "execution_count": 26
        }
      ]
    },
    {
      "cell_type": "code",
      "metadata": {
        "colab": {
          "base_uri": "https://localhost:8080/"
        },
        "id": "264h91rHZoxh",
        "outputId": "0cd00fd2-d3d4-4854-f02b-bd68a3af000d"
      },
      "source": [
        "import re\n",
        "s3.map(lambda x: re.findall('[A-z]+',x))"
      ],
      "execution_count": 28,
      "outputs": [
        {
          "output_type": "execute_result",
          "data": {
            "text/plain": [
              "0              [skirt]\n",
              "1               [knit]\n",
              "2             [jacket]\n",
              "3              [shirt]\n",
              "4    [Bottoms, slacks]\n",
              "dtype: object"
            ]
          },
          "metadata": {},
          "execution_count": 28
        }
      ]
    },
    {
      "cell_type": "code",
      "metadata": {
        "colab": {
          "base_uri": "https://localhost:8080/"
        },
        "id": "Bi6NKWNrZwXF",
        "outputId": "5827d134-055e-47a1-b995-5cbda1050dcb"
      },
      "source": [
        "s4 = pd.Series(['スカートskirt','ニットknit','ジャケットjacket','シャツshirt',np.nan])\n",
        "s4"
      ],
      "execution_count": 29,
      "outputs": [
        {
          "output_type": "execute_result",
          "data": {
            "text/plain": [
              "0      スカートskirt\n",
              "1        ニットknit\n",
              "2    ジャケットjacket\n",
              "3       シャツshirt\n",
              "4            NaN\n",
              "dtype: object"
            ]
          },
          "metadata": {},
          "execution_count": 29
        }
      ]
    },
    {
      "cell_type": "code",
      "metadata": {
        "colab": {
          "base_uri": "https://localhost:8080/"
        },
        "id": "IrzjleB-aE7n",
        "outputId": "5fe0c80f-2bed-443f-e7cb-7d408dda1a1b"
      },
      "source": [
        "d = {'ジャケットjaket':'outer', 'スカートskirt':'Bottoms', 'ニットknit':'tops','ワンピースonepirce':'onepiece'}\n",
        "d"
      ],
      "execution_count": 30,
      "outputs": [
        {
          "output_type": "execute_result",
          "data": {
            "text/plain": [
              "{'ジャケットjaket': 'outer',\n",
              " 'スカートskirt': 'Bottoms',\n",
              " 'ニットknit': 'tops',\n",
              " 'ワンピースonepirce': 'onepiece'}"
            ]
          },
          "metadata": {},
          "execution_count": 30
        }
      ]
    },
    {
      "cell_type": "code",
      "metadata": {
        "colab": {
          "base_uri": "https://localhost:8080/"
        },
        "id": "T2v6Qiafbhac",
        "outputId": "40bb7b95-7e66-4958-9a6f-1769bbfd9ba8"
      },
      "source": [
        "s4.map(d)"
      ],
      "execution_count": 31,
      "outputs": [
        {
          "output_type": "execute_result",
          "data": {
            "text/plain": [
              "0    Bottoms\n",
              "1       tops\n",
              "2        NaN\n",
              "3        NaN\n",
              "4        NaN\n",
              "dtype: object"
            ]
          },
          "metadata": {},
          "execution_count": 31
        }
      ]
    },
    {
      "cell_type": "code",
      "metadata": {
        "colab": {
          "base_uri": "https://localhost:8080/"
        },
        "id": "eeC6DEPveixK",
        "outputId": "f681ef0a-6868-4fb3-a510-f1ec47148155"
      },
      "source": [
        "s4.map('{}を買います。'.format)"
      ],
      "execution_count": 32,
      "outputs": [
        {
          "output_type": "execute_result",
          "data": {
            "text/plain": [
              "0      スカートskirtを買います。\n",
              "1        ニットknitを買います。\n",
              "2    ジャケットjacketを買います。\n",
              "3       シャツshirtを買います。\n",
              "4            nanを買います。\n",
              "dtype: object"
            ]
          },
          "metadata": {},
          "execution_count": 32
        }
      ]
    },
    {
      "cell_type": "code",
      "metadata": {
        "colab": {
          "base_uri": "https://localhost:8080/"
        },
        "id": "8842bGhoe-DX",
        "outputId": "ad876486-cb34-4994-8c02-7b1baac8bf40"
      },
      "source": [
        "s4.map('{}を買います。'.format, na_action='ignore')"
      ],
      "execution_count": 33,
      "outputs": [
        {
          "output_type": "execute_result",
          "data": {
            "text/plain": [
              "0      スカートskirtを買います。\n",
              "1        ニットknitを買います。\n",
              "2    ジャケットjacketを買います。\n",
              "3       シャツshirtを買います。\n",
              "4                  NaN\n",
              "dtype: object"
            ]
          },
          "metadata": {},
          "execution_count": 33
        }
      ]
    },
    {
      "cell_type": "code",
      "metadata": {
        "colab": {
          "base_uri": "https://localhost:8080/"
        },
        "id": "VLCfoUV6fIk9",
        "outputId": "5f845677-e6cc-4ae4-ab27-06c749da61a8"
      },
      "source": [
        "s1"
      ],
      "execution_count": 34,
      "outputs": [
        {
          "output_type": "execute_result",
          "data": {
            "text/plain": [
              "0     7000\n",
              "1     5000\n",
              "2    23000\n",
              "3     2500\n",
              "4    12000\n",
              "dtype: int64"
            ]
          },
          "metadata": {},
          "execution_count": 34
        }
      ]
    },
    {
      "cell_type": "code",
      "metadata": {
        "colab": {
          "base_uri": "https://localhost:8080/"
        },
        "id": "y3F6p8eXfMau",
        "outputId": "b8cacca3-1557-4975-86cf-4e71c2f7c53d"
      },
      "source": [
        "s1.apply(double)"
      ],
      "execution_count": 35,
      "outputs": [
        {
          "output_type": "execute_result",
          "data": {
            "text/plain": [
              "0    14000\n",
              "1    10000\n",
              "2    46000\n",
              "3     5000\n",
              "4    24000\n",
              "dtype: int64"
            ]
          },
          "metadata": {},
          "execution_count": 35
        }
      ]
    },
    {
      "cell_type": "code",
      "metadata": {
        "colab": {
          "base_uri": "https://localhost:8080/"
        },
        "id": "dZqJKBfBfThe",
        "outputId": "013f86da-e532-420c-c28d-fea7e301e835"
      },
      "source": [
        "s1.apply(lambda x: x*2)"
      ],
      "execution_count": 36,
      "outputs": [
        {
          "output_type": "execute_result",
          "data": {
            "text/plain": [
              "0    14000\n",
              "1    10000\n",
              "2    46000\n",
              "3     5000\n",
              "4    24000\n",
              "dtype: int64"
            ]
          },
          "metadata": {},
          "execution_count": 36
        }
      ]
    },
    {
      "cell_type": "code",
      "metadata": {
        "colab": {
          "base_uri": "https://localhost:8080/"
        },
        "id": "Jq9EHkYmfcZ9",
        "outputId": "c249c314-2cbc-4f1e-f9ba-68751b948a25"
      },
      "source": [
        "s1.apply(lambda x: '1万円以上' if x >= 10000 else '1万円未満')"
      ],
      "execution_count": 37,
      "outputs": [
        {
          "output_type": "execute_result",
          "data": {
            "text/plain": [
              "0    1万円未満\n",
              "1    1万円未満\n",
              "2    1万円以上\n",
              "3    1万円未満\n",
              "4    1万円以上\n",
              "dtype: object"
            ]
          },
          "metadata": {},
          "execution_count": 37
        }
      ]
    },
    {
      "cell_type": "code",
      "metadata": {
        "colab": {
          "base_uri": "https://localhost:8080/"
        },
        "id": "M58J_yoTfs57",
        "outputId": "514268e2-fc4d-4607-cc0d-df30b5bd6564"
      },
      "source": [
        "s1.apply(f_rank)"
      ],
      "execution_count": 38,
      "outputs": [
        {
          "output_type": "execute_result",
          "data": {
            "text/plain": [
              "0    B\n",
              "1    B\n",
              "2    S\n",
              "3    C\n",
              "4    A\n",
              "dtype: object"
            ]
          },
          "metadata": {},
          "execution_count": 38
        }
      ]
    },
    {
      "cell_type": "code",
      "metadata": {
        "id": "KhmY4OVifzq1"
      },
      "source": [
        "def f_tax(x, tax):\n",
        "  return x * tax + x"
      ],
      "execution_count": 40,
      "outputs": []
    },
    {
      "cell_type": "code",
      "metadata": {
        "colab": {
          "base_uri": "https://localhost:8080/"
        },
        "id": "HQdGqm6Nf-Ce",
        "outputId": "4fd4a324-ea34-46f1-b187-2b78b8079509"
      },
      "source": [
        "s1.apply(f_tax, args=(0.1,))"
      ],
      "execution_count": 41,
      "outputs": [
        {
          "output_type": "execute_result",
          "data": {
            "text/plain": [
              "0     7700.0\n",
              "1     5500.0\n",
              "2    25300.0\n",
              "3     2750.0\n",
              "4    13200.0\n",
              "dtype: float64"
            ]
          },
          "metadata": {},
          "execution_count": 41
        }
      ]
    },
    {
      "cell_type": "code",
      "metadata": {
        "colab": {
          "base_uri": "https://localhost:8080/"
        },
        "id": "EoWG61l5gWOs",
        "outputId": "8582ae66-4f17-472e-b9a5-f63e04c258fc"
      },
      "source": [
        "s1.apply(np.square)"
      ],
      "execution_count": 42,
      "outputs": [
        {
          "output_type": "execute_result",
          "data": {
            "text/plain": [
              "0     49000000\n",
              "1     25000000\n",
              "2    529000000\n",
              "3      6250000\n",
              "4    144000000\n",
              "dtype: int64"
            ]
          },
          "metadata": {},
          "execution_count": 42
        }
      ]
    },
    {
      "cell_type": "code",
      "metadata": {
        "colab": {
          "base_uri": "https://localhost:8080/"
        },
        "id": "lpjmQLSJgaMJ",
        "outputId": "1ce71233-4f33-44a9-8864-cd8813450b4f"
      },
      "source": [
        "s2"
      ],
      "execution_count": 43,
      "outputs": [
        {
          "output_type": "execute_result",
          "data": {
            "text/plain": [
              "0       スカートskirt\n",
              "1         ニットknit\n",
              "2     ジャケットjacket\n",
              "3        シャツshirt\n",
              "4    ロングパンツslacks\n",
              "dtype: object"
            ]
          },
          "metadata": {},
          "execution_count": 43
        }
      ]
    },
    {
      "cell_type": "code",
      "metadata": {
        "id": "uvaIO5xOghqx"
      },
      "source": [
        ""
      ],
      "execution_count": null,
      "outputs": []
    },
    {
      "cell_type": "code",
      "metadata": {
        "colab": {
          "base_uri": "https://localhost:8080/"
        },
        "id": "Rs04sDabgioG",
        "outputId": "488b615e-e908-450a-d36b-63b75be72129"
      },
      "source": [
        "s2.apply(lambda x: x[0])"
      ],
      "execution_count": 44,
      "outputs": [
        {
          "output_type": "execute_result",
          "data": {
            "text/plain": [
              "0    ス\n",
              "1    ニ\n",
              "2    ジ\n",
              "3    シ\n",
              "4    ロ\n",
              "dtype: object"
            ]
          },
          "metadata": {},
          "execution_count": 44
        }
      ]
    },
    {
      "cell_type": "code",
      "metadata": {
        "colab": {
          "base_uri": "https://localhost:8080/"
        },
        "id": "UABcAqQLgn0Z",
        "outputId": "d52a968d-681c-4d88-f684-179a3b753b2f"
      },
      "source": [
        "s2.apply(lambda x: re.findall('[A-z]+',x))"
      ],
      "execution_count": 46,
      "outputs": [
        {
          "output_type": "execute_result",
          "data": {
            "text/plain": [
              "0     [skirt]\n",
              "1      [knit]\n",
              "2    [jacket]\n",
              "3     [shirt]\n",
              "4    [slacks]\n",
              "dtype: object"
            ]
          },
          "metadata": {},
          "execution_count": 46
        }
      ]
    },
    {
      "cell_type": "code",
      "metadata": {
        "colab": {
          "base_uri": "https://localhost:8080/"
        },
        "id": "YsWcBO41g1Lg",
        "outputId": "dccf5326-046d-474a-83cf-cc24fab22026"
      },
      "source": [
        "s4.apply('{}を買います。'.format)"
      ],
      "execution_count": 47,
      "outputs": [
        {
          "output_type": "execute_result",
          "data": {
            "text/plain": [
              "0      スカートskirtを買います。\n",
              "1        ニットknitを買います。\n",
              "2    ジャケットjacketを買います。\n",
              "3       シャツshirtを買います。\n",
              "4            nanを買います。\n",
              "dtype: object"
            ]
          },
          "metadata": {},
          "execution_count": 47
        }
      ]
    },
    {
      "cell_type": "code",
      "metadata": {
        "colab": {
          "base_uri": "https://localhost:8080/",
          "height": 142
        },
        "id": "eXTttVFIhbct",
        "outputId": "a46752e1-774e-4583-e273-ef6029a4d6f1"
      },
      "source": [
        "df = pd.DataFrame(\n",
        "    [[11000,6000,8000],[5000,12000,6000],[4000,5000,9000]],\n",
        "    columns=['1日','2日','3日'], index=['Aさん','Bさん','Cさん'])\n",
        "df"
      ],
      "execution_count": 48,
      "outputs": [
        {
          "output_type": "execute_result",
          "data": {
            "text/html": [
              "<div>\n",
              "<style scoped>\n",
              "    .dataframe tbody tr th:only-of-type {\n",
              "        vertical-align: middle;\n",
              "    }\n",
              "\n",
              "    .dataframe tbody tr th {\n",
              "        vertical-align: top;\n",
              "    }\n",
              "\n",
              "    .dataframe thead th {\n",
              "        text-align: right;\n",
              "    }\n",
              "</style>\n",
              "<table border=\"1\" class=\"dataframe\">\n",
              "  <thead>\n",
              "    <tr style=\"text-align: right;\">\n",
              "      <th></th>\n",
              "      <th>1日</th>\n",
              "      <th>2日</th>\n",
              "      <th>3日</th>\n",
              "    </tr>\n",
              "  </thead>\n",
              "  <tbody>\n",
              "    <tr>\n",
              "      <th>Aさん</th>\n",
              "      <td>11000</td>\n",
              "      <td>6000</td>\n",
              "      <td>8000</td>\n",
              "    </tr>\n",
              "    <tr>\n",
              "      <th>Bさん</th>\n",
              "      <td>5000</td>\n",
              "      <td>12000</td>\n",
              "      <td>6000</td>\n",
              "    </tr>\n",
              "    <tr>\n",
              "      <th>Cさん</th>\n",
              "      <td>4000</td>\n",
              "      <td>5000</td>\n",
              "      <td>9000</td>\n",
              "    </tr>\n",
              "  </tbody>\n",
              "</table>\n",
              "</div>"
            ],
            "text/plain": [
              "        1日     2日    3日\n",
              "Aさん  11000   6000  8000\n",
              "Bさん   5000  12000  6000\n",
              "Cさん   4000   5000  9000"
            ]
          },
          "metadata": {},
          "execution_count": 48
        }
      ]
    },
    {
      "cell_type": "code",
      "metadata": {
        "colab": {
          "base_uri": "https://localhost:8080/",
          "height": 142
        },
        "id": "Ydv1FUAoiHrc",
        "outputId": "6a98defb-8ff1-409e-c017-d622f2fd5fc0"
      },
      "source": [
        "df * 2"
      ],
      "execution_count": 49,
      "outputs": [
        {
          "output_type": "execute_result",
          "data": {
            "text/html": [
              "<div>\n",
              "<style scoped>\n",
              "    .dataframe tbody tr th:only-of-type {\n",
              "        vertical-align: middle;\n",
              "    }\n",
              "\n",
              "    .dataframe tbody tr th {\n",
              "        vertical-align: top;\n",
              "    }\n",
              "\n",
              "    .dataframe thead th {\n",
              "        text-align: right;\n",
              "    }\n",
              "</style>\n",
              "<table border=\"1\" class=\"dataframe\">\n",
              "  <thead>\n",
              "    <tr style=\"text-align: right;\">\n",
              "      <th></th>\n",
              "      <th>1日</th>\n",
              "      <th>2日</th>\n",
              "      <th>3日</th>\n",
              "    </tr>\n",
              "  </thead>\n",
              "  <tbody>\n",
              "    <tr>\n",
              "      <th>Aさん</th>\n",
              "      <td>22000</td>\n",
              "      <td>12000</td>\n",
              "      <td>16000</td>\n",
              "    </tr>\n",
              "    <tr>\n",
              "      <th>Bさん</th>\n",
              "      <td>10000</td>\n",
              "      <td>24000</td>\n",
              "      <td>12000</td>\n",
              "    </tr>\n",
              "    <tr>\n",
              "      <th>Cさん</th>\n",
              "      <td>8000</td>\n",
              "      <td>10000</td>\n",
              "      <td>18000</td>\n",
              "    </tr>\n",
              "  </tbody>\n",
              "</table>\n",
              "</div>"
            ],
            "text/plain": [
              "        1日     2日     3日\n",
              "Aさん  22000  12000  16000\n",
              "Bさん  10000  24000  12000\n",
              "Cさん   8000  10000  18000"
            ]
          },
          "metadata": {},
          "execution_count": 49
        }
      ]
    },
    {
      "cell_type": "code",
      "metadata": {
        "colab": {
          "base_uri": "https://localhost:8080/",
          "height": 142
        },
        "id": "N4Sd0p6-iLrM",
        "outputId": "e318936c-ad22-4f03-934e-1fdb8d492c76"
      },
      "source": [
        "df.applymap(double)"
      ],
      "execution_count": 50,
      "outputs": [
        {
          "output_type": "execute_result",
          "data": {
            "text/html": [
              "<div>\n",
              "<style scoped>\n",
              "    .dataframe tbody tr th:only-of-type {\n",
              "        vertical-align: middle;\n",
              "    }\n",
              "\n",
              "    .dataframe tbody tr th {\n",
              "        vertical-align: top;\n",
              "    }\n",
              "\n",
              "    .dataframe thead th {\n",
              "        text-align: right;\n",
              "    }\n",
              "</style>\n",
              "<table border=\"1\" class=\"dataframe\">\n",
              "  <thead>\n",
              "    <tr style=\"text-align: right;\">\n",
              "      <th></th>\n",
              "      <th>1日</th>\n",
              "      <th>2日</th>\n",
              "      <th>3日</th>\n",
              "    </tr>\n",
              "  </thead>\n",
              "  <tbody>\n",
              "    <tr>\n",
              "      <th>Aさん</th>\n",
              "      <td>22000</td>\n",
              "      <td>12000</td>\n",
              "      <td>16000</td>\n",
              "    </tr>\n",
              "    <tr>\n",
              "      <th>Bさん</th>\n",
              "      <td>10000</td>\n",
              "      <td>24000</td>\n",
              "      <td>12000</td>\n",
              "    </tr>\n",
              "    <tr>\n",
              "      <th>Cさん</th>\n",
              "      <td>8000</td>\n",
              "      <td>10000</td>\n",
              "      <td>18000</td>\n",
              "    </tr>\n",
              "  </tbody>\n",
              "</table>\n",
              "</div>"
            ],
            "text/plain": [
              "        1日     2日     3日\n",
              "Aさん  22000  12000  16000\n",
              "Bさん  10000  24000  12000\n",
              "Cさん   8000  10000  18000"
            ]
          },
          "metadata": {},
          "execution_count": 50
        }
      ]
    },
    {
      "cell_type": "code",
      "metadata": {
        "colab": {
          "base_uri": "https://localhost:8080/",
          "height": 142
        },
        "id": "6L0l6J-aiRGg",
        "outputId": "e5e4380d-22fd-485c-a6ee-c9e34d0733c8"
      },
      "source": [
        "df.applymap(lambda x : x * 2)"
      ],
      "execution_count": 51,
      "outputs": [
        {
          "output_type": "execute_result",
          "data": {
            "text/html": [
              "<div>\n",
              "<style scoped>\n",
              "    .dataframe tbody tr th:only-of-type {\n",
              "        vertical-align: middle;\n",
              "    }\n",
              "\n",
              "    .dataframe tbody tr th {\n",
              "        vertical-align: top;\n",
              "    }\n",
              "\n",
              "    .dataframe thead th {\n",
              "        text-align: right;\n",
              "    }\n",
              "</style>\n",
              "<table border=\"1\" class=\"dataframe\">\n",
              "  <thead>\n",
              "    <tr style=\"text-align: right;\">\n",
              "      <th></th>\n",
              "      <th>1日</th>\n",
              "      <th>2日</th>\n",
              "      <th>3日</th>\n",
              "    </tr>\n",
              "  </thead>\n",
              "  <tbody>\n",
              "    <tr>\n",
              "      <th>Aさん</th>\n",
              "      <td>22000</td>\n",
              "      <td>12000</td>\n",
              "      <td>16000</td>\n",
              "    </tr>\n",
              "    <tr>\n",
              "      <th>Bさん</th>\n",
              "      <td>10000</td>\n",
              "      <td>24000</td>\n",
              "      <td>12000</td>\n",
              "    </tr>\n",
              "    <tr>\n",
              "      <th>Cさん</th>\n",
              "      <td>8000</td>\n",
              "      <td>10000</td>\n",
              "      <td>18000</td>\n",
              "    </tr>\n",
              "  </tbody>\n",
              "</table>\n",
              "</div>"
            ],
            "text/plain": [
              "        1日     2日     3日\n",
              "Aさん  22000  12000  16000\n",
              "Bさん  10000  24000  12000\n",
              "Cさん   8000  10000  18000"
            ]
          },
          "metadata": {},
          "execution_count": 51
        }
      ]
    },
    {
      "cell_type": "code",
      "metadata": {
        "colab": {
          "base_uri": "https://localhost:8080/",
          "height": 142
        },
        "id": "l9gxkiJPiewh",
        "outputId": "b138a634-5fc6-4f8d-e8c2-344ceb222dc6"
      },
      "source": [
        "df.applymap(lambda x: '1万円以上' if x >= 10000 else '1万円未満')"
      ],
      "execution_count": 52,
      "outputs": [
        {
          "output_type": "execute_result",
          "data": {
            "text/html": [
              "<div>\n",
              "<style scoped>\n",
              "    .dataframe tbody tr th:only-of-type {\n",
              "        vertical-align: middle;\n",
              "    }\n",
              "\n",
              "    .dataframe tbody tr th {\n",
              "        vertical-align: top;\n",
              "    }\n",
              "\n",
              "    .dataframe thead th {\n",
              "        text-align: right;\n",
              "    }\n",
              "</style>\n",
              "<table border=\"1\" class=\"dataframe\">\n",
              "  <thead>\n",
              "    <tr style=\"text-align: right;\">\n",
              "      <th></th>\n",
              "      <th>1日</th>\n",
              "      <th>2日</th>\n",
              "      <th>3日</th>\n",
              "    </tr>\n",
              "  </thead>\n",
              "  <tbody>\n",
              "    <tr>\n",
              "      <th>Aさん</th>\n",
              "      <td>1万円以上</td>\n",
              "      <td>1万円未満</td>\n",
              "      <td>1万円未満</td>\n",
              "    </tr>\n",
              "    <tr>\n",
              "      <th>Bさん</th>\n",
              "      <td>1万円未満</td>\n",
              "      <td>1万円以上</td>\n",
              "      <td>1万円未満</td>\n",
              "    </tr>\n",
              "    <tr>\n",
              "      <th>Cさん</th>\n",
              "      <td>1万円未満</td>\n",
              "      <td>1万円未満</td>\n",
              "      <td>1万円未満</td>\n",
              "    </tr>\n",
              "  </tbody>\n",
              "</table>\n",
              "</div>"
            ],
            "text/plain": [
              "        1日     2日     3日\n",
              "Aさん  1万円以上  1万円未満  1万円未満\n",
              "Bさん  1万円未満  1万円以上  1万円未満\n",
              "Cさん  1万円未満  1万円未満  1万円未満"
            ]
          },
          "metadata": {},
          "execution_count": 52
        }
      ]
    },
    {
      "cell_type": "code",
      "metadata": {
        "colab": {
          "base_uri": "https://localhost:8080/",
          "height": 142
        },
        "id": "jQWtulylib5Q",
        "outputId": "43c4646d-f88d-4a93-8dbd-10390ead8234"
      },
      "source": [
        "df.applymap(f_rank)"
      ],
      "execution_count": 53,
      "outputs": [
        {
          "output_type": "execute_result",
          "data": {
            "text/html": [
              "<div>\n",
              "<style scoped>\n",
              "    .dataframe tbody tr th:only-of-type {\n",
              "        vertical-align: middle;\n",
              "    }\n",
              "\n",
              "    .dataframe tbody tr th {\n",
              "        vertical-align: top;\n",
              "    }\n",
              "\n",
              "    .dataframe thead th {\n",
              "        text-align: right;\n",
              "    }\n",
              "</style>\n",
              "<table border=\"1\" class=\"dataframe\">\n",
              "  <thead>\n",
              "    <tr style=\"text-align: right;\">\n",
              "      <th></th>\n",
              "      <th>1日</th>\n",
              "      <th>2日</th>\n",
              "      <th>3日</th>\n",
              "    </tr>\n",
              "  </thead>\n",
              "  <tbody>\n",
              "    <tr>\n",
              "      <th>Aさん</th>\n",
              "      <td>A</td>\n",
              "      <td>B</td>\n",
              "      <td>B</td>\n",
              "    </tr>\n",
              "    <tr>\n",
              "      <th>Bさん</th>\n",
              "      <td>B</td>\n",
              "      <td>A</td>\n",
              "      <td>B</td>\n",
              "    </tr>\n",
              "    <tr>\n",
              "      <th>Cさん</th>\n",
              "      <td>C</td>\n",
              "      <td>B</td>\n",
              "      <td>B</td>\n",
              "    </tr>\n",
              "  </tbody>\n",
              "</table>\n",
              "</div>"
            ],
            "text/plain": [
              "    1日 2日 3日\n",
              "Aさん  A  B  B\n",
              "Bさん  B  A  B\n",
              "Cさん  C  B  B"
            ]
          },
          "metadata": {},
          "execution_count": 53
        }
      ]
    },
    {
      "cell_type": "code",
      "metadata": {
        "colab": {
          "base_uri": "https://localhost:8080/",
          "height": 142
        },
        "id": "ovLTFj4qivMo",
        "outputId": "9e9f471a-f916-49f6-ea19-1df88a230e9f"
      },
      "source": [
        "df.mask(df < 10000, '1万円未満')"
      ],
      "execution_count": 54,
      "outputs": [
        {
          "output_type": "execute_result",
          "data": {
            "text/html": [
              "<div>\n",
              "<style scoped>\n",
              "    .dataframe tbody tr th:only-of-type {\n",
              "        vertical-align: middle;\n",
              "    }\n",
              "\n",
              "    .dataframe tbody tr th {\n",
              "        vertical-align: top;\n",
              "    }\n",
              "\n",
              "    .dataframe thead th {\n",
              "        text-align: right;\n",
              "    }\n",
              "</style>\n",
              "<table border=\"1\" class=\"dataframe\">\n",
              "  <thead>\n",
              "    <tr style=\"text-align: right;\">\n",
              "      <th></th>\n",
              "      <th>1日</th>\n",
              "      <th>2日</th>\n",
              "      <th>3日</th>\n",
              "    </tr>\n",
              "  </thead>\n",
              "  <tbody>\n",
              "    <tr>\n",
              "      <th>Aさん</th>\n",
              "      <td>11000</td>\n",
              "      <td>1万円未満</td>\n",
              "      <td>1万円未満</td>\n",
              "    </tr>\n",
              "    <tr>\n",
              "      <th>Bさん</th>\n",
              "      <td>1万円未満</td>\n",
              "      <td>12000</td>\n",
              "      <td>1万円未満</td>\n",
              "    </tr>\n",
              "    <tr>\n",
              "      <th>Cさん</th>\n",
              "      <td>1万円未満</td>\n",
              "      <td>1万円未満</td>\n",
              "      <td>1万円未満</td>\n",
              "    </tr>\n",
              "  </tbody>\n",
              "</table>\n",
              "</div>"
            ],
            "text/plain": [
              "        1日     2日     3日\n",
              "Aさん  11000  1万円未満  1万円未満\n",
              "Bさん  1万円未満  12000  1万円未満\n",
              "Cさん  1万円未満  1万円未満  1万円未満"
            ]
          },
          "metadata": {},
          "execution_count": 54
        }
      ]
    },
    {
      "cell_type": "code",
      "metadata": {
        "colab": {
          "base_uri": "https://localhost:8080/",
          "height": 142
        },
        "id": "CoMaTNzyi9eF",
        "outputId": "3730ac29-e36d-487e-debb-d0e6eaf0432b"
      },
      "source": [
        "df < 10000"
      ],
      "execution_count": 55,
      "outputs": [
        {
          "output_type": "execute_result",
          "data": {
            "text/html": [
              "<div>\n",
              "<style scoped>\n",
              "    .dataframe tbody tr th:only-of-type {\n",
              "        vertical-align: middle;\n",
              "    }\n",
              "\n",
              "    .dataframe tbody tr th {\n",
              "        vertical-align: top;\n",
              "    }\n",
              "\n",
              "    .dataframe thead th {\n",
              "        text-align: right;\n",
              "    }\n",
              "</style>\n",
              "<table border=\"1\" class=\"dataframe\">\n",
              "  <thead>\n",
              "    <tr style=\"text-align: right;\">\n",
              "      <th></th>\n",
              "      <th>1日</th>\n",
              "      <th>2日</th>\n",
              "      <th>3日</th>\n",
              "    </tr>\n",
              "  </thead>\n",
              "  <tbody>\n",
              "    <tr>\n",
              "      <th>Aさん</th>\n",
              "      <td>False</td>\n",
              "      <td>True</td>\n",
              "      <td>True</td>\n",
              "    </tr>\n",
              "    <tr>\n",
              "      <th>Bさん</th>\n",
              "      <td>True</td>\n",
              "      <td>False</td>\n",
              "      <td>True</td>\n",
              "    </tr>\n",
              "    <tr>\n",
              "      <th>Cさん</th>\n",
              "      <td>True</td>\n",
              "      <td>True</td>\n",
              "      <td>True</td>\n",
              "    </tr>\n",
              "  </tbody>\n",
              "</table>\n",
              "</div>"
            ],
            "text/plain": [
              "        1日     2日    3日\n",
              "Aさん  False   True  True\n",
              "Bさん   True  False  True\n",
              "Cさん   True   True  True"
            ]
          },
          "metadata": {},
          "execution_count": 55
        }
      ]
    },
    {
      "cell_type": "code",
      "metadata": {
        "colab": {
          "base_uri": "https://localhost:8080/",
          "height": 142
        },
        "id": "oCeuDV8DjC3R",
        "outputId": "e3fbf47e-1aed-4513-ec52-dfefca5c816a"
      },
      "source": [
        "df.where(df < 10000, '1万円以上')"
      ],
      "execution_count": 56,
      "outputs": [
        {
          "output_type": "execute_result",
          "data": {
            "text/html": [
              "<div>\n",
              "<style scoped>\n",
              "    .dataframe tbody tr th:only-of-type {\n",
              "        vertical-align: middle;\n",
              "    }\n",
              "\n",
              "    .dataframe tbody tr th {\n",
              "        vertical-align: top;\n",
              "    }\n",
              "\n",
              "    .dataframe thead th {\n",
              "        text-align: right;\n",
              "    }\n",
              "</style>\n",
              "<table border=\"1\" class=\"dataframe\">\n",
              "  <thead>\n",
              "    <tr style=\"text-align: right;\">\n",
              "      <th></th>\n",
              "      <th>1日</th>\n",
              "      <th>2日</th>\n",
              "      <th>3日</th>\n",
              "    </tr>\n",
              "  </thead>\n",
              "  <tbody>\n",
              "    <tr>\n",
              "      <th>Aさん</th>\n",
              "      <td>1万円以上</td>\n",
              "      <td>6000</td>\n",
              "      <td>8000</td>\n",
              "    </tr>\n",
              "    <tr>\n",
              "      <th>Bさん</th>\n",
              "      <td>5000</td>\n",
              "      <td>1万円以上</td>\n",
              "      <td>6000</td>\n",
              "    </tr>\n",
              "    <tr>\n",
              "      <th>Cさん</th>\n",
              "      <td>4000</td>\n",
              "      <td>5000</td>\n",
              "      <td>9000</td>\n",
              "    </tr>\n",
              "  </tbody>\n",
              "</table>\n",
              "</div>"
            ],
            "text/plain": [
              "        1日     2日    3日\n",
              "Aさん  1万円以上   6000  8000\n",
              "Bさん   5000  1万円以上  6000\n",
              "Cさん   4000   5000  9000"
            ]
          },
          "metadata": {},
          "execution_count": 56
        }
      ]
    },
    {
      "cell_type": "code",
      "metadata": {
        "colab": {
          "base_uri": "https://localhost:8080/",
          "height": 142
        },
        "id": "96Vy3w2mjKO1",
        "outputId": "1871617b-ff09-482f-d87c-9c0e01fd2bce"
      },
      "source": [
        "df.applymap(np.square)"
      ],
      "execution_count": 57,
      "outputs": [
        {
          "output_type": "execute_result",
          "data": {
            "text/html": [
              "<div>\n",
              "<style scoped>\n",
              "    .dataframe tbody tr th:only-of-type {\n",
              "        vertical-align: middle;\n",
              "    }\n",
              "\n",
              "    .dataframe tbody tr th {\n",
              "        vertical-align: top;\n",
              "    }\n",
              "\n",
              "    .dataframe thead th {\n",
              "        text-align: right;\n",
              "    }\n",
              "</style>\n",
              "<table border=\"1\" class=\"dataframe\">\n",
              "  <thead>\n",
              "    <tr style=\"text-align: right;\">\n",
              "      <th></th>\n",
              "      <th>1日</th>\n",
              "      <th>2日</th>\n",
              "      <th>3日</th>\n",
              "    </tr>\n",
              "  </thead>\n",
              "  <tbody>\n",
              "    <tr>\n",
              "      <th>Aさん</th>\n",
              "      <td>121000000</td>\n",
              "      <td>36000000</td>\n",
              "      <td>64000000</td>\n",
              "    </tr>\n",
              "    <tr>\n",
              "      <th>Bさん</th>\n",
              "      <td>25000000</td>\n",
              "      <td>144000000</td>\n",
              "      <td>36000000</td>\n",
              "    </tr>\n",
              "    <tr>\n",
              "      <th>Cさん</th>\n",
              "      <td>16000000</td>\n",
              "      <td>25000000</td>\n",
              "      <td>81000000</td>\n",
              "    </tr>\n",
              "  </tbody>\n",
              "</table>\n",
              "</div>"
            ],
            "text/plain": [
              "            1日         2日        3日\n",
              "Aさん  121000000   36000000  64000000\n",
              "Bさん   25000000  144000000  36000000\n",
              "Cさん   16000000   25000000  81000000"
            ]
          },
          "metadata": {},
          "execution_count": 57
        }
      ]
    },
    {
      "cell_type": "code",
      "metadata": {
        "colab": {
          "base_uri": "https://localhost:8080/",
          "height": 142
        },
        "id": "KBPc4jEsjUkk",
        "outputId": "067bacc6-d671-4657-a8d2-b1bfeede9f68"
      },
      "source": [
        "df.applymap(np.sum)"
      ],
      "execution_count": 58,
      "outputs": [
        {
          "output_type": "execute_result",
          "data": {
            "text/html": [
              "<div>\n",
              "<style scoped>\n",
              "    .dataframe tbody tr th:only-of-type {\n",
              "        vertical-align: middle;\n",
              "    }\n",
              "\n",
              "    .dataframe tbody tr th {\n",
              "        vertical-align: top;\n",
              "    }\n",
              "\n",
              "    .dataframe thead th {\n",
              "        text-align: right;\n",
              "    }\n",
              "</style>\n",
              "<table border=\"1\" class=\"dataframe\">\n",
              "  <thead>\n",
              "    <tr style=\"text-align: right;\">\n",
              "      <th></th>\n",
              "      <th>1日</th>\n",
              "      <th>2日</th>\n",
              "      <th>3日</th>\n",
              "    </tr>\n",
              "  </thead>\n",
              "  <tbody>\n",
              "    <tr>\n",
              "      <th>Aさん</th>\n",
              "      <td>11000</td>\n",
              "      <td>6000</td>\n",
              "      <td>8000</td>\n",
              "    </tr>\n",
              "    <tr>\n",
              "      <th>Bさん</th>\n",
              "      <td>5000</td>\n",
              "      <td>12000</td>\n",
              "      <td>6000</td>\n",
              "    </tr>\n",
              "    <tr>\n",
              "      <th>Cさん</th>\n",
              "      <td>4000</td>\n",
              "      <td>5000</td>\n",
              "      <td>9000</td>\n",
              "    </tr>\n",
              "  </tbody>\n",
              "</table>\n",
              "</div>"
            ],
            "text/plain": [
              "        1日     2日    3日\n",
              "Aさん  11000   6000  8000\n",
              "Bさん   5000  12000  6000\n",
              "Cさん   4000   5000  9000"
            ]
          },
          "metadata": {},
          "execution_count": 58
        }
      ]
    },
    {
      "cell_type": "code",
      "metadata": {
        "colab": {
          "base_uri": "https://localhost:8080/"
        },
        "id": "wIhYhGqhjYvd",
        "outputId": "b7063dcc-ce8a-4301-e6dd-34c4a3047ecc"
      },
      "source": [
        "df.sum()"
      ],
      "execution_count": 59,
      "outputs": [
        {
          "output_type": "execute_result",
          "data": {
            "text/plain": [
              "1日    20000\n",
              "2日    23000\n",
              "3日    23000\n",
              "dtype: int64"
            ]
          },
          "metadata": {},
          "execution_count": 59
        }
      ]
    },
    {
      "cell_type": "code",
      "metadata": {
        "colab": {
          "base_uri": "https://localhost:8080/",
          "height": 111
        },
        "id": "hileBXxijeGu",
        "outputId": "289ef5dc-9e7c-4354-d9af-aab72ea72c47"
      },
      "source": [
        "df2 = pd.DataFrame([['スカートSkirt', 'ニットKnit', 'ジャケットJacket'],\n",
        "                      ['シャツShirt', 'ロングパンツSlacks', 'ワンピースOnepiesce']],\n",
        "                      columns=['x', 'y', 'z'])\n",
        "df2"
      ],
      "execution_count": 60,
      "outputs": [
        {
          "output_type": "execute_result",
          "data": {
            "text/html": [
              "<div>\n",
              "<style scoped>\n",
              "    .dataframe tbody tr th:only-of-type {\n",
              "        vertical-align: middle;\n",
              "    }\n",
              "\n",
              "    .dataframe tbody tr th {\n",
              "        vertical-align: top;\n",
              "    }\n",
              "\n",
              "    .dataframe thead th {\n",
              "        text-align: right;\n",
              "    }\n",
              "</style>\n",
              "<table border=\"1\" class=\"dataframe\">\n",
              "  <thead>\n",
              "    <tr style=\"text-align: right;\">\n",
              "      <th></th>\n",
              "      <th>x</th>\n",
              "      <th>y</th>\n",
              "      <th>z</th>\n",
              "    </tr>\n",
              "  </thead>\n",
              "  <tbody>\n",
              "    <tr>\n",
              "      <th>0</th>\n",
              "      <td>スカートSkirt</td>\n",
              "      <td>ニットKnit</td>\n",
              "      <td>ジャケットJacket</td>\n",
              "    </tr>\n",
              "    <tr>\n",
              "      <th>1</th>\n",
              "      <td>シャツShirt</td>\n",
              "      <td>ロングパンツSlacks</td>\n",
              "      <td>ワンピースOnepiesce</td>\n",
              "    </tr>\n",
              "  </tbody>\n",
              "</table>\n",
              "</div>"
            ],
            "text/plain": [
              "           x             y               z\n",
              "0  スカートSkirt       ニットKnit     ジャケットJacket\n",
              "1   シャツShirt  ロングパンツSlacks  ワンピースOnepiesce"
            ]
          },
          "metadata": {},
          "execution_count": 60
        }
      ]
    },
    {
      "cell_type": "code",
      "metadata": {
        "colab": {
          "base_uri": "https://localhost:8080/",
          "height": 111
        },
        "id": "Rbw4vVs2joDE",
        "outputId": "5f804b3d-6bd1-421e-b5d6-588a393098a1"
      },
      "source": [
        "df2.applymap(lambda x: x[0])"
      ],
      "execution_count": 63,
      "outputs": [
        {
          "output_type": "execute_result",
          "data": {
            "text/html": [
              "<div>\n",
              "<style scoped>\n",
              "    .dataframe tbody tr th:only-of-type {\n",
              "        vertical-align: middle;\n",
              "    }\n",
              "\n",
              "    .dataframe tbody tr th {\n",
              "        vertical-align: top;\n",
              "    }\n",
              "\n",
              "    .dataframe thead th {\n",
              "        text-align: right;\n",
              "    }\n",
              "</style>\n",
              "<table border=\"1\" class=\"dataframe\">\n",
              "  <thead>\n",
              "    <tr style=\"text-align: right;\">\n",
              "      <th></th>\n",
              "      <th>x</th>\n",
              "      <th>y</th>\n",
              "      <th>z</th>\n",
              "    </tr>\n",
              "  </thead>\n",
              "  <tbody>\n",
              "    <tr>\n",
              "      <th>0</th>\n",
              "      <td>ス</td>\n",
              "      <td>ニ</td>\n",
              "      <td>ジ</td>\n",
              "    </tr>\n",
              "    <tr>\n",
              "      <th>1</th>\n",
              "      <td>シ</td>\n",
              "      <td>ロ</td>\n",
              "      <td>ワ</td>\n",
              "    </tr>\n",
              "  </tbody>\n",
              "</table>\n",
              "</div>"
            ],
            "text/plain": [
              "   x  y  z\n",
              "0  ス  ニ  ジ\n",
              "1  シ  ロ  ワ"
            ]
          },
          "metadata": {},
          "execution_count": 63
        }
      ]
    },
    {
      "cell_type": "code",
      "metadata": {
        "colab": {
          "base_uri": "https://localhost:8080/",
          "height": 111
        },
        "id": "j9zl3KDwjvLo",
        "outputId": "0fde9be5-58b3-4ffd-b89c-5ec2fb5c0ff2"
      },
      "source": [
        "df2.applymap(lambda x: re.findall('[A-z]+', x))"
      ],
      "execution_count": 66,
      "outputs": [
        {
          "output_type": "execute_result",
          "data": {
            "text/html": [
              "<div>\n",
              "<style scoped>\n",
              "    .dataframe tbody tr th:only-of-type {\n",
              "        vertical-align: middle;\n",
              "    }\n",
              "\n",
              "    .dataframe tbody tr th {\n",
              "        vertical-align: top;\n",
              "    }\n",
              "\n",
              "    .dataframe thead th {\n",
              "        text-align: right;\n",
              "    }\n",
              "</style>\n",
              "<table border=\"1\" class=\"dataframe\">\n",
              "  <thead>\n",
              "    <tr style=\"text-align: right;\">\n",
              "      <th></th>\n",
              "      <th>x</th>\n",
              "      <th>y</th>\n",
              "      <th>z</th>\n",
              "    </tr>\n",
              "  </thead>\n",
              "  <tbody>\n",
              "    <tr>\n",
              "      <th>0</th>\n",
              "      <td>[Skirt]</td>\n",
              "      <td>[Knit]</td>\n",
              "      <td>[Jacket]</td>\n",
              "    </tr>\n",
              "    <tr>\n",
              "      <th>1</th>\n",
              "      <td>[Shirt]</td>\n",
              "      <td>[Slacks]</td>\n",
              "      <td>[Onepiesce]</td>\n",
              "    </tr>\n",
              "  </tbody>\n",
              "</table>\n",
              "</div>"
            ],
            "text/plain": [
              "         x         y            z\n",
              "0  [Skirt]    [Knit]     [Jacket]\n",
              "1  [Shirt]  [Slacks]  [Onepiesce]"
            ]
          },
          "metadata": {},
          "execution_count": 66
        }
      ]
    },
    {
      "cell_type": "code",
      "metadata": {
        "colab": {
          "base_uri": "https://localhost:8080/",
          "height": 142
        },
        "id": "FvGj4nEMkEQO",
        "outputId": "9b3b8094-e89a-4a04-d665-54e03249c6e6"
      },
      "source": [
        "df.apply(double)"
      ],
      "execution_count": 67,
      "outputs": [
        {
          "output_type": "execute_result",
          "data": {
            "text/html": [
              "<div>\n",
              "<style scoped>\n",
              "    .dataframe tbody tr th:only-of-type {\n",
              "        vertical-align: middle;\n",
              "    }\n",
              "\n",
              "    .dataframe tbody tr th {\n",
              "        vertical-align: top;\n",
              "    }\n",
              "\n",
              "    .dataframe thead th {\n",
              "        text-align: right;\n",
              "    }\n",
              "</style>\n",
              "<table border=\"1\" class=\"dataframe\">\n",
              "  <thead>\n",
              "    <tr style=\"text-align: right;\">\n",
              "      <th></th>\n",
              "      <th>1日</th>\n",
              "      <th>2日</th>\n",
              "      <th>3日</th>\n",
              "    </tr>\n",
              "  </thead>\n",
              "  <tbody>\n",
              "    <tr>\n",
              "      <th>Aさん</th>\n",
              "      <td>22000</td>\n",
              "      <td>12000</td>\n",
              "      <td>16000</td>\n",
              "    </tr>\n",
              "    <tr>\n",
              "      <th>Bさん</th>\n",
              "      <td>10000</td>\n",
              "      <td>24000</td>\n",
              "      <td>12000</td>\n",
              "    </tr>\n",
              "    <tr>\n",
              "      <th>Cさん</th>\n",
              "      <td>8000</td>\n",
              "      <td>10000</td>\n",
              "      <td>18000</td>\n",
              "    </tr>\n",
              "  </tbody>\n",
              "</table>\n",
              "</div>"
            ],
            "text/plain": [
              "        1日     2日     3日\n",
              "Aさん  22000  12000  16000\n",
              "Bさん  10000  24000  12000\n",
              "Cさん   8000  10000  18000"
            ]
          },
          "metadata": {},
          "execution_count": 67
        }
      ]
    },
    {
      "cell_type": "code",
      "metadata": {
        "colab": {
          "base_uri": "https://localhost:8080/",
          "height": 142
        },
        "id": "Skx_erjUkU5J",
        "outputId": "c47e0ea6-ab82-4c95-b8a0-0a52c2edf937"
      },
      "source": [
        "df.apply(lambda x: x >= 10000)"
      ],
      "execution_count": 69,
      "outputs": [
        {
          "output_type": "execute_result",
          "data": {
            "text/html": [
              "<div>\n",
              "<style scoped>\n",
              "    .dataframe tbody tr th:only-of-type {\n",
              "        vertical-align: middle;\n",
              "    }\n",
              "\n",
              "    .dataframe tbody tr th {\n",
              "        vertical-align: top;\n",
              "    }\n",
              "\n",
              "    .dataframe thead th {\n",
              "        text-align: right;\n",
              "    }\n",
              "</style>\n",
              "<table border=\"1\" class=\"dataframe\">\n",
              "  <thead>\n",
              "    <tr style=\"text-align: right;\">\n",
              "      <th></th>\n",
              "      <th>1日</th>\n",
              "      <th>2日</th>\n",
              "      <th>3日</th>\n",
              "    </tr>\n",
              "  </thead>\n",
              "  <tbody>\n",
              "    <tr>\n",
              "      <th>Aさん</th>\n",
              "      <td>True</td>\n",
              "      <td>False</td>\n",
              "      <td>False</td>\n",
              "    </tr>\n",
              "    <tr>\n",
              "      <th>Bさん</th>\n",
              "      <td>False</td>\n",
              "      <td>True</td>\n",
              "      <td>False</td>\n",
              "    </tr>\n",
              "    <tr>\n",
              "      <th>Cさん</th>\n",
              "      <td>False</td>\n",
              "      <td>False</td>\n",
              "      <td>False</td>\n",
              "    </tr>\n",
              "  </tbody>\n",
              "</table>\n",
              "</div>"
            ],
            "text/plain": [
              "        1日     2日     3日\n",
              "Aさん   True  False  False\n",
              "Bさん  False   True  False\n",
              "Cさん  False  False  False"
            ]
          },
          "metadata": {},
          "execution_count": 69
        }
      ]
    },
    {
      "cell_type": "code",
      "metadata": {
        "colab": {
          "base_uri": "https://localhost:8080/"
        },
        "id": "Rbqvu53Ikqzh",
        "outputId": "8abddbf3-92d0-491c-a3cd-66446ce3e7dc"
      },
      "source": [
        "df['1日'].apply(lambda x: '1万円以上' if x >= 10000 else '1万円未満')"
      ],
      "execution_count": 71,
      "outputs": [
        {
          "output_type": "execute_result",
          "data": {
            "text/plain": [
              "Aさん    1万円以上\n",
              "Bさん    1万円未満\n",
              "Cさん    1万円未満\n",
              "Name: 1日, dtype: object"
            ]
          },
          "metadata": {},
          "execution_count": 71
        }
      ]
    },
    {
      "cell_type": "code",
      "metadata": {
        "colab": {
          "base_uri": "https://localhost:8080/",
          "height": 142
        },
        "id": "wjIdymColCx-",
        "outputId": "ed138b36-3214-49d0-d146-dee03a358324"
      },
      "source": [
        "df.apply(f_tax, args=(0.1,))"
      ],
      "execution_count": 72,
      "outputs": [
        {
          "output_type": "execute_result",
          "data": {
            "text/html": [
              "<div>\n",
              "<style scoped>\n",
              "    .dataframe tbody tr th:only-of-type {\n",
              "        vertical-align: middle;\n",
              "    }\n",
              "\n",
              "    .dataframe tbody tr th {\n",
              "        vertical-align: top;\n",
              "    }\n",
              "\n",
              "    .dataframe thead th {\n",
              "        text-align: right;\n",
              "    }\n",
              "</style>\n",
              "<table border=\"1\" class=\"dataframe\">\n",
              "  <thead>\n",
              "    <tr style=\"text-align: right;\">\n",
              "      <th></th>\n",
              "      <th>1日</th>\n",
              "      <th>2日</th>\n",
              "      <th>3日</th>\n",
              "    </tr>\n",
              "  </thead>\n",
              "  <tbody>\n",
              "    <tr>\n",
              "      <th>Aさん</th>\n",
              "      <td>12100.0</td>\n",
              "      <td>6600.0</td>\n",
              "      <td>8800.0</td>\n",
              "    </tr>\n",
              "    <tr>\n",
              "      <th>Bさん</th>\n",
              "      <td>5500.0</td>\n",
              "      <td>13200.0</td>\n",
              "      <td>6600.0</td>\n",
              "    </tr>\n",
              "    <tr>\n",
              "      <th>Cさん</th>\n",
              "      <td>4400.0</td>\n",
              "      <td>5500.0</td>\n",
              "      <td>9900.0</td>\n",
              "    </tr>\n",
              "  </tbody>\n",
              "</table>\n",
              "</div>"
            ],
            "text/plain": [
              "          1日       2日      3日\n",
              "Aさん  12100.0   6600.0  8800.0\n",
              "Bさん   5500.0  13200.0  6600.0\n",
              "Cさん   4400.0   5500.0  9900.0"
            ]
          },
          "metadata": {},
          "execution_count": 72
        }
      ]
    },
    {
      "cell_type": "code",
      "metadata": {
        "colab": {
          "base_uri": "https://localhost:8080/"
        },
        "id": "D3qvUK8ZlS1N",
        "outputId": "4e20da1e-eb40-4b0f-be57-073726720fed"
      },
      "source": [
        "df.apply(np.sum)"
      ],
      "execution_count": 73,
      "outputs": [
        {
          "output_type": "execute_result",
          "data": {
            "text/plain": [
              "1日    20000\n",
              "2日    23000\n",
              "3日    23000\n",
              "dtype: int64"
            ]
          },
          "metadata": {},
          "execution_count": 73
        }
      ]
    },
    {
      "cell_type": "code",
      "metadata": {
        "colab": {
          "base_uri": "https://localhost:8080/"
        },
        "id": "7z45V848lYWN",
        "outputId": "66af99a5-a652-42e0-b672-de47f860a3a5"
      },
      "source": [
        "df.apply(np.sum,axis=1)"
      ],
      "execution_count": 74,
      "outputs": [
        {
          "output_type": "execute_result",
          "data": {
            "text/plain": [
              "Aさん    25000\n",
              "Bさん    23000\n",
              "Cさん    18000\n",
              "dtype: int64"
            ]
          },
          "metadata": {},
          "execution_count": 74
        }
      ]
    },
    {
      "cell_type": "code",
      "metadata": {
        "colab": {
          "base_uri": "https://localhost:8080/",
          "height": 142
        },
        "id": "uH_9D39nljf-",
        "outputId": "5986576d-df43-4ba3-d42b-a463c1a2954d"
      },
      "source": [
        "df"
      ],
      "execution_count": 75,
      "outputs": [
        {
          "output_type": "execute_result",
          "data": {
            "text/html": [
              "<div>\n",
              "<style scoped>\n",
              "    .dataframe tbody tr th:only-of-type {\n",
              "        vertical-align: middle;\n",
              "    }\n",
              "\n",
              "    .dataframe tbody tr th {\n",
              "        vertical-align: top;\n",
              "    }\n",
              "\n",
              "    .dataframe thead th {\n",
              "        text-align: right;\n",
              "    }\n",
              "</style>\n",
              "<table border=\"1\" class=\"dataframe\">\n",
              "  <thead>\n",
              "    <tr style=\"text-align: right;\">\n",
              "      <th></th>\n",
              "      <th>1日</th>\n",
              "      <th>2日</th>\n",
              "      <th>3日</th>\n",
              "    </tr>\n",
              "  </thead>\n",
              "  <tbody>\n",
              "    <tr>\n",
              "      <th>Aさん</th>\n",
              "      <td>11000</td>\n",
              "      <td>6000</td>\n",
              "      <td>8000</td>\n",
              "    </tr>\n",
              "    <tr>\n",
              "      <th>Bさん</th>\n",
              "      <td>5000</td>\n",
              "      <td>12000</td>\n",
              "      <td>6000</td>\n",
              "    </tr>\n",
              "    <tr>\n",
              "      <th>Cさん</th>\n",
              "      <td>4000</td>\n",
              "      <td>5000</td>\n",
              "      <td>9000</td>\n",
              "    </tr>\n",
              "  </tbody>\n",
              "</table>\n",
              "</div>"
            ],
            "text/plain": [
              "        1日     2日    3日\n",
              "Aさん  11000   6000  8000\n",
              "Bさん   5000  12000  6000\n",
              "Cさん   4000   5000  9000"
            ]
          },
          "metadata": {},
          "execution_count": 75
        }
      ]
    },
    {
      "cell_type": "code",
      "metadata": {
        "colab": {
          "base_uri": "https://localhost:8080/"
        },
        "id": "cPUPDT0ilqRo",
        "outputId": "864c6fc6-29e6-4382-ecb1-97e8fcc0005f"
      },
      "source": [
        "df.apply(lambda x: max(x) - min(x))"
      ],
      "execution_count": 76,
      "outputs": [
        {
          "output_type": "execute_result",
          "data": {
            "text/plain": [
              "1日    7000\n",
              "2日    7000\n",
              "3日    3000\n",
              "dtype: int64"
            ]
          },
          "metadata": {},
          "execution_count": 76
        }
      ]
    },
    {
      "cell_type": "code",
      "metadata": {
        "colab": {
          "base_uri": "https://localhost:8080/",
          "height": 111
        },
        "id": "-HYx9EqXlxhV",
        "outputId": "6ff58213-ec4e-42b0-80aa-b4e0aec12c49"
      },
      "source": [
        "df2"
      ],
      "execution_count": 77,
      "outputs": [
        {
          "output_type": "execute_result",
          "data": {
            "text/html": [
              "<div>\n",
              "<style scoped>\n",
              "    .dataframe tbody tr th:only-of-type {\n",
              "        vertical-align: middle;\n",
              "    }\n",
              "\n",
              "    .dataframe tbody tr th {\n",
              "        vertical-align: top;\n",
              "    }\n",
              "\n",
              "    .dataframe thead th {\n",
              "        text-align: right;\n",
              "    }\n",
              "</style>\n",
              "<table border=\"1\" class=\"dataframe\">\n",
              "  <thead>\n",
              "    <tr style=\"text-align: right;\">\n",
              "      <th></th>\n",
              "      <th>x</th>\n",
              "      <th>y</th>\n",
              "      <th>z</th>\n",
              "    </tr>\n",
              "  </thead>\n",
              "  <tbody>\n",
              "    <tr>\n",
              "      <th>0</th>\n",
              "      <td>スカートSkirt</td>\n",
              "      <td>ニットKnit</td>\n",
              "      <td>ジャケットJacket</td>\n",
              "    </tr>\n",
              "    <tr>\n",
              "      <th>1</th>\n",
              "      <td>シャツShirt</td>\n",
              "      <td>ロングパンツSlacks</td>\n",
              "      <td>ワンピースOnepiesce</td>\n",
              "    </tr>\n",
              "  </tbody>\n",
              "</table>\n",
              "</div>"
            ],
            "text/plain": [
              "           x             y               z\n",
              "0  スカートSkirt       ニットKnit     ジャケットJacket\n",
              "1   シャツShirt  ロングパンツSlacks  ワンピースOnepiesce"
            ]
          },
          "metadata": {},
          "execution_count": 77
        }
      ]
    },
    {
      "cell_type": "code",
      "metadata": {
        "id": "KIAbKLOUl27H"
      },
      "source": [
        ""
      ],
      "execution_count": null,
      "outputs": []
    }
  ]
}