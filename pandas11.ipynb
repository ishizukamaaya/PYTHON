{
  "nbformat": 4,
  "nbformat_minor": 0,
  "metadata": {
    "colab": {
      "name": "pandas11.ipynb",
      "provenance": [],
      "authorship_tag": "ABX9TyNvAesZnwcDWToKHcPhwSjY",
      "include_colab_link": true
    },
    "kernelspec": {
      "name": "python3",
      "display_name": "Python 3"
    },
    "language_info": {
      "name": "python"
    }
  },
  "cells": [
    {
      "cell_type": "markdown",
      "metadata": {
        "id": "view-in-github",
        "colab_type": "text"
      },
      "source": [
        "<a href=\"https://colab.research.google.com/github/ishizukamaaya/PYTHON/blob/main/pandas11.ipynb\" target=\"_parent\"><img src=\"https://colab.research.google.com/assets/colab-badge.svg\" alt=\"Open In Colab\"/></a>"
      ]
    },
    {
      "cell_type": "code",
      "metadata": {
        "id": "F2M-GBTe_mZW"
      },
      "source": [
        "import pandas as pd"
      ],
      "execution_count": 1,
      "outputs": []
    },
    {
      "cell_type": "code",
      "metadata": {
        "colab": {
          "base_uri": "https://localhost:8080/",
          "height": 173
        },
        "id": "Eh9VOSkwAN2u",
        "outputId": "3f97203b-d63f-43d0-cae0-4919935bff95"
      },
      "source": [
        "df01 = pd.DataFrame({'氏名':['高橋', '伊藤', '鈴木', '佐藤'],\n",
        "                     'クラス':['a001','a001','a001','a001'],\n",
        "                     '数学':[1,2,3,4]})\n",
        "df01"
      ],
      "execution_count": 3,
      "outputs": [
        {
          "output_type": "execute_result",
          "data": {
            "text/html": [
              "<div>\n",
              "<style scoped>\n",
              "    .dataframe tbody tr th:only-of-type {\n",
              "        vertical-align: middle;\n",
              "    }\n",
              "\n",
              "    .dataframe tbody tr th {\n",
              "        vertical-align: top;\n",
              "    }\n",
              "\n",
              "    .dataframe thead th {\n",
              "        text-align: right;\n",
              "    }\n",
              "</style>\n",
              "<table border=\"1\" class=\"dataframe\">\n",
              "  <thead>\n",
              "    <tr style=\"text-align: right;\">\n",
              "      <th></th>\n",
              "      <th>氏名</th>\n",
              "      <th>クラス</th>\n",
              "      <th>数学</th>\n",
              "    </tr>\n",
              "  </thead>\n",
              "  <tbody>\n",
              "    <tr>\n",
              "      <th>0</th>\n",
              "      <td>高橋</td>\n",
              "      <td>a001</td>\n",
              "      <td>1</td>\n",
              "    </tr>\n",
              "    <tr>\n",
              "      <th>1</th>\n",
              "      <td>伊藤</td>\n",
              "      <td>a001</td>\n",
              "      <td>2</td>\n",
              "    </tr>\n",
              "    <tr>\n",
              "      <th>2</th>\n",
              "      <td>鈴木</td>\n",
              "      <td>a001</td>\n",
              "      <td>3</td>\n",
              "    </tr>\n",
              "    <tr>\n",
              "      <th>3</th>\n",
              "      <td>佐藤</td>\n",
              "      <td>a001</td>\n",
              "      <td>4</td>\n",
              "    </tr>\n",
              "  </tbody>\n",
              "</table>\n",
              "</div>"
            ],
            "text/plain": [
              "   氏名   クラス  数学\n",
              "0  高橋  a001   1\n",
              "1  伊藤  a001   2\n",
              "2  鈴木  a001   3\n",
              "3  佐藤  a001   4"
            ]
          },
          "metadata": {},
          "execution_count": 3
        }
      ]
    },
    {
      "cell_type": "code",
      "metadata": {
        "colab": {
          "base_uri": "https://localhost:8080/",
          "height": 173
        },
        "id": "vU4KQL88A1Au",
        "outputId": "d47dea62-c1f3-4ecd-862b-980659161252"
      },
      "source": [
        "df02 = pd.DataFrame({'氏名':['高橋', '伊藤', '鈴木', '佐藤'],\n",
        "                     'クラス':['a001','a001','a001','a001'],\n",
        "                     '国語':[5,6,7,8]})\n",
        "df02"
      ],
      "execution_count": 4,
      "outputs": [
        {
          "output_type": "execute_result",
          "data": {
            "text/html": [
              "<div>\n",
              "<style scoped>\n",
              "    .dataframe tbody tr th:only-of-type {\n",
              "        vertical-align: middle;\n",
              "    }\n",
              "\n",
              "    .dataframe tbody tr th {\n",
              "        vertical-align: top;\n",
              "    }\n",
              "\n",
              "    .dataframe thead th {\n",
              "        text-align: right;\n",
              "    }\n",
              "</style>\n",
              "<table border=\"1\" class=\"dataframe\">\n",
              "  <thead>\n",
              "    <tr style=\"text-align: right;\">\n",
              "      <th></th>\n",
              "      <th>氏名</th>\n",
              "      <th>クラス</th>\n",
              "      <th>国語</th>\n",
              "    </tr>\n",
              "  </thead>\n",
              "  <tbody>\n",
              "    <tr>\n",
              "      <th>0</th>\n",
              "      <td>高橋</td>\n",
              "      <td>a001</td>\n",
              "      <td>5</td>\n",
              "    </tr>\n",
              "    <tr>\n",
              "      <th>1</th>\n",
              "      <td>伊藤</td>\n",
              "      <td>a001</td>\n",
              "      <td>6</td>\n",
              "    </tr>\n",
              "    <tr>\n",
              "      <th>2</th>\n",
              "      <td>鈴木</td>\n",
              "      <td>a001</td>\n",
              "      <td>7</td>\n",
              "    </tr>\n",
              "    <tr>\n",
              "      <th>3</th>\n",
              "      <td>佐藤</td>\n",
              "      <td>a001</td>\n",
              "      <td>8</td>\n",
              "    </tr>\n",
              "  </tbody>\n",
              "</table>\n",
              "</div>"
            ],
            "text/plain": [
              "   氏名   クラス  国語\n",
              "0  高橋  a001   5\n",
              "1  伊藤  a001   6\n",
              "2  鈴木  a001   7\n",
              "3  佐藤  a001   8"
            ]
          },
          "metadata": {},
          "execution_count": 4
        }
      ]
    },
    {
      "cell_type": "code",
      "metadata": {
        "id": "rGiFZgASB6QJ"
      },
      "source": [
        ""
      ],
      "execution_count": null,
      "outputs": []
    },
    {
      "cell_type": "code",
      "metadata": {
        "colab": {
          "base_uri": "https://localhost:8080/",
          "height": 173
        },
        "id": "17jr8Jv2A8pM",
        "outputId": "1a96b0ab-20bf-4201-e269-fdc145b952f6"
      },
      "source": [
        "pd.merge(df01, df02, on='氏名')"
      ],
      "execution_count": 6,
      "outputs": [
        {
          "output_type": "execute_result",
          "data": {
            "text/html": [
              "<div>\n",
              "<style scoped>\n",
              "    .dataframe tbody tr th:only-of-type {\n",
              "        vertical-align: middle;\n",
              "    }\n",
              "\n",
              "    .dataframe tbody tr th {\n",
              "        vertical-align: top;\n",
              "    }\n",
              "\n",
              "    .dataframe thead th {\n",
              "        text-align: right;\n",
              "    }\n",
              "</style>\n",
              "<table border=\"1\" class=\"dataframe\">\n",
              "  <thead>\n",
              "    <tr style=\"text-align: right;\">\n",
              "      <th></th>\n",
              "      <th>氏名</th>\n",
              "      <th>クラス_x</th>\n",
              "      <th>数学</th>\n",
              "      <th>クラス_y</th>\n",
              "      <th>国語</th>\n",
              "    </tr>\n",
              "  </thead>\n",
              "  <tbody>\n",
              "    <tr>\n",
              "      <th>0</th>\n",
              "      <td>高橋</td>\n",
              "      <td>a001</td>\n",
              "      <td>1</td>\n",
              "      <td>a001</td>\n",
              "      <td>5</td>\n",
              "    </tr>\n",
              "    <tr>\n",
              "      <th>1</th>\n",
              "      <td>伊藤</td>\n",
              "      <td>a001</td>\n",
              "      <td>2</td>\n",
              "      <td>a001</td>\n",
              "      <td>6</td>\n",
              "    </tr>\n",
              "    <tr>\n",
              "      <th>2</th>\n",
              "      <td>鈴木</td>\n",
              "      <td>a001</td>\n",
              "      <td>3</td>\n",
              "      <td>a001</td>\n",
              "      <td>7</td>\n",
              "    </tr>\n",
              "    <tr>\n",
              "      <th>3</th>\n",
              "      <td>佐藤</td>\n",
              "      <td>a001</td>\n",
              "      <td>4</td>\n",
              "      <td>a001</td>\n",
              "      <td>8</td>\n",
              "    </tr>\n",
              "  </tbody>\n",
              "</table>\n",
              "</div>"
            ],
            "text/plain": [
              "   氏名 クラス_x  数学 クラス_y  国語\n",
              "0  高橋  a001   1  a001   5\n",
              "1  伊藤  a001   2  a001   6\n",
              "2  鈴木  a001   3  a001   7\n",
              "3  佐藤  a001   4  a001   8"
            ]
          },
          "metadata": {},
          "execution_count": 6
        }
      ]
    },
    {
      "cell_type": "code",
      "metadata": {
        "colab": {
          "base_uri": "https://localhost:8080/",
          "height": 173
        },
        "id": "40sOxqAKBFAK",
        "outputId": "cac14d26-b9d9-4a35-bf9d-a69d4032d095"
      },
      "source": [
        "pd.merge(df01, df02, on='氏名', suffixes=['_left','_right'])"
      ],
      "execution_count": 17,
      "outputs": [
        {
          "output_type": "execute_result",
          "data": {
            "text/html": [
              "<div>\n",
              "<style scoped>\n",
              "    .dataframe tbody tr th:only-of-type {\n",
              "        vertical-align: middle;\n",
              "    }\n",
              "\n",
              "    .dataframe tbody tr th {\n",
              "        vertical-align: top;\n",
              "    }\n",
              "\n",
              "    .dataframe thead th {\n",
              "        text-align: right;\n",
              "    }\n",
              "</style>\n",
              "<table border=\"1\" class=\"dataframe\">\n",
              "  <thead>\n",
              "    <tr style=\"text-align: right;\">\n",
              "      <th></th>\n",
              "      <th>氏名</th>\n",
              "      <th>クラス_left</th>\n",
              "      <th>数学</th>\n",
              "      <th>クラス_right</th>\n",
              "      <th>国語</th>\n",
              "    </tr>\n",
              "  </thead>\n",
              "  <tbody>\n",
              "    <tr>\n",
              "      <th>0</th>\n",
              "      <td>高橋</td>\n",
              "      <td>a001</td>\n",
              "      <td>1</td>\n",
              "      <td>a001</td>\n",
              "      <td>5</td>\n",
              "    </tr>\n",
              "    <tr>\n",
              "      <th>1</th>\n",
              "      <td>伊藤</td>\n",
              "      <td>a001</td>\n",
              "      <td>2</td>\n",
              "      <td>a001</td>\n",
              "      <td>6</td>\n",
              "    </tr>\n",
              "    <tr>\n",
              "      <th>2</th>\n",
              "      <td>鈴木</td>\n",
              "      <td>a001</td>\n",
              "      <td>3</td>\n",
              "      <td>a001</td>\n",
              "      <td>7</td>\n",
              "    </tr>\n",
              "    <tr>\n",
              "      <th>3</th>\n",
              "      <td>佐藤</td>\n",
              "      <td>a001</td>\n",
              "      <td>4</td>\n",
              "      <td>a001</td>\n",
              "      <td>8</td>\n",
              "    </tr>\n",
              "  </tbody>\n",
              "</table>\n",
              "</div>"
            ],
            "text/plain": [
              "   氏名 クラス_left  数学 クラス_right  国語\n",
              "0  高橋     a001   1      a001   5\n",
              "1  伊藤     a001   2      a001   6\n",
              "2  鈴木     a001   3      a001   7\n",
              "3  佐藤     a001   4      a001   8"
            ]
          },
          "metadata": {},
          "execution_count": 17
        }
      ]
    },
    {
      "cell_type": "code",
      "metadata": {
        "colab": {
          "base_uri": "https://localhost:8080/",
          "height": 173
        },
        "id": "GOOHcRDOBvLd",
        "outputId": "c9db7469-d93e-4b65-8f6a-348561498fe5"
      },
      "source": [
        "pd.merge(df01 ,df02, on='氏名', suffixes=['', '_重複'])"
      ],
      "execution_count": 19,
      "outputs": [
        {
          "output_type": "execute_result",
          "data": {
            "text/html": [
              "<div>\n",
              "<style scoped>\n",
              "    .dataframe tbody tr th:only-of-type {\n",
              "        vertical-align: middle;\n",
              "    }\n",
              "\n",
              "    .dataframe tbody tr th {\n",
              "        vertical-align: top;\n",
              "    }\n",
              "\n",
              "    .dataframe thead th {\n",
              "        text-align: right;\n",
              "    }\n",
              "</style>\n",
              "<table border=\"1\" class=\"dataframe\">\n",
              "  <thead>\n",
              "    <tr style=\"text-align: right;\">\n",
              "      <th></th>\n",
              "      <th>氏名</th>\n",
              "      <th>クラス</th>\n",
              "      <th>数学</th>\n",
              "      <th>クラス_重複</th>\n",
              "      <th>国語</th>\n",
              "    </tr>\n",
              "  </thead>\n",
              "  <tbody>\n",
              "    <tr>\n",
              "      <th>0</th>\n",
              "      <td>高橋</td>\n",
              "      <td>a001</td>\n",
              "      <td>1</td>\n",
              "      <td>a001</td>\n",
              "      <td>5</td>\n",
              "    </tr>\n",
              "    <tr>\n",
              "      <th>1</th>\n",
              "      <td>伊藤</td>\n",
              "      <td>a001</td>\n",
              "      <td>2</td>\n",
              "      <td>a001</td>\n",
              "      <td>6</td>\n",
              "    </tr>\n",
              "    <tr>\n",
              "      <th>2</th>\n",
              "      <td>鈴木</td>\n",
              "      <td>a001</td>\n",
              "      <td>3</td>\n",
              "      <td>a001</td>\n",
              "      <td>7</td>\n",
              "    </tr>\n",
              "    <tr>\n",
              "      <th>3</th>\n",
              "      <td>佐藤</td>\n",
              "      <td>a001</td>\n",
              "      <td>4</td>\n",
              "      <td>a001</td>\n",
              "      <td>8</td>\n",
              "    </tr>\n",
              "  </tbody>\n",
              "</table>\n",
              "</div>"
            ],
            "text/plain": [
              "   氏名   クラス  数学 クラス_重複  国語\n",
              "0  高橋  a001   1   a001   5\n",
              "1  伊藤  a001   2   a001   6\n",
              "2  鈴木  a001   3   a001   7\n",
              "3  佐藤  a001   4   a001   8"
            ]
          },
          "metadata": {},
          "execution_count": 19
        }
      ]
    },
    {
      "cell_type": "code",
      "metadata": {
        "colab": {
          "base_uri": "https://localhost:8080/",
          "height": 173
        },
        "id": "GRdYlAoeB8HK",
        "outputId": "63d4b8f6-389f-44dd-da2b-b1febb0c193f"
      },
      "source": [
        "df02_name = pd.DataFrame( {'名前':['高橋', '伊藤', '鈴木', '佐藤'],\n",
        "'クラス':['a001', 'a001', 'a001', 'a001'],\n",
        "'国語':[5, 6, 7, 8]})\n",
        "df02_name"
      ],
      "execution_count": 25,
      "outputs": [
        {
          "output_type": "execute_result",
          "data": {
            "text/html": [
              "<div>\n",
              "<style scoped>\n",
              "    .dataframe tbody tr th:only-of-type {\n",
              "        vertical-align: middle;\n",
              "    }\n",
              "\n",
              "    .dataframe tbody tr th {\n",
              "        vertical-align: top;\n",
              "    }\n",
              "\n",
              "    .dataframe thead th {\n",
              "        text-align: right;\n",
              "    }\n",
              "</style>\n",
              "<table border=\"1\" class=\"dataframe\">\n",
              "  <thead>\n",
              "    <tr style=\"text-align: right;\">\n",
              "      <th></th>\n",
              "      <th>名前</th>\n",
              "      <th>クラス</th>\n",
              "      <th>国語</th>\n",
              "    </tr>\n",
              "  </thead>\n",
              "  <tbody>\n",
              "    <tr>\n",
              "      <th>0</th>\n",
              "      <td>高橋</td>\n",
              "      <td>a001</td>\n",
              "      <td>5</td>\n",
              "    </tr>\n",
              "    <tr>\n",
              "      <th>1</th>\n",
              "      <td>伊藤</td>\n",
              "      <td>a001</td>\n",
              "      <td>6</td>\n",
              "    </tr>\n",
              "    <tr>\n",
              "      <th>2</th>\n",
              "      <td>鈴木</td>\n",
              "      <td>a001</td>\n",
              "      <td>7</td>\n",
              "    </tr>\n",
              "    <tr>\n",
              "      <th>3</th>\n",
              "      <td>佐藤</td>\n",
              "      <td>a001</td>\n",
              "      <td>8</td>\n",
              "    </tr>\n",
              "  </tbody>\n",
              "</table>\n",
              "</div>"
            ],
            "text/plain": [
              "   名前   クラス  国語\n",
              "0  高橋  a001   5\n",
              "1  伊藤  a001   6\n",
              "2  鈴木  a001   7\n",
              "3  佐藤  a001   8"
            ]
          },
          "metadata": {},
          "execution_count": 25
        }
      ]
    },
    {
      "cell_type": "code",
      "metadata": {
        "colab": {
          "base_uri": "https://localhost:8080/",
          "height": 173
        },
        "id": "K_oyGz4kCDYi",
        "outputId": "b7156919-a6c8-428c-821f-7e990ee54328"
      },
      "source": [
        "pd.merge(df01 ,df02_name, left_on='氏名',right_on='名前')"
      ],
      "execution_count": 26,
      "outputs": [
        {
          "output_type": "execute_result",
          "data": {
            "text/html": [
              "<div>\n",
              "<style scoped>\n",
              "    .dataframe tbody tr th:only-of-type {\n",
              "        vertical-align: middle;\n",
              "    }\n",
              "\n",
              "    .dataframe tbody tr th {\n",
              "        vertical-align: top;\n",
              "    }\n",
              "\n",
              "    .dataframe thead th {\n",
              "        text-align: right;\n",
              "    }\n",
              "</style>\n",
              "<table border=\"1\" class=\"dataframe\">\n",
              "  <thead>\n",
              "    <tr style=\"text-align: right;\">\n",
              "      <th></th>\n",
              "      <th>氏名</th>\n",
              "      <th>クラス_x</th>\n",
              "      <th>数学</th>\n",
              "      <th>名前</th>\n",
              "      <th>クラス_y</th>\n",
              "      <th>国語</th>\n",
              "    </tr>\n",
              "  </thead>\n",
              "  <tbody>\n",
              "    <tr>\n",
              "      <th>0</th>\n",
              "      <td>高橋</td>\n",
              "      <td>a001</td>\n",
              "      <td>1</td>\n",
              "      <td>高橋</td>\n",
              "      <td>a001</td>\n",
              "      <td>5</td>\n",
              "    </tr>\n",
              "    <tr>\n",
              "      <th>1</th>\n",
              "      <td>伊藤</td>\n",
              "      <td>a001</td>\n",
              "      <td>2</td>\n",
              "      <td>伊藤</td>\n",
              "      <td>a001</td>\n",
              "      <td>6</td>\n",
              "    </tr>\n",
              "    <tr>\n",
              "      <th>2</th>\n",
              "      <td>鈴木</td>\n",
              "      <td>a001</td>\n",
              "      <td>3</td>\n",
              "      <td>鈴木</td>\n",
              "      <td>a001</td>\n",
              "      <td>7</td>\n",
              "    </tr>\n",
              "    <tr>\n",
              "      <th>3</th>\n",
              "      <td>佐藤</td>\n",
              "      <td>a001</td>\n",
              "      <td>4</td>\n",
              "      <td>佐藤</td>\n",
              "      <td>a001</td>\n",
              "      <td>8</td>\n",
              "    </tr>\n",
              "  </tbody>\n",
              "</table>\n",
              "</div>"
            ],
            "text/plain": [
              "   氏名 クラス_x  数学  名前 クラス_y  国語\n",
              "0  高橋  a001   1  高橋  a001   5\n",
              "1  伊藤  a001   2  伊藤  a001   6\n",
              "2  鈴木  a001   3  鈴木  a001   7\n",
              "3  佐藤  a001   4  佐藤  a001   8"
            ]
          },
          "metadata": {},
          "execution_count": 26
        }
      ]
    },
    {
      "cell_type": "code",
      "metadata": {
        "colab": {
          "base_uri": "https://localhost:8080/",
          "height": 111
        },
        "id": "lA_qNsPRDV7h",
        "outputId": "b622c45d-9e9d-4b25-b7bc-b001130cd1b3"
      },
      "source": [
        "df03 = pd.DataFrame({'名前':['高橋','高橋'],\n",
        "                     'クラス':['a001','a002'],\n",
        "                     '英語':[15,16]})\n",
        "df03"
      ],
      "execution_count": 28,
      "outputs": [
        {
          "output_type": "execute_result",
          "data": {
            "text/html": [
              "<div>\n",
              "<style scoped>\n",
              "    .dataframe tbody tr th:only-of-type {\n",
              "        vertical-align: middle;\n",
              "    }\n",
              "\n",
              "    .dataframe tbody tr th {\n",
              "        vertical-align: top;\n",
              "    }\n",
              "\n",
              "    .dataframe thead th {\n",
              "        text-align: right;\n",
              "    }\n",
              "</style>\n",
              "<table border=\"1\" class=\"dataframe\">\n",
              "  <thead>\n",
              "    <tr style=\"text-align: right;\">\n",
              "      <th></th>\n",
              "      <th>名前</th>\n",
              "      <th>クラス</th>\n",
              "      <th>英語</th>\n",
              "    </tr>\n",
              "  </thead>\n",
              "  <tbody>\n",
              "    <tr>\n",
              "      <th>0</th>\n",
              "      <td>高橋</td>\n",
              "      <td>a001</td>\n",
              "      <td>15</td>\n",
              "    </tr>\n",
              "    <tr>\n",
              "      <th>1</th>\n",
              "      <td>高橋</td>\n",
              "      <td>a002</td>\n",
              "      <td>16</td>\n",
              "    </tr>\n",
              "  </tbody>\n",
              "</table>\n",
              "</div>"
            ],
            "text/plain": [
              "   名前   クラス  英語\n",
              "0  高橋  a001  15\n",
              "1  高橋  a002  16"
            ]
          },
          "metadata": {},
          "execution_count": 28
        }
      ]
    },
    {
      "cell_type": "code",
      "metadata": {
        "colab": {
          "base_uri": "https://localhost:8080/",
          "height": 80
        },
        "id": "YFoHRlXyEA6Z",
        "outputId": "802ff1df-3fd8-4131-ee74-ffafd4b74e1d"
      },
      "source": [
        "pd.merge(df01,df03, left_on=['氏名','クラス'],right_on=['名前','クラス'])"
      ],
      "execution_count": 29,
      "outputs": [
        {
          "output_type": "execute_result",
          "data": {
            "text/html": [
              "<div>\n",
              "<style scoped>\n",
              "    .dataframe tbody tr th:only-of-type {\n",
              "        vertical-align: middle;\n",
              "    }\n",
              "\n",
              "    .dataframe tbody tr th {\n",
              "        vertical-align: top;\n",
              "    }\n",
              "\n",
              "    .dataframe thead th {\n",
              "        text-align: right;\n",
              "    }\n",
              "</style>\n",
              "<table border=\"1\" class=\"dataframe\">\n",
              "  <thead>\n",
              "    <tr style=\"text-align: right;\">\n",
              "      <th></th>\n",
              "      <th>氏名</th>\n",
              "      <th>クラス</th>\n",
              "      <th>数学</th>\n",
              "      <th>名前</th>\n",
              "      <th>英語</th>\n",
              "    </tr>\n",
              "  </thead>\n",
              "  <tbody>\n",
              "    <tr>\n",
              "      <th>0</th>\n",
              "      <td>高橋</td>\n",
              "      <td>a001</td>\n",
              "      <td>1</td>\n",
              "      <td>高橋</td>\n",
              "      <td>15</td>\n",
              "    </tr>\n",
              "  </tbody>\n",
              "</table>\n",
              "</div>"
            ],
            "text/plain": [
              "   氏名   クラス  数学  名前  英語\n",
              "0  高橋  a001   1  高橋  15"
            ]
          },
          "metadata": {},
          "execution_count": 29
        }
      ]
    },
    {
      "cell_type": "code",
      "metadata": {
        "colab": {
          "base_uri": "https://localhost:8080/",
          "height": 173
        },
        "id": "D7aXgBiUG7Ia",
        "outputId": "850c4ae6-f87f-4db4-c9fc-71c60cf5f7bb"
      },
      "source": [
        "df０１"
      ],
      "execution_count": 30,
      "outputs": [
        {
          "output_type": "execute_result",
          "data": {
            "text/html": [
              "<div>\n",
              "<style scoped>\n",
              "    .dataframe tbody tr th:only-of-type {\n",
              "        vertical-align: middle;\n",
              "    }\n",
              "\n",
              "    .dataframe tbody tr th {\n",
              "        vertical-align: top;\n",
              "    }\n",
              "\n",
              "    .dataframe thead th {\n",
              "        text-align: right;\n",
              "    }\n",
              "</style>\n",
              "<table border=\"1\" class=\"dataframe\">\n",
              "  <thead>\n",
              "    <tr style=\"text-align: right;\">\n",
              "      <th></th>\n",
              "      <th>氏名</th>\n",
              "      <th>クラス</th>\n",
              "      <th>数学</th>\n",
              "    </tr>\n",
              "  </thead>\n",
              "  <tbody>\n",
              "    <tr>\n",
              "      <th>0</th>\n",
              "      <td>高橋</td>\n",
              "      <td>a001</td>\n",
              "      <td>1</td>\n",
              "    </tr>\n",
              "    <tr>\n",
              "      <th>1</th>\n",
              "      <td>伊藤</td>\n",
              "      <td>a001</td>\n",
              "      <td>2</td>\n",
              "    </tr>\n",
              "    <tr>\n",
              "      <th>2</th>\n",
              "      <td>鈴木</td>\n",
              "      <td>a001</td>\n",
              "      <td>3</td>\n",
              "    </tr>\n",
              "    <tr>\n",
              "      <th>3</th>\n",
              "      <td>佐藤</td>\n",
              "      <td>a001</td>\n",
              "      <td>4</td>\n",
              "    </tr>\n",
              "  </tbody>\n",
              "</table>\n",
              "</div>"
            ],
            "text/plain": [
              "   氏名   クラス  数学\n",
              "0  高橋  a001   1\n",
              "1  伊藤  a001   2\n",
              "2  鈴木  a001   3\n",
              "3  佐藤  a001   4"
            ]
          },
          "metadata": {},
          "execution_count": 30
        }
      ]
    },
    {
      "cell_type": "code",
      "metadata": {
        "colab": {
          "base_uri": "https://localhost:8080/",
          "height": 173
        },
        "id": "6fWtGuCsHCxX",
        "outputId": "194d1f05-2bf1-4841-a864-d4eea5a7641d"
      },
      "source": [
        "df04 = pd.DataFrame({'氏名':['高橋','伊藤','渡辺','加藤'],\n",
        "                     'クラス':['a001','a001','a001','a001'],\n",
        "                     '国語':[5,6,7,8]})\n",
        "df04"
      ],
      "execution_count": 31,
      "outputs": [
        {
          "output_type": "execute_result",
          "data": {
            "text/html": [
              "<div>\n",
              "<style scoped>\n",
              "    .dataframe tbody tr th:only-of-type {\n",
              "        vertical-align: middle;\n",
              "    }\n",
              "\n",
              "    .dataframe tbody tr th {\n",
              "        vertical-align: top;\n",
              "    }\n",
              "\n",
              "    .dataframe thead th {\n",
              "        text-align: right;\n",
              "    }\n",
              "</style>\n",
              "<table border=\"1\" class=\"dataframe\">\n",
              "  <thead>\n",
              "    <tr style=\"text-align: right;\">\n",
              "      <th></th>\n",
              "      <th>氏名</th>\n",
              "      <th>クラス</th>\n",
              "      <th>国語</th>\n",
              "    </tr>\n",
              "  </thead>\n",
              "  <tbody>\n",
              "    <tr>\n",
              "      <th>0</th>\n",
              "      <td>高橋</td>\n",
              "      <td>a001</td>\n",
              "      <td>5</td>\n",
              "    </tr>\n",
              "    <tr>\n",
              "      <th>1</th>\n",
              "      <td>伊藤</td>\n",
              "      <td>a001</td>\n",
              "      <td>6</td>\n",
              "    </tr>\n",
              "    <tr>\n",
              "      <th>2</th>\n",
              "      <td>渡辺</td>\n",
              "      <td>a001</td>\n",
              "      <td>7</td>\n",
              "    </tr>\n",
              "    <tr>\n",
              "      <th>3</th>\n",
              "      <td>加藤</td>\n",
              "      <td>a001</td>\n",
              "      <td>8</td>\n",
              "    </tr>\n",
              "  </tbody>\n",
              "</table>\n",
              "</div>"
            ],
            "text/plain": [
              "   氏名   クラス  国語\n",
              "0  高橋  a001   5\n",
              "1  伊藤  a001   6\n",
              "2  渡辺  a001   7\n",
              "3  加藤  a001   8"
            ]
          },
          "metadata": {},
          "execution_count": 31
        }
      ]
    },
    {
      "cell_type": "code",
      "metadata": {
        "colab": {
          "base_uri": "https://localhost:8080/",
          "height": 173
        },
        "id": "b99gRxZvHeoc",
        "outputId": "c3c88edb-8474-4ad1-971b-f391c7c4f8ed"
      },
      "source": [
        "pd.merge(df01,df04, on='氏名',how='left')"
      ],
      "execution_count": 32,
      "outputs": [
        {
          "output_type": "execute_result",
          "data": {
            "text/html": [
              "<div>\n",
              "<style scoped>\n",
              "    .dataframe tbody tr th:only-of-type {\n",
              "        vertical-align: middle;\n",
              "    }\n",
              "\n",
              "    .dataframe tbody tr th {\n",
              "        vertical-align: top;\n",
              "    }\n",
              "\n",
              "    .dataframe thead th {\n",
              "        text-align: right;\n",
              "    }\n",
              "</style>\n",
              "<table border=\"1\" class=\"dataframe\">\n",
              "  <thead>\n",
              "    <tr style=\"text-align: right;\">\n",
              "      <th></th>\n",
              "      <th>氏名</th>\n",
              "      <th>クラス_x</th>\n",
              "      <th>数学</th>\n",
              "      <th>クラス_y</th>\n",
              "      <th>国語</th>\n",
              "    </tr>\n",
              "  </thead>\n",
              "  <tbody>\n",
              "    <tr>\n",
              "      <th>0</th>\n",
              "      <td>高橋</td>\n",
              "      <td>a001</td>\n",
              "      <td>1</td>\n",
              "      <td>a001</td>\n",
              "      <td>5.0</td>\n",
              "    </tr>\n",
              "    <tr>\n",
              "      <th>1</th>\n",
              "      <td>伊藤</td>\n",
              "      <td>a001</td>\n",
              "      <td>2</td>\n",
              "      <td>a001</td>\n",
              "      <td>6.0</td>\n",
              "    </tr>\n",
              "    <tr>\n",
              "      <th>2</th>\n",
              "      <td>鈴木</td>\n",
              "      <td>a001</td>\n",
              "      <td>3</td>\n",
              "      <td>NaN</td>\n",
              "      <td>NaN</td>\n",
              "    </tr>\n",
              "    <tr>\n",
              "      <th>3</th>\n",
              "      <td>佐藤</td>\n",
              "      <td>a001</td>\n",
              "      <td>4</td>\n",
              "      <td>NaN</td>\n",
              "      <td>NaN</td>\n",
              "    </tr>\n",
              "  </tbody>\n",
              "</table>\n",
              "</div>"
            ],
            "text/plain": [
              "   氏名 クラス_x  数学 クラス_y   国語\n",
              "0  高橋  a001   1  a001  5.0\n",
              "1  伊藤  a001   2  a001  6.0\n",
              "2  鈴木  a001   3   NaN  NaN\n",
              "3  佐藤  a001   4   NaN  NaN"
            ]
          },
          "metadata": {},
          "execution_count": 32
        }
      ]
    },
    {
      "cell_type": "code",
      "metadata": {
        "colab": {
          "base_uri": "https://localhost:8080/",
          "height": 173
        },
        "id": "ZnGLCejJH48e",
        "outputId": "8c1d8cd6-6774-4091-90ef-f2ccdd1a3bea"
      },
      "source": [
        "pd.merge(df01,df04, on='氏名',how='right')"
      ],
      "execution_count": 34,
      "outputs": [
        {
          "output_type": "execute_result",
          "data": {
            "text/html": [
              "<div>\n",
              "<style scoped>\n",
              "    .dataframe tbody tr th:only-of-type {\n",
              "        vertical-align: middle;\n",
              "    }\n",
              "\n",
              "    .dataframe tbody tr th {\n",
              "        vertical-align: top;\n",
              "    }\n",
              "\n",
              "    .dataframe thead th {\n",
              "        text-align: right;\n",
              "    }\n",
              "</style>\n",
              "<table border=\"1\" class=\"dataframe\">\n",
              "  <thead>\n",
              "    <tr style=\"text-align: right;\">\n",
              "      <th></th>\n",
              "      <th>氏名</th>\n",
              "      <th>クラス_x</th>\n",
              "      <th>数学</th>\n",
              "      <th>クラス_y</th>\n",
              "      <th>国語</th>\n",
              "    </tr>\n",
              "  </thead>\n",
              "  <tbody>\n",
              "    <tr>\n",
              "      <th>0</th>\n",
              "      <td>高橋</td>\n",
              "      <td>a001</td>\n",
              "      <td>1.0</td>\n",
              "      <td>a001</td>\n",
              "      <td>5</td>\n",
              "    </tr>\n",
              "    <tr>\n",
              "      <th>1</th>\n",
              "      <td>伊藤</td>\n",
              "      <td>a001</td>\n",
              "      <td>2.0</td>\n",
              "      <td>a001</td>\n",
              "      <td>6</td>\n",
              "    </tr>\n",
              "    <tr>\n",
              "      <th>2</th>\n",
              "      <td>渡辺</td>\n",
              "      <td>NaN</td>\n",
              "      <td>NaN</td>\n",
              "      <td>a001</td>\n",
              "      <td>7</td>\n",
              "    </tr>\n",
              "    <tr>\n",
              "      <th>3</th>\n",
              "      <td>加藤</td>\n",
              "      <td>NaN</td>\n",
              "      <td>NaN</td>\n",
              "      <td>a001</td>\n",
              "      <td>8</td>\n",
              "    </tr>\n",
              "  </tbody>\n",
              "</table>\n",
              "</div>"
            ],
            "text/plain": [
              "   氏名 クラス_x   数学 クラス_y  国語\n",
              "0  高橋  a001  1.0  a001   5\n",
              "1  伊藤  a001  2.0  a001   6\n",
              "2  渡辺   NaN  NaN  a001   7\n",
              "3  加藤   NaN  NaN  a001   8"
            ]
          },
          "metadata": {},
          "execution_count": 34
        }
      ]
    },
    {
      "cell_type": "code",
      "metadata": {
        "colab": {
          "base_uri": "https://localhost:8080/",
          "height": 235
        },
        "id": "YsWUu9aiIDH5",
        "outputId": "0c203ebf-5e5a-471b-cd51-a07333158152"
      },
      "source": [
        "pd.merge(df01,df04, on='氏名',how='outer')"
      ],
      "execution_count": 35,
      "outputs": [
        {
          "output_type": "execute_result",
          "data": {
            "text/html": [
              "<div>\n",
              "<style scoped>\n",
              "    .dataframe tbody tr th:only-of-type {\n",
              "        vertical-align: middle;\n",
              "    }\n",
              "\n",
              "    .dataframe tbody tr th {\n",
              "        vertical-align: top;\n",
              "    }\n",
              "\n",
              "    .dataframe thead th {\n",
              "        text-align: right;\n",
              "    }\n",
              "</style>\n",
              "<table border=\"1\" class=\"dataframe\">\n",
              "  <thead>\n",
              "    <tr style=\"text-align: right;\">\n",
              "      <th></th>\n",
              "      <th>氏名</th>\n",
              "      <th>クラス_x</th>\n",
              "      <th>数学</th>\n",
              "      <th>クラス_y</th>\n",
              "      <th>国語</th>\n",
              "    </tr>\n",
              "  </thead>\n",
              "  <tbody>\n",
              "    <tr>\n",
              "      <th>0</th>\n",
              "      <td>高橋</td>\n",
              "      <td>a001</td>\n",
              "      <td>1.0</td>\n",
              "      <td>a001</td>\n",
              "      <td>5.0</td>\n",
              "    </tr>\n",
              "    <tr>\n",
              "      <th>1</th>\n",
              "      <td>伊藤</td>\n",
              "      <td>a001</td>\n",
              "      <td>2.0</td>\n",
              "      <td>a001</td>\n",
              "      <td>6.0</td>\n",
              "    </tr>\n",
              "    <tr>\n",
              "      <th>2</th>\n",
              "      <td>鈴木</td>\n",
              "      <td>a001</td>\n",
              "      <td>3.0</td>\n",
              "      <td>NaN</td>\n",
              "      <td>NaN</td>\n",
              "    </tr>\n",
              "    <tr>\n",
              "      <th>3</th>\n",
              "      <td>佐藤</td>\n",
              "      <td>a001</td>\n",
              "      <td>4.0</td>\n",
              "      <td>NaN</td>\n",
              "      <td>NaN</td>\n",
              "    </tr>\n",
              "    <tr>\n",
              "      <th>4</th>\n",
              "      <td>渡辺</td>\n",
              "      <td>NaN</td>\n",
              "      <td>NaN</td>\n",
              "      <td>a001</td>\n",
              "      <td>7.0</td>\n",
              "    </tr>\n",
              "    <tr>\n",
              "      <th>5</th>\n",
              "      <td>加藤</td>\n",
              "      <td>NaN</td>\n",
              "      <td>NaN</td>\n",
              "      <td>a001</td>\n",
              "      <td>8.0</td>\n",
              "    </tr>\n",
              "  </tbody>\n",
              "</table>\n",
              "</div>"
            ],
            "text/plain": [
              "   氏名 クラス_x   数学 クラス_y   国語\n",
              "0  高橋  a001  1.0  a001  5.0\n",
              "1  伊藤  a001  2.0  a001  6.0\n",
              "2  鈴木  a001  3.0   NaN  NaN\n",
              "3  佐藤  a001  4.0   NaN  NaN\n",
              "4  渡辺   NaN  NaN  a001  7.0\n",
              "5  加藤   NaN  NaN  a001  8.0"
            ]
          },
          "metadata": {},
          "execution_count": 35
        }
      ]
    },
    {
      "cell_type": "code",
      "metadata": {
        "id": "mylnS4sRIQ-f"
      },
      "source": [
        ""
      ],
      "execution_count": null,
      "outputs": []
    },
    {
      "cell_type": "code",
      "metadata": {
        "colab": {
          "base_uri": "https://localhost:8080/",
          "height": 111
        },
        "id": "LQAOh3VHIH0B",
        "outputId": "635c1812-30a0-43f5-cda9-a10d7809e29a"
      },
      "source": [
        "pd.merge(df01,df04, on='氏名',how='inner')"
      ],
      "execution_count": 36,
      "outputs": [
        {
          "output_type": "execute_result",
          "data": {
            "text/html": [
              "<div>\n",
              "<style scoped>\n",
              "    .dataframe tbody tr th:only-of-type {\n",
              "        vertical-align: middle;\n",
              "    }\n",
              "\n",
              "    .dataframe tbody tr th {\n",
              "        vertical-align: top;\n",
              "    }\n",
              "\n",
              "    .dataframe thead th {\n",
              "        text-align: right;\n",
              "    }\n",
              "</style>\n",
              "<table border=\"1\" class=\"dataframe\">\n",
              "  <thead>\n",
              "    <tr style=\"text-align: right;\">\n",
              "      <th></th>\n",
              "      <th>氏名</th>\n",
              "      <th>クラス_x</th>\n",
              "      <th>数学</th>\n",
              "      <th>クラス_y</th>\n",
              "      <th>国語</th>\n",
              "    </tr>\n",
              "  </thead>\n",
              "  <tbody>\n",
              "    <tr>\n",
              "      <th>0</th>\n",
              "      <td>高橋</td>\n",
              "      <td>a001</td>\n",
              "      <td>1</td>\n",
              "      <td>a001</td>\n",
              "      <td>5</td>\n",
              "    </tr>\n",
              "    <tr>\n",
              "      <th>1</th>\n",
              "      <td>伊藤</td>\n",
              "      <td>a001</td>\n",
              "      <td>2</td>\n",
              "      <td>a001</td>\n",
              "      <td>6</td>\n",
              "    </tr>\n",
              "  </tbody>\n",
              "</table>\n",
              "</div>"
            ],
            "text/plain": [
              "   氏名 クラス_x  数学 クラス_y  国語\n",
              "0  高橋  a001   1  a001   5\n",
              "1  伊藤  a001   2  a001   6"
            ]
          },
          "metadata": {},
          "execution_count": 36
        }
      ]
    },
    {
      "cell_type": "code",
      "metadata": {
        "colab": {
          "base_uri": "https://localhost:8080/",
          "height": 235
        },
        "id": "OPq6wRiTIRkL",
        "outputId": "78d19806-d84a-4745-84f9-bf20a3fcad72"
      },
      "source": [
        "pd.merge(df01,df04, on='氏名',how='outer', indicator=True)"
      ],
      "execution_count": 37,
      "outputs": [
        {
          "output_type": "execute_result",
          "data": {
            "text/html": [
              "<div>\n",
              "<style scoped>\n",
              "    .dataframe tbody tr th:only-of-type {\n",
              "        vertical-align: middle;\n",
              "    }\n",
              "\n",
              "    .dataframe tbody tr th {\n",
              "        vertical-align: top;\n",
              "    }\n",
              "\n",
              "    .dataframe thead th {\n",
              "        text-align: right;\n",
              "    }\n",
              "</style>\n",
              "<table border=\"1\" class=\"dataframe\">\n",
              "  <thead>\n",
              "    <tr style=\"text-align: right;\">\n",
              "      <th></th>\n",
              "      <th>氏名</th>\n",
              "      <th>クラス_x</th>\n",
              "      <th>数学</th>\n",
              "      <th>クラス_y</th>\n",
              "      <th>国語</th>\n",
              "      <th>_merge</th>\n",
              "    </tr>\n",
              "  </thead>\n",
              "  <tbody>\n",
              "    <tr>\n",
              "      <th>0</th>\n",
              "      <td>高橋</td>\n",
              "      <td>a001</td>\n",
              "      <td>1.0</td>\n",
              "      <td>a001</td>\n",
              "      <td>5.0</td>\n",
              "      <td>both</td>\n",
              "    </tr>\n",
              "    <tr>\n",
              "      <th>1</th>\n",
              "      <td>伊藤</td>\n",
              "      <td>a001</td>\n",
              "      <td>2.0</td>\n",
              "      <td>a001</td>\n",
              "      <td>6.0</td>\n",
              "      <td>both</td>\n",
              "    </tr>\n",
              "    <tr>\n",
              "      <th>2</th>\n",
              "      <td>鈴木</td>\n",
              "      <td>a001</td>\n",
              "      <td>3.0</td>\n",
              "      <td>NaN</td>\n",
              "      <td>NaN</td>\n",
              "      <td>left_only</td>\n",
              "    </tr>\n",
              "    <tr>\n",
              "      <th>3</th>\n",
              "      <td>佐藤</td>\n",
              "      <td>a001</td>\n",
              "      <td>4.0</td>\n",
              "      <td>NaN</td>\n",
              "      <td>NaN</td>\n",
              "      <td>left_only</td>\n",
              "    </tr>\n",
              "    <tr>\n",
              "      <th>4</th>\n",
              "      <td>渡辺</td>\n",
              "      <td>NaN</td>\n",
              "      <td>NaN</td>\n",
              "      <td>a001</td>\n",
              "      <td>7.0</td>\n",
              "      <td>right_only</td>\n",
              "    </tr>\n",
              "    <tr>\n",
              "      <th>5</th>\n",
              "      <td>加藤</td>\n",
              "      <td>NaN</td>\n",
              "      <td>NaN</td>\n",
              "      <td>a001</td>\n",
              "      <td>8.0</td>\n",
              "      <td>right_only</td>\n",
              "    </tr>\n",
              "  </tbody>\n",
              "</table>\n",
              "</div>"
            ],
            "text/plain": [
              "   氏名 クラス_x   数学 クラス_y   国語      _merge\n",
              "0  高橋  a001  1.0  a001  5.0        both\n",
              "1  伊藤  a001  2.0  a001  6.0        both\n",
              "2  鈴木  a001  3.0   NaN  NaN   left_only\n",
              "3  佐藤  a001  4.0   NaN  NaN   left_only\n",
              "4  渡辺   NaN  NaN  a001  7.0  right_only\n",
              "5  加藤   NaN  NaN  a001  8.0  right_only"
            ]
          },
          "metadata": {},
          "execution_count": 37
        }
      ]
    },
    {
      "cell_type": "code",
      "metadata": {
        "colab": {
          "base_uri": "https://localhost:8080/",
          "height": 173
        },
        "id": "ytITo38CIg6L",
        "outputId": "40183037-94ad-45a7-c9e0-07ab8df82e60"
      },
      "source": [
        "df05 = pd.DataFrame({'クラス':['a001','a001','a001','a001'],\n",
        "                     '数学':[1,2,3,4]}\n",
        "                    ,index = ['高橋','伊藤','鈴木','佐藤'])\n",
        "df05"
      ],
      "execution_count": 38,
      "outputs": [
        {
          "output_type": "execute_result",
          "data": {
            "text/html": [
              "<div>\n",
              "<style scoped>\n",
              "    .dataframe tbody tr th:only-of-type {\n",
              "        vertical-align: middle;\n",
              "    }\n",
              "\n",
              "    .dataframe tbody tr th {\n",
              "        vertical-align: top;\n",
              "    }\n",
              "\n",
              "    .dataframe thead th {\n",
              "        text-align: right;\n",
              "    }\n",
              "</style>\n",
              "<table border=\"1\" class=\"dataframe\">\n",
              "  <thead>\n",
              "    <tr style=\"text-align: right;\">\n",
              "      <th></th>\n",
              "      <th>クラス</th>\n",
              "      <th>数学</th>\n",
              "    </tr>\n",
              "  </thead>\n",
              "  <tbody>\n",
              "    <tr>\n",
              "      <th>高橋</th>\n",
              "      <td>a001</td>\n",
              "      <td>1</td>\n",
              "    </tr>\n",
              "    <tr>\n",
              "      <th>伊藤</th>\n",
              "      <td>a001</td>\n",
              "      <td>2</td>\n",
              "    </tr>\n",
              "    <tr>\n",
              "      <th>鈴木</th>\n",
              "      <td>a001</td>\n",
              "      <td>3</td>\n",
              "    </tr>\n",
              "    <tr>\n",
              "      <th>佐藤</th>\n",
              "      <td>a001</td>\n",
              "      <td>4</td>\n",
              "    </tr>\n",
              "  </tbody>\n",
              "</table>\n",
              "</div>"
            ],
            "text/plain": [
              "     クラス  数学\n",
              "高橋  a001   1\n",
              "伊藤  a001   2\n",
              "鈴木  a001   3\n",
              "佐藤  a001   4"
            ]
          },
          "metadata": {},
          "execution_count": 38
        }
      ]
    },
    {
      "cell_type": "code",
      "metadata": {
        "colab": {
          "base_uri": "https://localhost:8080/",
          "height": 173
        },
        "id": "57qwoGe4I4DZ",
        "outputId": "9ac932fe-318b-474a-a910-24681c15e0dc"
      },
      "source": [
        "df02"
      ],
      "execution_count": 39,
      "outputs": [
        {
          "output_type": "execute_result",
          "data": {
            "text/html": [
              "<div>\n",
              "<style scoped>\n",
              "    .dataframe tbody tr th:only-of-type {\n",
              "        vertical-align: middle;\n",
              "    }\n",
              "\n",
              "    .dataframe tbody tr th {\n",
              "        vertical-align: top;\n",
              "    }\n",
              "\n",
              "    .dataframe thead th {\n",
              "        text-align: right;\n",
              "    }\n",
              "</style>\n",
              "<table border=\"1\" class=\"dataframe\">\n",
              "  <thead>\n",
              "    <tr style=\"text-align: right;\">\n",
              "      <th></th>\n",
              "      <th>氏名</th>\n",
              "      <th>クラス</th>\n",
              "      <th>国語</th>\n",
              "    </tr>\n",
              "  </thead>\n",
              "  <tbody>\n",
              "    <tr>\n",
              "      <th>0</th>\n",
              "      <td>高橋</td>\n",
              "      <td>a001</td>\n",
              "      <td>5</td>\n",
              "    </tr>\n",
              "    <tr>\n",
              "      <th>1</th>\n",
              "      <td>伊藤</td>\n",
              "      <td>a001</td>\n",
              "      <td>6</td>\n",
              "    </tr>\n",
              "    <tr>\n",
              "      <th>2</th>\n",
              "      <td>鈴木</td>\n",
              "      <td>a001</td>\n",
              "      <td>7</td>\n",
              "    </tr>\n",
              "    <tr>\n",
              "      <th>3</th>\n",
              "      <td>佐藤</td>\n",
              "      <td>a001</td>\n",
              "      <td>8</td>\n",
              "    </tr>\n",
              "  </tbody>\n",
              "</table>\n",
              "</div>"
            ],
            "text/plain": [
              "   氏名   クラス  国語\n",
              "0  高橋  a001   5\n",
              "1  伊藤  a001   6\n",
              "2  鈴木  a001   7\n",
              "3  佐藤  a001   8"
            ]
          },
          "metadata": {},
          "execution_count": 39
        }
      ]
    },
    {
      "cell_type": "code",
      "metadata": {
        "id": "OMa7u_iYI-TU"
      },
      "source": [
        ""
      ],
      "execution_count": 44,
      "outputs": []
    },
    {
      "cell_type": "code",
      "metadata": {
        "id": "n_uXXmMHJKON"
      },
      "source": [
        ""
      ],
      "execution_count": null,
      "outputs": []
    }
  ]
}